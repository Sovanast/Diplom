{
 "cells": [
  {
   "cell_type": "markdown",
   "metadata": {},
   "source": [
    "## Дипломный проект на курсе Data Science школа SkillFactory\n",
    "# «Модель прогнозирования стоимости жилья для агентства недвижимости»"
   ]
  },
  {
   "cell_type": "markdown",
   "metadata": {},
   "source": [
    "**Цель:** разработать модель, которая позволила бы агентству недвижимости обойти конкурентов по скорости и качеству совершения сделок."
   ]
  },
  {
   "cell_type": "markdown",
   "metadata": {},
   "source": [
    "**Поставленные задачи:**\n",
    "1. Провести разведывательный анализ и очистку исходных данных. Обратите внимание, что данные в таблице реальные: в результате во многих признаках присутствуют дублирующиеся категории, ошибки ввода, жаргонные сокращения и т .д. Вам предстоит отыскать закономерности, самостоятельно расшифровать все сокращения, найти синонимы в данных, обработать пропуски и удалить выбросы. \n",
    "2. Выделить наиболее значимые факторы, влияющие на стоимость недвижимости.\n",
    "3. Построить модель для прогнозирования стоимости недвижимости.\n",
    "4. Разработать небольшой веб-сервис, на вход которому поступают данные о некоторой выставленной на продажу недвижимости, а сервис прогнозирует его стоимость."
   ]
  },
  {
   "cell_type": "markdown",
   "metadata": {},
   "source": [
    "**Описание данных:**<br>\n",
    "<br>\n",
    "➔ 'status' — статус продажи;<br>\n",
    "➔ 'private pool' и 'PrivatePool' — наличие собственного бассейна;<br>\n",
    "➔ 'propertyType' — тип объекта недвижимости;<br>\n",
    "➔ 'street' — адрес объекта;<br>\n",
    "➔ 'baths' — количество ванных комнат;<br>\n",
    "➔ 'homeFacts' — сведения о строительстве объекта (содержит несколько\n",
    "типов сведений, влияющих на оценку объекта);<br>\n",
    "➔ 'fireplace' — наличие камина;<br>\n",
    "➔ 'city' — город;<br>\n",
    "➔ 'schools' — сведения о школах в районе;<br>\n",
    "➔ 'sqft' — площадь в футах;<br>\n",
    "➔ 'zipcode' — почтовый индекс;<br>\n",
    "➔ 'beds' — количество спален;<br>\n",
    "➔ 'state' — штат;<br>\n",
    "➔ 'stories' — количество этажей;<br>\n",
    "➔ 'mls-id' и 'MlsId' — идентификатор MLS (Multiple Listing Service, система\n",
    "мультилистинга);<br><br>\n",
    "\n",
    "➔ **'target'** — цена объекта недвижимости (целевой признак, который\n",
    "необходимо спрогнозировать)."
   ]
  },
  {
   "cell_type": "code",
   "execution_count": 207,
   "metadata": {},
   "outputs": [],
   "source": [
    "# подключаем необходимые библиотеки\n",
    "import numpy as np \n",
    "import pandas as pd\n",
    "import matplotlib.pyplot as plt\n",
    "import seaborn as sns \n",
    "import re"
   ]
  },
  {
   "cell_type": "code",
   "execution_count": 208,
   "metadata": {},
   "outputs": [],
   "source": [
    "# зафиусируем RANDOM_SEED\n",
    "RANDOM_SEED = 45"
   ]
  },
  {
   "cell_type": "code",
   "execution_count": 209,
   "metadata": {},
   "outputs": [],
   "source": [
    "# зафиксируем версию пакетов\n",
    "!pip freeze > requirements.txt"
   ]
  },
  {
   "cell_type": "markdown",
   "metadata": {},
   "source": [
    "## 1. Разведывательный анализ и очистка исходных данных."
   ]
  },
  {
   "cell_type": "code",
   "execution_count": 210,
   "metadata": {},
   "outputs": [
    {
     "data": {
      "text/html": [
       "<div>\n",
       "<style scoped>\n",
       "    .dataframe tbody tr th:only-of-type {\n",
       "        vertical-align: middle;\n",
       "    }\n",
       "\n",
       "    .dataframe tbody tr th {\n",
       "        vertical-align: top;\n",
       "    }\n",
       "\n",
       "    .dataframe thead th {\n",
       "        text-align: right;\n",
       "    }\n",
       "</style>\n",
       "<table border=\"1\" class=\"dataframe\">\n",
       "  <thead>\n",
       "    <tr style=\"text-align: right;\">\n",
       "      <th></th>\n",
       "      <th>status</th>\n",
       "      <th>private pool</th>\n",
       "      <th>propertyType</th>\n",
       "      <th>street</th>\n",
       "      <th>baths</th>\n",
       "      <th>homeFacts</th>\n",
       "      <th>fireplace</th>\n",
       "      <th>city</th>\n",
       "      <th>schools</th>\n",
       "      <th>sqft</th>\n",
       "      <th>zipcode</th>\n",
       "      <th>beds</th>\n",
       "      <th>state</th>\n",
       "      <th>stories</th>\n",
       "      <th>mls-id</th>\n",
       "      <th>PrivatePool</th>\n",
       "      <th>MlsId</th>\n",
       "      <th>target</th>\n",
       "    </tr>\n",
       "  </thead>\n",
       "  <tbody>\n",
       "    <tr>\n",
       "      <th>0</th>\n",
       "      <td>Active</td>\n",
       "      <td>NaN</td>\n",
       "      <td>Single Family Home</td>\n",
       "      <td>240 Heather Ln</td>\n",
       "      <td>3.5</td>\n",
       "      <td>{'atAGlanceFacts': [{'factValue': '2019', 'fac...</td>\n",
       "      <td>Gas Logs</td>\n",
       "      <td>Southern Pines</td>\n",
       "      <td>[{'rating': ['4', '4', '7', 'NR', '4', '7', 'N...</td>\n",
       "      <td>2900</td>\n",
       "      <td>28387</td>\n",
       "      <td>4</td>\n",
       "      <td>NC</td>\n",
       "      <td>NaN</td>\n",
       "      <td>NaN</td>\n",
       "      <td>NaN</td>\n",
       "      <td>611019</td>\n",
       "      <td>$418,000</td>\n",
       "    </tr>\n",
       "    <tr>\n",
       "      <th>1</th>\n",
       "      <td>for sale</td>\n",
       "      <td>NaN</td>\n",
       "      <td>single-family home</td>\n",
       "      <td>12911 E Heroy Ave</td>\n",
       "      <td>3 Baths</td>\n",
       "      <td>{'atAGlanceFacts': [{'factValue': '2019', 'fac...</td>\n",
       "      <td>NaN</td>\n",
       "      <td>Spokane Valley</td>\n",
       "      <td>[{'rating': ['4/10', 'None/10', '4/10'], 'data...</td>\n",
       "      <td>1,947 sqft</td>\n",
       "      <td>99216</td>\n",
       "      <td>3 Beds</td>\n",
       "      <td>WA</td>\n",
       "      <td>2.0</td>\n",
       "      <td>NaN</td>\n",
       "      <td>NaN</td>\n",
       "      <td>201916904</td>\n",
       "      <td>$310,000</td>\n",
       "    </tr>\n",
       "    <tr>\n",
       "      <th>2</th>\n",
       "      <td>for sale</td>\n",
       "      <td>NaN</td>\n",
       "      <td>single-family home</td>\n",
       "      <td>2005 Westridge Rd</td>\n",
       "      <td>2 Baths</td>\n",
       "      <td>{'atAGlanceFacts': [{'factValue': '1961', 'fac...</td>\n",
       "      <td>yes</td>\n",
       "      <td>Los Angeles</td>\n",
       "      <td>[{'rating': ['8/10', '4/10', '8/10'], 'data': ...</td>\n",
       "      <td>3,000 sqft</td>\n",
       "      <td>90049</td>\n",
       "      <td>3 Beds</td>\n",
       "      <td>CA</td>\n",
       "      <td>1.0</td>\n",
       "      <td>NaN</td>\n",
       "      <td>yes</td>\n",
       "      <td>FR19221027</td>\n",
       "      <td>$2,895,000</td>\n",
       "    </tr>\n",
       "    <tr>\n",
       "      <th>3</th>\n",
       "      <td>for sale</td>\n",
       "      <td>NaN</td>\n",
       "      <td>single-family home</td>\n",
       "      <td>4311 Livingston Ave</td>\n",
       "      <td>8 Baths</td>\n",
       "      <td>{'atAGlanceFacts': [{'factValue': '2006', 'fac...</td>\n",
       "      <td>yes</td>\n",
       "      <td>Dallas</td>\n",
       "      <td>[{'rating': ['9/10', '9/10', '10/10', '9/10'],...</td>\n",
       "      <td>6,457 sqft</td>\n",
       "      <td>75205</td>\n",
       "      <td>5 Beds</td>\n",
       "      <td>TX</td>\n",
       "      <td>3.0</td>\n",
       "      <td>NaN</td>\n",
       "      <td>NaN</td>\n",
       "      <td>14191809</td>\n",
       "      <td>$2,395,000</td>\n",
       "    </tr>\n",
       "    <tr>\n",
       "      <th>4</th>\n",
       "      <td>for sale</td>\n",
       "      <td>NaN</td>\n",
       "      <td>lot/land</td>\n",
       "      <td>1524 Kiscoe St</td>\n",
       "      <td>NaN</td>\n",
       "      <td>{'atAGlanceFacts': [{'factValue': '', 'factLab...</td>\n",
       "      <td>NaN</td>\n",
       "      <td>Palm Bay</td>\n",
       "      <td>[{'rating': ['4/10', '5/10', '5/10'], 'data': ...</td>\n",
       "      <td>NaN</td>\n",
       "      <td>32908</td>\n",
       "      <td>NaN</td>\n",
       "      <td>FL</td>\n",
       "      <td>NaN</td>\n",
       "      <td>NaN</td>\n",
       "      <td>NaN</td>\n",
       "      <td>861745</td>\n",
       "      <td>$5,000</td>\n",
       "    </tr>\n",
       "  </tbody>\n",
       "</table>\n",
       "</div>"
      ],
      "text/plain": [
       "     status private pool        propertyType               street    baths  \\\n",
       "0    Active          NaN  Single Family Home       240 Heather Ln      3.5   \n",
       "1  for sale          NaN  single-family home    12911 E Heroy Ave  3 Baths   \n",
       "2  for sale          NaN  single-family home    2005 Westridge Rd  2 Baths   \n",
       "3  for sale          NaN  single-family home  4311 Livingston Ave  8 Baths   \n",
       "4  for sale          NaN            lot/land       1524 Kiscoe St      NaN   \n",
       "\n",
       "                                           homeFacts fireplace  \\\n",
       "0  {'atAGlanceFacts': [{'factValue': '2019', 'fac...  Gas Logs   \n",
       "1  {'atAGlanceFacts': [{'factValue': '2019', 'fac...       NaN   \n",
       "2  {'atAGlanceFacts': [{'factValue': '1961', 'fac...       yes   \n",
       "3  {'atAGlanceFacts': [{'factValue': '2006', 'fac...       yes   \n",
       "4  {'atAGlanceFacts': [{'factValue': '', 'factLab...       NaN   \n",
       "\n",
       "             city                                            schools  \\\n",
       "0  Southern Pines  [{'rating': ['4', '4', '7', 'NR', '4', '7', 'N...   \n",
       "1  Spokane Valley  [{'rating': ['4/10', 'None/10', '4/10'], 'data...   \n",
       "2     Los Angeles  [{'rating': ['8/10', '4/10', '8/10'], 'data': ...   \n",
       "3          Dallas  [{'rating': ['9/10', '9/10', '10/10', '9/10'],...   \n",
       "4        Palm Bay  [{'rating': ['4/10', '5/10', '5/10'], 'data': ...   \n",
       "\n",
       "         sqft zipcode    beds state stories mls-id PrivatePool       MlsId  \\\n",
       "0        2900   28387       4    NC     NaN    NaN         NaN      611019   \n",
       "1  1,947 sqft   99216  3 Beds    WA     2.0    NaN         NaN   201916904   \n",
       "2  3,000 sqft   90049  3 Beds    CA     1.0    NaN         yes  FR19221027   \n",
       "3  6,457 sqft   75205  5 Beds    TX     3.0    NaN         NaN    14191809   \n",
       "4         NaN   32908     NaN    FL     NaN    NaN         NaN      861745   \n",
       "\n",
       "       target  \n",
       "0    $418,000  \n",
       "1    $310,000  \n",
       "2  $2,895,000  \n",
       "3  $2,395,000  \n",
       "4      $5,000  "
      ]
     },
     "execution_count": 210,
     "metadata": {},
     "output_type": "execute_result"
    }
   ],
   "source": [
    "df = pd.read_csv(r'D:\\Diplom\\data.csv')\n",
    "df.head()"
   ]
  },
  {
   "cell_type": "code",
   "execution_count": 211,
   "metadata": {},
   "outputs": [
    {
     "name": "stdout",
     "output_type": "stream",
     "text": [
      "<class 'pandas.core.frame.DataFrame'>\n",
      "RangeIndex: 377185 entries, 0 to 377184\n",
      "Data columns (total 18 columns):\n",
      " #   Column        Non-Null Count   Dtype \n",
      "---  ------        --------------   ----- \n",
      " 0   status        337267 non-null  object\n",
      " 1   private pool  4181 non-null    object\n",
      " 2   propertyType  342452 non-null  object\n",
      " 3   street        377183 non-null  object\n",
      " 4   baths         270847 non-null  object\n",
      " 5   homeFacts     377185 non-null  object\n",
      " 6   fireplace     103114 non-null  object\n",
      " 7   city          377151 non-null  object\n",
      " 8   schools       377185 non-null  object\n",
      " 9   sqft          336608 non-null  object\n",
      " 10  zipcode       377185 non-null  object\n",
      " 11  beds          285903 non-null  object\n",
      " 12  state         377185 non-null  object\n",
      " 13  stories       226469 non-null  object\n",
      " 14  mls-id        24942 non-null   object\n",
      " 15  PrivatePool   40311 non-null   object\n",
      " 16  MlsId         310305 non-null  object\n",
      " 17  target        374704 non-null  object\n",
      "dtypes: object(18)\n",
      "memory usage: 51.8+ MB\n"
     ]
    }
   ],
   "source": [
    "# информация о данных\n",
    "df.info()"
   ]
  },
  {
   "cell_type": "code",
   "execution_count": 212,
   "metadata": {},
   "outputs": [
    {
     "name": "stdout",
     "output_type": "stream",
     "text": [
      "Количество строк в базе данных: 377185\n"
     ]
    }
   ],
   "source": [
    "count_rows = df.shape[0]\n",
    "print(f'Количество строк в базе данных: {count_rows}')"
   ]
  },
  {
   "cell_type": "markdown",
   "metadata": {},
   "source": [
    "В базе данных 377185 строк и 17 признаков + столбец таргета. Все данные типа object. Практически во всех столбцах имеются пустые значения.<br>\n",
    "Первоначально удалим полные дубликаты строк если они имеются."
   ]
  },
  {
   "cell_type": "markdown",
   "metadata": {},
   "source": [
    "### Поиск и удаление дубликатов"
   ]
  },
  {
   "cell_type": "code",
   "execution_count": 213,
   "metadata": {},
   "outputs": [
    {
     "name": "stdout",
     "output_type": "stream",
     "text": [
      "Удалено дубликатов: 50\n"
     ]
    }
   ],
   "source": [
    "#удаляем дубликаты строк\n",
    "df = df.drop_duplicates(ignore_index=True)\n",
    "\n",
    "# посчитаем количество удаленных дубликатов\n",
    "duplicate_rows = count_rows - df.shape[0]\n",
    "print(f'Удалено дубликатов: {duplicate_rows}')"
   ]
  },
  {
   "cell_type": "markdown",
   "metadata": {},
   "source": [
    "### Исследование пустых значений"
   ]
  },
  {
   "cell_type": "code",
   "execution_count": 214,
   "metadata": {},
   "outputs": [
    {
     "data": {
      "text/plain": [
       "status          10.584274\n",
       "private pool    98.891378\n",
       "propertyType     9.209699\n",
       "street           0.000530\n",
       "baths           28.188315\n",
       "homeFacts        0.000000\n",
       "fireplace       72.659393\n",
       "city             0.009015\n",
       "schools          0.000000\n",
       "sqft            10.752118\n",
       "zipcode          0.000000\n",
       "beds            24.196640\n",
       "state            0.000000\n",
       "stories         39.952272\n",
       "mls-id          93.386453\n",
       "PrivatePool     89.311520\n",
       "MlsId           17.730786\n",
       "target           0.657589\n",
       "dtype: float64"
      ]
     },
     "execution_count": 214,
     "metadata": {},
     "output_type": "execute_result"
    }
   ],
   "source": [
    "df.isnull().mean() * 100"
   ]
  },
  {
   "cell_type": "markdown",
   "metadata": {},
   "source": [
    "Столбцы mls-id и MlsId это внутренние риэлторские метки, не влияющими на стоимости недвижимости, поэтому данные столбцы можно удалить."
   ]
  },
  {
   "cell_type": "code",
   "execution_count": 215,
   "metadata": {},
   "outputs": [],
   "source": [
    "# Удаляем столбцы MlsId и mls-id\n",
    "df = df.drop(['MlsId', 'mls-id'], axis=1)"
   ]
  },
  {
   "cell_type": "markdown",
   "metadata": {},
   "source": [
    "### Данные в столбцах private pool и PrivatePool, stories и fireplace"
   ]
  },
  {
   "cell_type": "markdown",
   "metadata": {},
   "source": [
    "Больше всего пропусков в столбцах: PrivatePool и private pool, > 89%. Т.к. смысловая нагрузка у столбцов одинаковая объединим их, при этом будем считать пропуски в них как отсутствие бассейна."
   ]
  },
  {
   "cell_type": "code",
   "execution_count": 216,
   "metadata": {},
   "outputs": [
    {
     "name": "stdout",
     "output_type": "stream",
     "text": [
      "[nan 'Yes']\n",
      "[nan 'yes' 'Yes']\n"
     ]
    }
   ],
   "source": [
    "# проверим какие данные находятся в столбцах\n",
    "print(df['private pool'].unique())\n",
    "print(df['PrivatePool'].unique())\n",
    "\n",
    "# объеденим данные столбцов private pool и PrivatePool и поместим их в новый столбец private_pool_all, меняем данные на булевые переменные\n",
    "df['private_pool_all'] = df['private pool'].fillna('') + df['PrivatePool'].fillna('')\n",
    "df['private_pool_all'] = df['private_pool_all'].replace(['yes', 'Yes'], True)\n",
    "df['private_pool_all'] = df['private_pool_all'].replace('', False)\n",
    "# проеверим новый столбец на уникальность данных\n",
    "df['private_pool_all'].unique()\n",
    "# удаляем столбцы private pool и PrivatePool \n",
    "df = df.drop(['private pool', 'PrivatePool'], axis=1)"
   ]
  },
  {
   "cell_type": "markdown",
   "metadata": {},
   "source": [
    "Столбец fireplace заполнен данными чуть более чем на четверть. Пустота столбца составляет 73%. Проверим содержание столбца."
   ]
  },
  {
   "cell_type": "code",
   "execution_count": 217,
   "metadata": {},
   "outputs": [
    {
     "data": {
      "text/plain": [
       "fireplace\n",
       "yes                                                                     50353\n",
       "Yes                                                                     20856\n",
       "1                                                                       14544\n",
       "2                                                                        2432\n",
       "Not Applicable                                                           1993\n",
       "                                                                        ...  \n",
       "Free-standing, Insert, Wood                                                 1\n",
       "Wood Burning, Attached Fireplace Doors/Screen, Electric, Gas Starter        1\n",
       "One, Living Room                                                            1\n",
       "FAMILYRM, Great Room, Living Room                                           1\n",
       "Ceiling Fan, SMAPL, Utility Connection, Walk-In Closets                     1\n",
       "Name: count, Length: 1652, dtype: int64"
      ]
     },
     "execution_count": 217,
     "metadata": {},
     "output_type": "execute_result"
    }
   ],
   "source": [
    "df['fireplace'].value_counts()"
   ]
  },
  {
   "cell_type": "markdown",
   "metadata": {},
   "source": [
    "Очевидно что в столбец \"наличие камина\" (fireplace), записано много общей информации по объекту (наличие инженерных сетей, гардеробных, лес и т.д.). При этом уникальных записей в столбце 1652 и очень велика доля пустых значений (73%). Поэтому считаем, что данныей столбец не информативен, что позволяет нам его удалить. <br>"
   ]
  },
  {
   "cell_type": "markdown",
   "metadata": {},
   "source": [
    "В столбце количества этажей (stories) 40% данных отсутствует, определить её не представляется возможным, придется так же удалить данный столбец.<br>"
   ]
  },
  {
   "cell_type": "code",
   "execution_count": 218,
   "metadata": {},
   "outputs": [],
   "source": [
    "df = df.drop(['stories', 'fireplace'], axis=1)"
   ]
  },
  {
   "cell_type": "markdown",
   "metadata": {},
   "source": [
    "### Пропуски и обработка столбца beds."
   ]
  },
  {
   "cell_type": "code",
   "execution_count": 219,
   "metadata": {},
   "outputs": [
    {
     "data": {
      "text/plain": [
       "beds\n",
       "3 Beds         53454\n",
       "4 Beds         35412\n",
       "3              31405\n",
       "2 Beds         26355\n",
       "4              20030\n",
       "               ...  \n",
       "8,023 sqft         1\n",
       "10,193 sqft        1\n",
       "8.93 acres         1\n",
       "5,510 sqft         1\n",
       "8,479 sqft         1\n",
       "Name: count, Length: 1184, dtype: int64"
      ]
     },
     "execution_count": 219,
     "metadata": {},
     "output_type": "execute_result"
    }
   ],
   "source": [
    "#Проверим данные в столбце\n",
    "df['beds'].value_counts()"
   ]
  },
  {
   "cell_type": "markdown",
   "metadata": {},
   "source": [
    "Анализируя данные в столбце становится видно, что они имеют данные из других столбцов типа sqft. Постараемся их сохронить и при возможности учесть их при обработке этих столбцов. Для этого запишем их в другой столбец."
   ]
  },
  {
   "cell_type": "code",
   "execution_count": 220,
   "metadata": {},
   "outputs": [],
   "source": [
    "df['sqft_from_beds'] = df['beds'].str.extract(r'(\\d+,\\d+)\\s+sqft', expand=False)\n",
    "df['acres_from_beds'] = df['beds'].str.extract(r'([\\d.]+)\\s+acres', expand=False)"
   ]
  },
  {
   "cell_type": "code",
   "execution_count": 221,
   "metadata": {},
   "outputs": [
    {
     "name": "stdout",
     "output_type": "stream",
     "text": [
      "Пустых строк в столбце beds_all: 0.0 %\n"
     ]
    }
   ],
   "source": [
    "# Удаляем перенесенные данные\n",
    "df['beds'] = df['beds'].str.replace(r'(\\d+,\\d+)\\s+sqft', '', regex=True)\n",
    "df['beds'] = df['beds'].str.replace(r'([\\d.]+)\\s+acres', '', regex=True)\n",
    "\n",
    "# Преобразуем некоторые значения в общий вид\n",
    "df['beds'] = df['beds'].replace(['1 Bath, 2 Bedrooms, Cable TV Available, Dining Room, Eat-In Kitchen, Living Room', '1 Bath, 2 Bedrooms, Living Room, Range/Oven, Refrigerator', '1 Bath, 2 Bedrooms', '1 Bath, 2 Bedrooms, Eat-In Kitchen, Living Room, Range/Oven, Refrigerator'], 2)\n",
    "df['beds'] = df['beds'].replace(['1 Bath, 3 or More Bedrooms, Cable TV Available, Dining Room, Eat-In Kitchen, Living Room, Range/Oven, Refrigerator', '3 or More Bedrooms, Dining Room, Living Room, Range/Oven, Refrigerator', '3 or More Bedrooms', '2 Baths, 3 or More Bedrooms'], 3)\n",
    "df['beds'] = df['beds'].replace([\"Based on Redfin's St Johns data, we estimate the home's value is $360,731, which is 2.2% less than its current list price.\", \"Based on Redfin's Raleigh data, we estimate the home's value is $708,248, which is 1.2% more than its current list price.\", '-- bd', '-- sqft', '4 sqft', '60 sqft', '1 acre', '840 sqft', '540 sqft', '100 sqft', '871 sqft', '640 sqft', '831 sqft', '448 sqft', '248 sqft', '# Bedrooms 1st Floor'], 0)\n",
    "\n",
    "# Выделим из имеющихся данных числа и приведем их в \"нормальный\" вид\n",
    "df['beds_a1'] = df['beds'].str.extract(r'(\\d+)\\s*(?:Beds|bd)', expand=False)\n",
    "df['beds_a2'] = df['beds'].str.extract(r'(\\d+\\.\\d+|\\d+)')\n",
    "\n",
    "# Создаем столбец в котором данные из beds_a1 b beds_a2  будут объеденены, а пропуски заполнены 0\n",
    "df['beds_all'] = df['beds_a1'].fillna(0)\n",
    "df['beds_all'] = df['beds_a2'].fillna(0)\n",
    "\n",
    "# Проверим данные на пустые строки\n",
    "beds_nulldata = df['beds_all'].isnull().mean()*100\n",
    "print(f'Пустых строк в столбце beds_all: {beds_nulldata} %')\n",
    "\n",
    "# Изменим тип данных для удобной обработки их в дальнейшем\n",
    "df['beds_all'] = df['beds_all'].astype(float)\n",
    "\n",
    "# Удалим столбцы beds, beds_a1 и beds_a2 (дабы не захламлять данные)\n",
    "df = df.drop(['beds_a1', 'beds_a2', 'beds'], axis=1)"
   ]
  },
  {
   "cell_type": "markdown",
   "metadata": {},
   "source": [
    "### Пропуски и обработка столбца sqft."
   ]
  },
  {
   "cell_type": "code",
   "execution_count": 222,
   "metadata": {},
   "outputs": [
    {
     "data": {
      "text/plain": [
       "sqft\n",
       "0                                          11854\n",
       "1,200 sqft                                   839\n",
       "1,000 sqft                                   654\n",
       "1,100 sqft                                   573\n",
       "1,800 sqft                                   563\n",
       "                                           ...  \n",
       "9,914                                          1\n",
       "Total interior livable area: 3,055 sqft        1\n",
       "5,177                                          1\n",
       "11620                                          1\n",
       "Total interior livable area: 4,615 sqft        1\n",
       "Name: count, Length: 25405, dtype: int64"
      ]
     },
     "execution_count": 222,
     "metadata": {},
     "output_type": "execute_result"
    }
   ],
   "source": [
    "# посмотрим на данные в столбце\n",
    "df['sqft'].value_counts()"
   ]
  },
  {
   "cell_type": "code",
   "execution_count": 223,
   "metadata": {},
   "outputs": [
    {
     "name": "stdout",
     "output_type": "stream",
     "text": [
      "Процент пустых строк в столбце: 10.75 %\n"
     ]
    }
   ],
   "source": [
    "# Проверим содержание столбца на пустые строки\n",
    "sqft_isnulldata = df['sqft'].isnull().mean()*100\n",
    "print(f'Процент пустых строк в столбце: {sqft_isnulldata:.2f} %')"
   ]
  },
  {
   "cell_type": "code",
   "execution_count": 224,
   "metadata": {},
   "outputs": [
    {
     "name": "stdout",
     "output_type": "stream",
     "text": [
      "Количество пустых строк sqft: 41370\n"
     ]
    }
   ],
   "source": [
    "# Уберем лишние значения и оставим только целочисленные\n",
    "df['sqft'] = df['sqft'].str.replace(',', '').str.extract('(\\d+)')\n",
    "\n",
    "# Проверим соделжание столбца на пустые строки\n",
    "sqft_dataisnull = df['sqft'].isnull().sum()\n",
    "print(f'Количество пустых строк sqft: {sqft_dataisnull}')"
   ]
  },
  {
   "cell_type": "markdown",
   "metadata": {},
   "source": [
    "Пытаемся дополнить данные в столбце sqft из столбцов sqft_from_beds и acres_from_beds"
   ]
  },
  {
   "cell_type": "code",
   "execution_count": 225,
   "metadata": {},
   "outputs": [
    {
     "name": "stdout",
     "output_type": "stream",
     "text": [
      "Количество пустых строк в столбце после дополнения: 40049\n"
     ]
    }
   ],
   "source": [
    "# Удаляем лишние знаки\n",
    "df['sqft_from_beds'] = df['sqft_from_beds'].replace(',', '', regex=True)\n",
    "\n",
    "# Дополняем столбец данными из sqft_from_beds\n",
    "df['sqft'] = df['sqft'].fillna(df['sqft_from_beds'])\n",
    "\n",
    "# Проверим содержание столбца на пустые строки теперь стало\n",
    "sqft_dataisnull_1 = df['sqft'].isnull().sum()\n",
    "print(f'Количество пустых строк в столбце после дополнения: {sqft_dataisnull_1}')"
   ]
  },
  {
   "cell_type": "code",
   "execution_count": 226,
   "metadata": {},
   "outputs": [
    {
     "data": {
      "text/plain": [
       "acres_from_beds\n",
       "0.34    40\n",
       "0.28    39\n",
       "0.26    32\n",
       "0.29    31\n",
       "1.03    30\n",
       "        ..\n",
       "2.44     1\n",
       "4.77     1\n",
       "1.66     1\n",
       "2.68     1\n",
       "1.74     1\n",
       "Name: count, Length: 446, dtype: int64"
      ]
     },
     "execution_count": 226,
     "metadata": {},
     "output_type": "execute_result"
    }
   ],
   "source": [
    "# Посмотрим содержание столбца\n",
    "df['acres_from_beds'].value_counts()"
   ]
  },
  {
   "cell_type": "code",
   "execution_count": 227,
   "metadata": {},
   "outputs": [
    {
     "name": "stdout",
     "output_type": "stream",
     "text": [
      "Количествопустых строк в столбце после второго дополнения: 38458\n"
     ]
    }
   ],
   "source": [
    "# Создадим новый столбец в котором будет записано числовое значение перевода акров в футы (1 акр = 43560 футов кв.)\n",
    "df['acres_from_beds'] = df['acres_from_beds'].astype(float)\n",
    "df['acres_from_beds_ft'] = df['acres_from_beds'] * 43560\n",
    "\n",
    "# Дополняем столбец данными из acres_from_beds_ft\n",
    "df['sqft'] = df['sqft'].fillna(df['acres_from_beds_ft'])\n",
    "\n",
    "# Проверим содержание столбца на пустые строки теперь стало\n",
    "sqft_dataisnull_2 = df['sqft'].isnull().sum()\n",
    "print(f'Количествопустых строк в столбце после второго дополнения: {sqft_dataisnull_2}')"
   ]
  },
  {
   "cell_type": "code",
   "execution_count": 228,
   "metadata": {},
   "outputs": [],
   "source": [
    "# Заполним пустые строки значением 0\n",
    "df['sqft'] = df['sqft'].fillna(0)\n",
    "\n",
    "# Изменим тип данных для удобства дальнейшей их обработки\n",
    "df['sqft'] = df['sqft'].astype(int)\n",
    "\n",
    "# Удалим отработанные столбцы sqft_from_beds, acres_from_beds и acres_from_beds_ft\n",
    "df = df.drop(['sqft_from_beds', 'acres_from_beds', 'acres_from_beds_ft'], axis=1)"
   ]
  },
  {
   "cell_type": "markdown",
   "metadata": {},
   "source": [
    "### Пропуски и обработка столбца baths."
   ]
  },
  {
   "cell_type": "code",
   "execution_count": 229,
   "metadata": {},
   "outputs": [
    {
     "data": {
      "text/plain": [
       "baths\n",
       "2 Baths       52458\n",
       "3 Baths       35503\n",
       "2             20452\n",
       "2.0           16575\n",
       "4 Baths       14763\n",
       "              ...  \n",
       "4.75 Baths        1\n",
       "5.25 Baths        1\n",
       "41.0              1\n",
       "1.8 Baths         1\n",
       "44.0              1\n",
       "Name: count, Length: 229, dtype: int64"
      ]
     },
     "execution_count": 229,
     "metadata": {},
     "output_type": "execute_result"
    }
   ],
   "source": [
    "# посмотрим на данные в столбце\n",
    "df['baths'].value_counts()"
   ]
  },
  {
   "cell_type": "code",
   "execution_count": 230,
   "metadata": {},
   "outputs": [
    {
     "name": "stdout",
     "output_type": "stream",
     "text": [
      "Процент пустых строк в столбце: 28.19 %\n"
     ]
    }
   ],
   "source": [
    "# Проверим содержание столбца на пустые строки\n",
    "baths_isnulldata = df['baths'].isnull().mean()*100\n",
    "print(f'Процент пустых строк в столбце: {baths_isnulldata:.2f} %')"
   ]
  },
  {
   "cell_type": "code",
   "execution_count": 231,
   "metadata": {},
   "outputs": [
    {
     "data": {
      "text/plain": [
       "baths\n",
       "0.0     126124\n",
       "2.0     101714\n",
       "3.0      64992\n",
       "4.0      26042\n",
       "1.0      16503\n",
       "         ...  \n",
       "14.5         1\n",
       "25.0         1\n",
       "55.0         1\n",
       "76.0         1\n",
       "68.0         1\n",
       "Name: count, Length: 83, dtype: int64"
      ]
     },
     "execution_count": 231,
     "metadata": {},
     "output_type": "execute_result"
    }
   ],
   "source": [
    "# Приведем данные к единому виду, удалим из данных буквы и пробелы\n",
    "df['baths'] = df['baths'].str.replace('[a-zA-Z+:]','', regex=True)\n",
    "df['baths'] = df['baths'].replace(['~', '0 / 0', '. . ', '-- ', '—'], 0)\n",
    "df['baths'] = df['baths'].replace(['1 / 1-0 / 1-0 / 1-0','1-0 / 1-0 / 1', '1 / 1 / 1 / 1', '1-2 ', '1,000'], 1)\n",
    "df['baths'] = df['baths'].replace(['2-1 / 2-1 / 1-1 / 1-1', '2,000'], 2)\n",
    "df['baths'] = df['baths'].replace(['3-1 / 2-2', '3,000'], 3)\n",
    "df['baths'] = df['baths'].replace('116 / 116 / 116', 116)\n",
    "df['baths'] = df['baths'].replace('7,500', 7.5)\n",
    "df['baths'] = df['baths'].replace('5,000', 5)\n",
    "df['baths'] = df['baths'].replace('3,500', 3.5)\n",
    "df['baths'] = df['baths'].replace('2,250', 2.25)\n",
    "df['baths'] = df['baths'].replace('1,250', 1.25)\n",
    "df['baths'] = df['baths'].replace('2,500', 2.5)\n",
    "df['baths'] = df['baths'].replace('2,750', 2.75)\n",
    "df['baths'] = df['baths'].replace('4,000', 4)\n",
    "df['baths'] = df['baths'].replace('1,750', 1.75)\n",
    "df['baths'] = df['baths'].replace('1,500', 1.5)\n",
    "\n",
    "# Удалим значения которые не являются числом\n",
    "df['baths'] = df['baths'].str.extract(r'(\\d+\\.\\d+|\\d+)')\n",
    "\n",
    "# Заполним пропуски 0 \n",
    "df['baths'] = df['baths'].fillna(0)\n",
    "\n",
    "# Изменим тип данных для удобства дальнейшей их обработки\n",
    "df['baths'] = df['baths'].astype(float)\n",
    "\n",
    "df['baths'].value_counts()"
   ]
  },
  {
   "cell_type": "markdown",
   "metadata": {},
   "source": [
    "### Пропуски и обработка столбца city."
   ]
  },
  {
   "cell_type": "code",
   "execution_count": 232,
   "metadata": {},
   "outputs": [
    {
     "data": {
      "text/plain": [
       "city\n",
       "Houston            24441\n",
       "San Antonio        15592\n",
       "Miami              15524\n",
       "Jacksonville       10015\n",
       "Dallas              8855\n",
       "                   ...  \n",
       "New Albany             1\n",
       "Los Altos Hills        1\n",
       "Lake worth             1\n",
       "Lisle                  1\n",
       "Blue Springs           1\n",
       "Name: count, Length: 2026, dtype: int64"
      ]
     },
     "execution_count": 232,
     "metadata": {},
     "output_type": "execute_result"
    }
   ],
   "source": [
    "# Посмотрим на данные в столбце\n",
    "df['city'].value_counts()"
   ]
  },
  {
   "cell_type": "code",
   "execution_count": 233,
   "metadata": {},
   "outputs": [
    {
     "name": "stdout",
     "output_type": "stream",
     "text": [
      "0         False\n",
      "1         False\n",
      "2         False\n",
      "3         False\n",
      "4         False\n",
      "          ...  \n",
      "377130    False\n",
      "377131    False\n",
      "377132    False\n",
      "377133    False\n",
      "377134    False\n",
      "Name: city, Length: 377135, dtype: bool\n"
     ]
    }
   ],
   "source": [
    "# найдем пустые строки в столбце city\n",
    "city_isnulldata = df['city'].isnull()\n",
    "print(city_isnulldata)"
   ]
  },
  {
   "cell_type": "markdown",
   "metadata": {},
   "source": [
    "При анализе данных в столбце city выявлено небольшое количество отсутствующих данных. При этом в предоставленной базе данныех имеется полная информация о почтовом индексе - из которой можно найти город.\n",
    "Найдем список индексов в нашей базе данных у которых нет городов  "
   ]
  },
  {
   "cell_type": "code",
   "execution_count": 234,
   "metadata": {},
   "outputs": [
    {
     "data": {
      "text/plain": [
       "zipcode\n",
       "78045    6\n",
       "34747    4\n",
       "34474    3\n",
       "33955    3\n",
       "32686    2\n",
       "34432    2\n",
       "34481    2\n",
       "32179    2\n",
       "38732    1\n",
       "33126    1\n",
       "34744    1\n",
       "34741    1\n",
       "34488    1\n",
       "34473    1\n",
       "32668    1\n",
       "33954    1\n",
       "20003    1\n",
       "77032    1\n",
       "Name: count, dtype: int64"
      ]
     },
     "execution_count": 234,
     "metadata": {},
     "output_type": "execute_result"
    }
   ],
   "source": [
    "df[city_isnulldata]['zipcode'].value_counts()"
   ]
  },
  {
   "cell_type": "markdown",
   "metadata": {},
   "source": [
    "Список отсутствующих городов не так уж и велик. Пробуем восстановить информацию из столбца zipcode вручную. "
   ]
  },
  {
   "cell_type": "code",
   "execution_count": 235,
   "metadata": {},
   "outputs": [
    {
     "name": "stdout",
     "output_type": "stream",
     "text": [
      "Процент пропущенных строк в столбце city: 0.00 %\n"
     ]
    }
   ],
   "source": [
    "zipcode_city_list = {'20003':'Washington', '32179':'Ocklawaha', '32668':'Morriston', '32686':'Reddick', '33126':'Miami', '33954':'Port Charlotte',\n",
    "                     '33955':'Punta Gorda', '34432':'Dunnellon','34473':'Ocala', '34474':'Ocala', '34481':'Ocala', '34488':'Silver Springs',\n",
    "                     '34741':'KISSIMMEE', '34744':'Kissimmee', '34747':'Kissimmee\t', '38732':'Cleveland', '77032':'Houston', '78045':'Laredo'}\n",
    "# Перебираем значения с отсутствующими городами и сверяем с имеющимся списком \n",
    "def find_city (zipcode):\n",
    "    if zipcode in zipcode_city_list:\n",
    "        return zipcode_city_list[zipcode]\n",
    "    else:\n",
    "        return None  # если zipcode не найден, возвращаем None\n",
    "\n",
    "df['city_add'] = df['zipcode'].apply(find_city)\n",
    "\n",
    "# применяем функцию к столбцу 'zipcode' и записываем результаты в столбец 'city_add'\n",
    "df['city_add'] = df['zipcode'].apply(find_city)\n",
    "\n",
    "# Дополняем данные в столбце city данными из столбца city_add\n",
    "df['city'].fillna(df['city_add'], inplace=True)\n",
    "\n",
    "# Проверяем столбец на наличие пустых строк\n",
    "city_isnulldata_new = df['city'].isnull().mean()*100\n",
    "print(f'Процент пропущенных строк в столбце city: {city_isnulldata_new:.2f} %')\n",
    "\n",
    "# Удаляем столбец city_add\n",
    "df = df.drop(['city_add'], axis=1)"
   ]
  },
  {
   "cell_type": "markdown",
   "metadata": {},
   "source": [
    "### Пропуски и обработка столбца status"
   ]
  },
  {
   "cell_type": "code",
   "execution_count": 236,
   "metadata": {},
   "outputs": [
    {
     "name": "stdout",
     "output_type": "stream",
     "text": [
      "Количество уникальных значений столбца status: 159\n"
     ]
    },
    {
     "data": {
      "text/plain": [
       "array(['Active', 'for sale', nan, 'New construction', 'New', 'For sale',\n",
       "       'Pending', 'P', 'Active/Contingent', 'Pre-foreclosure / auction',\n",
       "       ' / auction', 'Under Contract', 'Under Contract   Showing',\n",
       "       'Pre-foreclosure', 'Under Contract Backups', 'foreclosure',\n",
       "       'Active Under Contract', 'Foreclosed', 'Option Pending',\n",
       "       'Under Contract Show'], dtype=object)"
      ]
     },
     "execution_count": 236,
     "metadata": {},
     "output_type": "execute_result"
    }
   ],
   "source": [
    "# Проверим содержание столбца\n",
    "#df['status'].value_counts()\n",
    "uniq_status_sum = df['status'].nunique()\n",
    "print(f'Количество уникальных значений столбца status: {uniq_status_sum}')\n",
    "\n",
    "df['status'].unique()[:20]"
   ]
  },
  {
   "cell_type": "code",
   "execution_count": 237,
   "metadata": {},
   "outputs": [
    {
     "data": {
      "text/plain": [
       "10.584273536001696"
      ]
     },
     "execution_count": 237,
     "metadata": {},
     "output_type": "execute_result"
    }
   ],
   "source": [
    "# Проверим количество пустых строк в столбце\n",
    "df['status'].isnull().mean()*100"
   ]
  },
  {
   "cell_type": "markdown",
   "metadata": {},
   "source": [
    "В столбце имеется большое количестов уникальных значений. Попробуем сократить число уникальных значений путем приведения похожих данных к одному виду. Для этого создадим словарь значений объединяющий все примерно одинаковые значения и нормальное значение. \n",
    "Имеющиеся пропуски заменим на значение 'unknown'"
   ]
  },
  {
   "cell_type": "code",
   "execution_count": 238,
   "metadata": {},
   "outputs": [],
   "source": [
    "values_status = {\n",
    "    \"For sale\": [\"for sale\", \"For sale\", \"New construction\", \"New\"],\n",
    "    \"Active\": [\n",
    "        \"Active\", \"A Active\", \"Active/Contingent\", \"Active Under Contract\", \"Active Option\", \"Auction - Active\",\n",
    "        \"Active With Contingencies\", \"Active Option Contract\", \"Active Contingency\", \"Active Backup\",\n",
    "        \"Active Contingent\", \"Active - Auction\", \"Active With Offer\", \"Active - Contingent\", \"Active with Contract\",\n",
    "        \"Temporary Active\", \"Re Activated\", \"Reactivated\"],\n",
    "    \"Pending\": [\n",
    "        \"P\", \"Pending\", \"pending\", \"P Pending Sale\", \"Pending Ab\", \"Pending Continue To Show\",\n",
    "        \"Pending Inspection\", \"Pending Offer Approval\", \"Pending In\", \"Pending W/Insp Finance\", \"Pending Fe\",\n",
    "        \"Pending W/Backup Wanted\", \"Pending Backups Wanted\", \"Pending With Contingencies\", \"Lease/Purchase Pending\",\n",
    "        \"Pending Bring Backup\", \"Pending - Taking Backups\", \"Pending - Continue to Show\",\n",
    "        \"Pending Taking Backups\", \"Offer Pending Signature\", \"Pending (Do Not Show)\", \"Pending W/ Cont.\",\n",
    "        \"Pending W/Escape Clause\", \"Pending - Backup Offer Requested\", \"Pending Sale\"],\n",
    "    \"Contingent\": [\n",
    "        \"Contingent\", \"Contingent Finance And Inspection\", \"Contingent Show\",\n",
    "        \"Contingent Take Backup\", \"Contingent - Sale of Home\", \"Contingent Finance and Inspection\",\n",
    "        \"C Continue Show\", \"Contingent   Show\", \"Contingent   Release\", \"Contingent   No Show\",\n",
    "        \"CT Insp - Inspection Contingency\", \"Contingent   Foreclosure\", \"Conting Accpt Backups\",\n",
    "        \"Contingent - Financing\", \"Contingency 48 Hr (+/ )\", \"Contingency Contract\", \"Contingent Escape\"],\n",
    "    \"Under contract\": [\n",
    "        \"Under Contract\", \"Under Contract   Showing\", \"Under Contract Backups\", \"Under Contract Show\",\n",
    "        \"Under Contract - Show\", \"Under Contract - No Show\", \"Under contract\", \"U Under Contract\",\n",
    "        \"Contract Contingent On Buyer Sale\", \"Contract P\", \"Ct\", \"Uc Continue To Show\",\n",
    "        \"Under Contract Taking Back Up Offers\", \"Under Contract W/ Bckp\", \"Contract\"],\n",
    "    \"For rent\": [\"for rent\", \"Apartment for rent\", \"Condo for rent\"],\n",
    "    \"Auction\": [\"Auction\", \"Pre-foreclosure\", \"Pre-foreclosure / auction\", \"/ auction\", \"Foreclosed\", \"foreclosure\", \"Foreclosure\"],\n",
    "    \"Due diligence\": [\"Due Diligence Period\"],\n",
    "    \"Recently sold\": [\"recently sold\"],\n",
    "    \"Price change\": [\"Price Change\"],\n",
    "    \"Back on market\": [\"Back on Market\", \"Back On Market\"],\n",
    "    \"Closed\": [\"Closed\"],\n",
    "    \"Listing extended\": [\"Listing Extended\"],\n",
    "    \"Coming soon\": [\n",
    "        \"Coming soon: Nov 21.\", \"Coming soon: Dec 4.\", \"Coming soon: Nov 23.\", \"Coming soon: Nov 29.\",\n",
    "        \"Coming soon: Dec 2.\", \"Coming soon: Dec 10.\", \"Coming soon: Dec 24.\", \"Coming soon: Nov 14.\",\n",
    "        \"Coming soon: Nov 22.\", \"Coming soon: Oct 21.\", \"Coming soon: Dec 14.\", \"Coming soon: Oct 24.\",\n",
    "        \"Coming soon: Dec 18.\", \"Coming soon: Dec 16.\", \"Coming soon: Dec 3.\", \"Coming soon: Dec 25.\",\n",
    "        \"Coming soon: Nov 11.\", \"Coming soon: Nov 28.\", \"Coming soon: Nov 17.\", \"Coming soon: Dec 6.\",\n",
    "        \"Coming soon: Nov 27.\", \"Coming soon: Nov 26.\", \"Coming soon: Dec 7.\", \"Coming soon: Dec 27.\",\n",
    "        \"Coming soon: Dec 11.\", \"Coming soon: Dec 5.\", \"Coming soon: Nov 13.\", \"Coming soon: Nov 19.\",\n",
    "        \"Coming soon: Nov 8.\", \"Coming soon: Oct 29.\", \"Coming soon: Dec 15.\", \"Coming soon: Oct 30.\",\n",
    "        \"Coming soon: Dec 9.\", \"Coming soon: Dec 20.\", \"Coming soon: Dec 13.\", \"Coming soon: Dec 23.\",\n",
    "        \"Coming soon: Nov 30.\", \"Coming soon: Dec 1.\", \"Coming soon: Nov 5.\", \"Coming soon: Nov 12.\",\n",
    "        \"Coming soon: Nov 25.\", \"Coming soon: Nov 9.\"],\n",
    "}\n",
    "\n",
    "def change_status(row):\n",
    "    for status_new, values in values_status.items():\n",
    "        if row in values:\n",
    "            return status_new\n",
    "    return \"unknown\""
   ]
  },
  {
   "cell_type": "markdown",
   "metadata": {},
   "source": [
    "Произведем замену значений в столбце 'status' в соответствии нашим словарем"
   ]
  },
  {
   "cell_type": "code",
   "execution_count": 239,
   "metadata": {},
   "outputs": [
    {
     "name": "stdout",
     "output_type": "stream",
     "text": [
      "Количество уникальных значений столбца status: 15\n"
     ]
    }
   ],
   "source": [
    "df['status'] = df['status'].apply(change_status)\n",
    "\n",
    "# Ещё раз проверим количество уникальныз значений в столбце\n",
    "uniq_status_sum = df['status'].nunique()\n",
    "print(f'Количество уникальных значений столбца status: {uniq_status_sum}')"
   ]
  },
  {
   "cell_type": "markdown",
   "metadata": {},
   "source": [
    "### Пропуски и обработка столбца propertyType"
   ]
  },
  {
   "cell_type": "code",
   "execution_count": 240,
   "metadata": {},
   "outputs": [
    {
     "name": "stdout",
     "output_type": "stream",
     "text": [
      "Количество уникальных значений столбца propertyType: 1280\n"
     ]
    },
    {
     "data": {
      "text/plain": [
       "array(['Single Family Home', 'single-family home', 'lot/land',\n",
       "       'townhouse', 'Florida', nan, 'Single Family', 'coop', 'English',\n",
       "       '2 Story', 'Townhouse', 'multi-family', 'Penthouse, Split-Level',\n",
       "       'Multi-Family Home', 'Condo', 'condo', 'Land',\n",
       "       'Condo/Townhome/Row Home/Co-Op', ' ', 'Detached, Two Story'],\n",
       "      dtype=object)"
      ]
     },
     "execution_count": 240,
     "metadata": {},
     "output_type": "execute_result"
    }
   ],
   "source": [
    "# Проверим содержание столбца\n",
    "uniq_propertyType_sum = df['propertyType'].nunique()\n",
    "print(f'Количество уникальных значений столбца propertyType: {uniq_propertyType_sum}')\n",
    "\n",
    "df['propertyType'].unique()[:20]"
   ]
  },
  {
   "cell_type": "code",
   "execution_count": 241,
   "metadata": {},
   "outputs": [
    {
     "data": {
      "text/plain": [
       "34733"
      ]
     },
     "execution_count": 241,
     "metadata": {},
     "output_type": "execute_result"
    }
   ],
   "source": [
    "# смотрим сколько пропусков в столбце\n",
    "df['propertyType'].isnull().sum()"
   ]
  },
  {
   "cell_type": "markdown",
   "metadata": {},
   "source": [
    "Приведем к единой форме одинаковые по смыслу данные, остальные заменим на значение 'other'"
   ]
  },
  {
   "cell_type": "code",
   "execution_count": 242,
   "metadata": {},
   "outputs": [
    {
     "name": "stdout",
     "output_type": "stream",
     "text": [
      "Количество уникальных значений столбца propertyType: 11\n"
     ]
    },
    {
     "data": {
      "text/plain": [
       "0.0"
      ]
     },
     "execution_count": 242,
     "metadata": {},
     "output_type": "execute_result"
    }
   ],
   "source": [
    "# Приведем все в нижний регистр\n",
    "df['propertyType'] = df['propertyType'].str.lower()\n",
    "\n",
    "# Создадим 9 основных групп, все остальные будут unknown\n",
    "df['propertyType'] = df['propertyType'].replace(['single-family home', 'single family home', 'singlefamilyresidence', '1 story',\n",
    "                                                'one story traditional', '1 story traditional', 'detached, one story',\n",
    "                                                'single detached', 'single wide', 'single-wide mobile with land',\n",
    "                                                '1 story, contemporary', '1 story, other (see remarks)',\n",
    "                                                'single detached, french', '1 story, traditional', 'single detached, traditional',\n",
    "                                                'one story', 'one level unit', '1 1/2 story', 'single wide mh',\n",
    "                                                '1 story,traditional', '1 story, historic/older, traditional', '1 story, split level'],\n",
    "                                        'single family')\n",
    "df['propertyType'] = df['propertyType'].replace(['multi-family', 'multi-family home', 'duplex', 'triplex', 'fourplex',\n",
    "                                                 'detached, two story', '2 story, other (see remarks)',\n",
    "                                                 'multi_level', '2-story', 'two story', 'multi-level, modern', '2 stories, traditional',\n",
    "                                                 '2 stories', 'traditional', 'attached or 1/2 duplex, traditional'],\n",
    "                                        'multi family')\n",
    "df['propertyType'] = df['propertyType'].replace(['coop', 'cooperative', 'condo/townhome/row home/co-op', 'condo/townhome','condominium',\n",
    "                                                 'condo/unit', 'apartment/condo/townhouse', 'co-op', '2 story condo', 'high rise',\n",
    "                                                 '2 unit condo', 'condo/townhome, contemporary/modern, loft, traditional',\n",
    "                                                 'condo/townhome, hi-rise, resort property, vacation home, contemporary/modern',\n",
    "                                                 'condo/townhome, other (see remarks)', 'condo/townhome, french',\n",
    "                                                 'condo/townhome, hi-rise, contemporary/modern, loft', 'condo, other (see remarks)',\n",
    "                                                 'condo/townhome, craftsman, traditional'],\n",
    "                                        'condo')\n",
    "df['propertyType'] = df['propertyType'].replace(['townhome style', 'townhouse-interior', 'townhouse-end unit',\n",
    "                                                 'townhouse, attached/row', 'townhouse, northwestern contemporary', 'attached, townhouse',\n",
    "                                                 'townhouse, 2-story', 'townhouse, two story, traditional', 'townhouse, villa'],\n",
    "                                        'townhouse')\n",
    "df['propertyType'] = df['propertyType'].replace(['lot/land'],\n",
    "                                        'land')\n",
    "df['propertyType'] = df['propertyType'].replace(['mobile/manufactured', 'mobile / manufactured', 'manufactured house', 'mfd/mobile home',\n",
    "                                                 'manufactured home', 'manufactured double-wide', 'manufactured single-wide',\n",
    "                                                 'mobile home 1 story', 'mobile manu - double wide','manufactured house,ranch, one story',\n",
    "                                                 'manufactured house, ranch, one story, manufactured home',\n",
    "                                                 'manufactured house, traditional, manufactured home', 'manufactured house, manufactured home',\n",
    "                                                 '1 story, manufactured home - single wide', 'manufactured home, mobile home, ranch'],\n",
    "                                        'mobile home')\n",
    "df['propertyType'] = df['propertyType'].replace(['designated historical home', 'historical/conservation district', 'historic/older',\n",
    "                                                 'historic vintage', 'historic', '1 story, historic/older, craftsman',\n",
    "                                                 'historical/conservation district, single detached, contemporary/modern, traditional',\n",
    "                                                 '1 story, historic/older, traditional, craftsman', 'historical, traditional',\n",
    "                                                 '2 stories, historic/older, craftsman'],\n",
    "                                        'historical')\n",
    "df['propertyType'] = df['propertyType'].replace(['rancher', '1 story/ranch', '1 story, ranch', 'rancher, raised ranch', 'farms/ranches',\n",
    "                                                 'hi ranch', 'ranch, one story', 'ranch, traditional', 'farm house',\n",
    "                                                 'ranch, one story, duplex', 'farm house', 'ranch, transitional',\n",
    "                                                 'bungalow, contemporary, ranch, traditional', '1 story, ranch, traditional, texas hill country',\n",
    "                                                 '1 story, contemporary, ranch, historic/older, traditional', 'farm house, transitional',\n",
    "                                                 'ranch, traditional, transitional', 'old world, ranch', 'ranch, split level', \n",
    "                                                 'ranch, spanish', 'farm/ranch house, single detached, contemporary/modern, ranch',\n",
    "                                                 '2 stories, colonial, ranch', '1 story, ranch, craftsman', 'raised ranch, rancher'],\n",
    "                                        'ranch')\n",
    "df['propertyType'] = df['propertyType'].replace(['condominium (single level)', 'high-rise', 'mid-rise', 'low-rise (1-3 stories)',\n",
    "                                                 'Flats', 'studio'],\n",
    "                                        'apartment')\n",
    "df['propertyType'] = df['propertyType'].replace('yes','other')\n",
    "\n",
    "# Заменим пустые строки на other\n",
    "df['propertyType'].fillna('other', inplace=True)\n",
    "\n",
    "# Основные группы\n",
    "type_main = ['single family','multi family', 'condo', 'townhouse', 'land', 'mobile home', 'historical', 'ranch', 'apartment', 'unknown']\n",
    "# Заменим значения не входящие в группы на other\n",
    "def change_type(type):\n",
    "    if type in type_main:\n",
    "        return type    # Значение найдено в списке, остается без изменений\n",
    "    else:\n",
    "        return 'other'\n",
    "\n",
    "# Проиграем вновь написанную функцию\n",
    "df['propertyType'] = df['propertyType'].apply(change_type)\n",
    "\n",
    "# Ещё раз проверим столбец на уникальные значения и пропуски\n",
    "uniq_propertyType_sum = df['propertyType'].nunique()\n",
    "print(f'Количество уникальных значений столбца propertyType: {uniq_propertyType_sum}')\n",
    "\n",
    "df['propertyType'].isnull().mean()*100"
   ]
  },
  {
   "cell_type": "markdown",
   "metadata": {},
   "source": [
    "### Пропуски и обработка столбца street"
   ]
  },
  {
   "cell_type": "code",
   "execution_count": 243,
   "metadata": {},
   "outputs": [
    {
     "data": {
      "text/plain": [
       "street\n",
       "Address Not Disclosed        672\n",
       "Undisclosed Address          517\n",
       "(undisclosed Address)        391\n",
       "Address Not Available        175\n",
       "Unknown Address               72\n",
       "                            ... \n",
       "1737 Parkview Green Cir        1\n",
       "14890 Rockridge Ln             1\n",
       "497 Kingswood Dr               1\n",
       "202 Seacrest Beach Blvd W      1\n",
       "5983 Midcrown Dr               1\n",
       "Name: count, Length: 337076, dtype: int64"
      ]
     },
     "execution_count": 243,
     "metadata": {},
     "output_type": "execute_result"
    }
   ],
   "source": [
    "df['street'].value_counts()\n",
    "#print(df.loc[df['street'].isnull()])"
   ]
  },
  {
   "cell_type": "markdown",
   "metadata": {},
   "source": [
    "Проанализировав данные можно увидеть, что основные значения это \"адрес отсутствует\" и т.п., имеющийся индекс не позволяет однозначно определить улицу. Дальнейшая обработка таких данных не представляется возможным и столбец следует удалить. "
   ]
  },
  {
   "cell_type": "code",
   "execution_count": 244,
   "metadata": {},
   "outputs": [],
   "source": [
    "df = df.dropna(subset=['street'])"
   ]
  },
  {
   "cell_type": "markdown",
   "metadata": {},
   "source": [
    "### Пропуски и обработка столбца zipcode"
   ]
  },
  {
   "cell_type": "code",
   "execution_count": 245,
   "metadata": {},
   "outputs": [
    {
     "data": {
      "text/plain": [
       "zipcode\n",
       "32137         2141\n",
       "33131         1563\n",
       "34747         1488\n",
       "78245         1390\n",
       "34759         1333\n",
       "              ... \n",
       "27613-4237       1\n",
       "43054            1\n",
       "41630            1\n",
       "27615-3709       1\n",
       "64015            1\n",
       "Name: count, Length: 4549, dtype: int64"
      ]
     },
     "execution_count": 245,
     "metadata": {},
     "output_type": "execute_result"
    }
   ],
   "source": [
    "df['zipcode'].value_counts()"
   ]
  },
  {
   "cell_type": "markdown",
   "metadata": {},
   "source": [
    "В столбце нет незаполненных строк, это очень хорошо, но при дальнейшем исследование данных обнаруживаются не корректно внесенные данные, такие как объекты с двойным индексом или просто со значениями \"--\", \"00000\" или \"0\"<br>\n",
    "Обработаем данные таким образом: удалим строки со значениями \"--\", \"0\" и \"00000\", а в строках с задвоенным индексом уберем второй индекс."
   ]
  },
  {
   "cell_type": "code",
   "execution_count": 246,
   "metadata": {},
   "outputs": [],
   "source": [
    "df = df.drop(df[(df['zipcode']=='--') | (df['zipcode']=='0')| (df['zipcode']=='00000')].index)\n",
    "\n",
    "# уберем вторую часть индекса после дефиса\n",
    "df['zipcode'] = df['zipcode'].str.replace(\"-.+\",'', regex=True)"
   ]
  },
  {
   "cell_type": "markdown",
   "metadata": {},
   "source": [
    "### Изучение и обработка столбца schools"
   ]
  },
  {
   "cell_type": "code",
   "execution_count": 247,
   "metadata": {},
   "outputs": [
    {
     "data": {
      "text/plain": [
       "schools\n",
       "[{'rating': [], 'data': {'Distance': [], 'Grades': []}, 'name': []}]                                                                                                                                                                                                                                                                                                                                                                                                                                                                    4202\n",
       "[{'rating': ['4/10', '5/10', '6/10'], 'data': {'Distance': ['39.69mi', '39.69mi', '39.69mi'], 'Grades': ['9-12', '6-8', 'PK-5']}, 'name': ['Fort Hancock High School', 'Fort Hancock Middle School', 'Benito Martinez Elementary School']}]                                                                                                                                                                                                                                                                                              222\n",
       "[{'rating': ['4/10', '6/10', '3/10'], 'data': {'Distance': ['3.62mi', '3.62mi', '3.62mi'], 'Grades': ['6-8', 'PK-5', '9-12']}, 'name': ['Horizon Middle School', 'Desert Hills Elementary School', 'Horizon High School']}]                                                                                                                                                                                                                                                                                                              168\n",
       "[{'rating': ['5/10', '3/10', '5/10'], 'data': {'Distance': ['9.71mi', '8.92mi', '1.56mi'], 'Grades': ['5-8', '9-12', 'K-4']}, 'name': ['Cheatham Middle School', 'Cheatham Co Central', 'West Cheatham Elementary School']}]                                                                                                                                                                                                                                                                                                             133\n",
       "[{'rating': ['10/10', '2/10'], 'data': {'Distance': ['22.4 mi', '1.5 mi'], 'Grades': ['PK-8', '9-12']}, 'name': ['Air Base Elementary School', 'Booker T. Washington Senior High School']}]                                                                                                                                                                                                                                                                                                                                               90\n",
       "                                                                                                                                                                                                                                                                                                                                                                                                                                                                                                                                        ... \n",
       "[{'rating': ['3', 'NR', 'NR', '2', '1'], 'data': {'Distance': ['0.7 mi', '0.6 mi', '0.7 mi', '0.8 mi', '1.6 mi'], 'Grades': ['Preschool to 7', 'Preschool to 8', '6 to 8', 'K to 8', '8 to 12']}, 'name': ['Eloise Japhet Elementary School', 'St Margaret Mary Parish School', 'Connell Middle School', 'New Frontiers Middle School', 'Highlands High School']}]                                                                                                                                                                         1\n",
       "[{'rating': ['6', '4', '6'], 'data': {'Distance': ['1.0 mi', '4.0 mi', '3.3 mi'], 'Grades': ['Preschool to 5', '6 to 8', '9 to 12']}, 'name': ['Neil Armstrong Elementary School', 'Murdock Middle School', 'Port Charlotte High School']}]                                                                                                                                                                                                                                                                                                1\n",
       "[{'rating': ['2', '4', '6', '3', 'NR', '1', 'NR', 'NR'], 'data': {'Distance': ['2.3 mi', '5.6 mi', '1.7 mi', '2.2 mi', '2.4 mi', '3.7 mi', '3.2 mi', '3.4 mi'], 'Grades': ['PK–5', '6–8', '9–12', 'PK–5', '6–12', '6–12', '1–10', 'PK–12']}, 'name': ['Greenway Elementary School', 'Fort King Middle School', 'Forest High School', 'Maplewood Elementary School', 'Silver River Mentoring And Instruction School', 'Hillcrest School', 'Cedar Creek Christian Academy Private School', 'Ocala Christian Academy Private School']}]       1\n",
       "[{'rating': ['7/10', '7/10', '9/10'], 'data': {'Distance': ['1.74mi', '2.47mi', '1.38mi'], 'Grades': ['9-12', '7-8', 'PK-6']}, 'name': ['Lewis & Clark High School', 'Sacajawea Middle School', 'Wilson Elementary School']}]                                                                                                                                                                                                                                                                                                              1\n",
       "[{'rating': ['NA', 'NA', 'NA'], 'data': {'Distance': ['1.3 mi', '0.5 mi', '1.9 mi'], 'Grades': ['PK-5', '6-8', '9-12']}, 'name': ['Hiliard El', 'Forest Brook Middle', 'North Forest High School']}]                                                                                                                                                                                                                                                                                                                                       1\n",
       "Name: count, Length: 297362, dtype: int64"
      ]
     },
     "execution_count": 247,
     "metadata": {},
     "output_type": "execute_result"
    }
   ],
   "source": [
    "# Проверим данные в столбце \n",
    "df['schools'].value_counts()"
   ]
  },
  {
   "cell_type": "markdown",
   "metadata": {},
   "source": [
    "Данные в этом столбце, которые как-либо могут повлиять на стоимость недвижимости, это рейтинг школы и расстояние до нее. Преобразуем информацию в новые признаки. "
   ]
  },
  {
   "cell_type": "code",
   "execution_count": 248,
   "metadata": {},
   "outputs": [],
   "source": [
    "# Отделим значение рейтинга\n",
    "df['schools_rating'] = df['schools'].str.findall(r\"\\brating': ([\\s\\S]+?), 'data\\b\")\n",
    "\n",
    "# Создадим функцию выделяющую числовые данные из вложенного списка\n",
    "def choose_rating(data):\n",
    "    data_n = data[0]\n",
    "    return data_n\n",
    "\n",
    "df['schools_rating'] = df['schools_rating'].apply(choose_rating)\n",
    "\n",
    "# Создадим функцию что оставляет только числовые значения\n",
    "def change_rating(rating):\n",
    "    rating = rating.replace('[', '').replace(']', '').replace(\"'\", '').replace('/10', '')\n",
    "    return rating\n",
    "\n",
    "df['schools_rating'] = df['schools_rating'].apply(change_rating)"
   ]
  },
  {
   "cell_type": "code",
   "execution_count": 249,
   "metadata": {},
   "outputs": [],
   "source": [
    "# Определим среднее значение рейтинга\n",
    "def find_average_rating(rating):\n",
    "    rating = rating.split(', ')\n",
    "    find_rating = [float(num) for num in rating if num.isdigit()]\n",
    "    average_rating = np.average(find_rating) if find_rating else -1\n",
    "    return average_rating\n",
    "\n",
    "# Проиграем функцию, а полученные данные сохраним в отдельный столбец    \n",
    "df['schools_rating'] = df['schools_rating'].apply(find_average_rating)"
   ]
  },
  {
   "cell_type": "code",
   "execution_count": 250,
   "metadata": {},
   "outputs": [],
   "source": [
    "# Определим минимальную дистанцию до школы\n",
    "distance_min = df['schools'].str.findall(r\"\\bDistance': ([\\s\\S]+?), 'Grades\\b\") # выбираем расстояние\n",
    "distance_min = distance_min.apply(lambda x: x[0]) # выбираем первый элемент из каждого списка\n",
    "distance_min = distance_min.str.replace('[a-zA-Z]','', regex=True) # удаляем буквенные символы из каждой строки\n",
    "distance_min = distance_min.str.findall(r'\\b([0-9]+.[0-9]+)') # ищем все числа в каждой строке\n",
    "distance_min = distance_min.apply(lambda x: [float(i) for i in x]) # преобразуем в float\n",
    "school_distance_min = distance_min.apply(lambda x: -1 if len(x)==0 else min(x)) # находим мин. расстояние, если список пустой, то -1 \n",
    "\n",
    "# Создадим признак school_distance_min\n",
    "df['school_distance_min'] = school_distance_min\n",
    "\n",
    "# Удаляем не нужные столбцы\n",
    "df.drop(['schools', 'schools_rating'], axis=1, inplace=True)"
   ]
  },
  {
   "cell_type": "markdown",
   "metadata": {},
   "source": [
    "### Изучение и обработка столбца homeFacts"
   ]
  },
  {
   "cell_type": "code",
   "execution_count": 251,
   "metadata": {},
   "outputs": [
    {
     "data": {
      "text/plain": [
       "homeFacts\n",
       "{'atAGlanceFacts': [{'factValue': '', 'factLabel': 'Year built'}, {'factValue': '', 'factLabel': 'Remodeled year'}, {'factValue': '', 'factLabel': 'Heating'}, {'factValue': '', 'factLabel': 'Cooling'}, {'factValue': '', 'factLabel': 'Parking'}, {'factValue': '—', 'factLabel': 'lotsize'}, {'factValue': None, 'factLabel': 'Price/sqft'}]}                                                       7174\n",
       "{'atAGlanceFacts': [{'factValue': None, 'factLabel': 'Year built'}, {'factValue': None, 'factLabel': 'Remodeled year'}, {'factValue': None, 'factLabel': 'Heating'}, {'factValue': None, 'factLabel': 'Cooling'}, {'factValue': None, 'factLabel': 'Parking'}, {'factValue': None, 'factLabel': 'lotsize'}, {'factValue': None, 'factLabel': 'Price/sqft'}]}                                            3532\n",
       "{'atAGlanceFacts': [{'factValue': '', 'factLabel': 'Year built'}, {'factValue': '', 'factLabel': 'Remodeled year'}, {'factValue': '', 'factLabel': 'Heating'}, {'factValue': '', 'factLabel': 'Cooling'}, {'factValue': '', 'factLabel': 'Parking'}, {'factValue': '', 'factLabel': 'lotsize'}, {'factValue': None, 'factLabel': 'Price/sqft'}]}                                                         566\n",
       "{'atAGlanceFacts': [{'factValue': '', 'factLabel': 'Year built'}, {'factValue': '', 'factLabel': 'Remodeled year'}, {'factValue': '', 'factLabel': 'Heating'}, {'factValue': '', 'factLabel': 'Cooling'}, {'factValue': '', 'factLabel': 'Parking'}, {'factValue': '10000', 'factLabel': 'lotsize'}, {'factValue': None, 'factLabel': 'Price/sqft'}]}                                                    533\n",
       "{'atAGlanceFacts': [{'factValue': '', 'factLabel': 'Year built'}, {'factValue': '', 'factLabel': 'Remodeled year'}, {'factValue': '', 'factLabel': 'Heating'}, {'factValue': '', 'factLabel': 'Cooling'}, {'factValue': '', 'factLabel': 'Parking'}, {'factValue': '10,000 Sq. Ft.', 'factLabel': 'lotsize'}, {'factValue': None, 'factLabel': 'Price/sqft'}]}                                           370\n",
       "                                                                                                                                                                                                                                                                                                                                                                                                        ... \n",
       "{'atAGlanceFacts': [{'factValue': '1965', 'factLabel': 'Year built'}, {'factValue': '1983', 'factLabel': 'Remodeled year'}, {'factValue': 'Forced Air', 'factLabel': 'Heating'}, {'factValue': '', 'factLabel': 'Cooling'}, {'factValue': '4', 'factLabel': 'Parking'}, {'factValue': '0.34 acres', 'factLabel': 'lotsize'}, {'factValue': '$108/sqft', 'factLabel': 'Price/sqft'}]}                       1\n",
       "{'atAGlanceFacts': [{'factValue': '1900', 'factLabel': 'Year built'}, {'factValue': '', 'factLabel': 'Remodeled year'}, {'factValue': '', 'factLabel': 'Heating'}, {'factValue': '', 'factLabel': 'Cooling'}, {'factValue': '2 Car Garage', 'factLabel': 'Parking'}, {'factValue': '10019', 'factLabel': 'lotsize'}, {'factValue': '$21', 'factLabel': 'Price/sqft'}]}                                     1\n",
       "{'atAGlanceFacts': [{'factValue': '1920', 'factLabel': 'Year built'}, {'factValue': '1965', 'factLabel': 'Remodeled year'}, {'factValue': 'Forced Air', 'factLabel': 'Heating'}, {'factValue': '', 'factLabel': 'Cooling'}, {'factValue': '', 'factLabel': 'Parking'}, {'factValue': '6,795 sqft', 'factLabel': 'lotsize'}, {'factValue': '$17/sqft', 'factLabel': 'Price/sqft'}]}                         1\n",
       "{'atAGlanceFacts': [{'factValue': '1953', 'factLabel': 'Year built'}, {'factValue': '2010', 'factLabel': 'Remodeled year'}, {'factValue': 'Forced Air', 'factLabel': 'Heating'}, {'factValue': 'Central', 'factLabel': 'Cooling'}, {'factValue': 'Off Street', 'factLabel': 'Parking'}, {'factValue': '4,892 sqft', 'factLabel': 'lotsize'}, {'factValue': '$279/sqft', 'factLabel': 'Price/sqft'}]}       1\n",
       "{'atAGlanceFacts': [{'factValue': '2019', 'factLabel': 'Year built'}, {'factValue': None, 'factLabel': 'Remodeled year'}, {'factValue': 'Electric', 'factLabel': 'Heating'}, {'factValue': 'Central', 'factLabel': 'Cooling'}, {'factValue': 'No Data', 'factLabel': 'Parking'}, {'factValue': '6,969 sqft', 'factLabel': 'lotsize'}, {'factValue': '$140', 'factLabel': 'Price/sqft'}]}                   1\n",
       "Name: count, Length: 321004, dtype: int64"
      ]
     },
     "execution_count": 251,
     "metadata": {},
     "output_type": "execute_result"
    }
   ],
   "source": [
    "# Проверим данные в столбце \n",
    "df['homeFacts'].value_counts()"
   ]
  },
  {
   "cell_type": "markdown",
   "metadata": {},
   "source": [
    "Столбец сам по себе представляет значительное количество информации например такой как: дата постройки дома, наличие отопления, кондиционирования, наличие паркинга, площиди и даже цену за квадратный фут. Значение Цены за квадратный фут мы использовать не должны иначе образуется утечка данных при создании прогноза.\n",
    "Изучим более подробно другие имеющиеся данные."
   ]
  },
  {
   "cell_type": "code",
   "execution_count": 252,
   "metadata": {},
   "outputs": [
    {
     "data": {
      "text/plain": [
       "['Year built',\n",
       " 'Remodeled year',\n",
       " 'Heating',\n",
       " 'Cooling',\n",
       " 'Parking',\n",
       " 'lotsize',\n",
       " 'Price/sqft']"
      ]
     },
     "execution_count": 252,
     "metadata": {},
     "output_type": "execute_result"
    }
   ],
   "source": [
    "# Отделим значения Label и Value при помощи регулярных выражений и сведем их в новый список\n",
    "Label = df['homeFacts'].str.findall(r\"\\bfactLabel': ([\\s\\S]+?)[}\\b]\")\n",
    "Value = df['homeFacts'].str.findall(r\"\\bfactValue': ([\\s\\S]+?), 'factLabel\\b\")\n",
    "label_list = ','.join(Label[0]).replace(\"'\",\"\").split(',')\n",
    "label_list"
   ]
  },
  {
   "cell_type": "code",
   "execution_count": 253,
   "metadata": {},
   "outputs": [],
   "source": [
    "# Добавим в датафрейм новые столбцы\n",
    "for i, val in enumerate(label_list):\n",
    "    df[val]=Value.apply(lambda x: x[i])"
   ]
  },
  {
   "cell_type": "markdown",
   "metadata": {},
   "source": [
    "Анализ и обработка данных новом столбце Year built"
   ]
  },
  {
   "cell_type": "code",
   "execution_count": 254,
   "metadata": {},
   "outputs": [
    {
     "name": "stdout",
     "output_type": "stream",
     "text": [
      "[\"'2019'\", \"'1961'\", \"'2006'\", \"''\", \"'1920'\", \"'1976'\", \"'1970'\", \"'1965'\", \"'2015'\", \"'1996'\", \"'1982'\", \"'1905'\", \"'2008'\", \"'1899'\", \"'2016'\", \"'1954'\", \"'1989'\", \"'2014'\", \"'1915'\", \"'1994'\", \"'1910'\", \"'1923'\", \"'1960'\", \"'1977'\", \"'1972'\", \"'1963'\", \"'1981'\", \"'1949'\", \"'1930'\", \"'1991'\", \"'1958'\", \"'2005'\", \"'2017'\", \"'2018'\", \"'1983'\", \"'1928'\", \"'1998'\", \"'1997'\", \"'1964'\", \"'1974'\", \"'1940'\", \"'1973'\", \"'1968'\", \"'1999'\", \"'1918'\", \"'2007'\", \"'1984'\", \"'1946'\", \"'2003'\", \"'2000'\", \"'2004'\", \"'1969'\", \"'2002'\", \"'1952'\", \"'1947'\", \"'1957'\", \"'1978'\", \"'1956'\", \"'1967'\", \"'1975'\", \"'1988'\", \"'1955'\", \"'1950'\", \"'1959'\", \"'2012'\", \"'1924'\", \"'1966'\", \"'1992'\", \"'2001'\", \"'1995'\", \"'1985'\", \"'2010'\", \"'1971'\", \"'1909'\", \"'1953'\", \"'1993'\", \"'1990'\", \"'1980'\", \"'1951'\", \"'1907'\", \"'1885'\", \"'1941'\", \"'1927'\", \"'1929'\", \"'1901'\", 'None', \"'1922'\", \"'1906'\", \"'1945'\", \"'1979'\", \"'2009'\", \"'1962'\", \"'1913'\", \"'2011'\", \"'1897'\", \"'1987'\", \"'2020'\", \"'1926'\", \"'1939'\", \"'1925'\", \"'2013'\", \"'1986'\", \"'No Data'\", \"'1943'\", \"'1935'\", \"'1890'\", \"'1900'\", \"'1895'\", \"'1911'\", \"'1948'\", \"'1942'\", \"'1916'\", \"'1931'\", \"'1944'\", \"'1893'\", \"'1879'\", \"'1914'\", \"'1937'\", \"'1912'\", \"'1938'\", \"'1921'\", \"'1860'\", \"'1850'\", \"'1936'\", \"'1861'\", \"'1898'\", \"'1880'\", \"'1908'\", \"'1865'\", \"'1917'\", \"'1740'\", \"'1934'\", \"'1902'\", \"'1700'\", \"'1904'\", \"'1932'\", \"'1896'\", \"'1892'\", \"'1830'\", \"'1919'\", \"'1933'\", \"'1875'\", \"'1888'\", \"'1889'\", \"'1832'\", \"'1903'\", \"'1870'\", \"'1872'\", \"'1864'\", \"'1886'\", \"'2021'\", \"'1873'\", \"'1887'\", \"'1884'\", \"'1800'\", \"'1852'\", \"'1858'\", \"'1869'\", \"'1894'\", \"'1840'\", \"'1881'\", \"'1829'\", \"'1891'\", \"'1868'\", \"'1824'\", \"'1820'\", \"'1846'\", \"'1854'\", \"'1799'\", \"'1828'\", \"'1878'\", \"'1876'\", \"'1815'\", \"'1877'\", \"'1810'\", \"'1835'\", \"'1822'\", \"'1862'\", \"'1866'\", \"'1836'\", \"'1853'\", \"'1807'\", \"'1867'\", \"'1847'\", \"'1794'\", \"'1874'\", \"'1848'\", \"'1795'\", \"'1831'\", \"'1883'\", \"'1803'\", \"'1871'\", \"'1859'\", \"'1823'\", \"'1817'\", \"'1844'\", \"'1863'\", \"'559990649990'\", \"'1796'\", \"'1809'\", \"'1851'\", \"'2022'\", \"'1882'\", \"'1842'\", \"'1818'\", \"'1'\", \"'1780'\", \"'1857'\", \"'1208'\", \"'1825'\", \"'1845'\", \"'2025'\", \"'1811'\", \"'1855'\", \"'1750'\", \"'1057'\", \"'1703'\", \"'1802'\", \"'1812'\", \"'1856'\", \"'1816'\", \"'1834'\", \"'1060'\", \"'1790'\", \"'1788'\", \"'1735'\", \"'1019'\", \"'1805'\", \"'1843'\", \"'1808'\", \"'1804'\"]\n"
     ]
    }
   ],
   "source": [
    "# Проверим данные в столбце Year built\n",
    "x = list(df['Year built'].unique())\n",
    "print(x)"
   ]
  },
  {
   "cell_type": "code",
   "execution_count": 255,
   "metadata": {},
   "outputs": [
    {
     "name": "stdout",
     "output_type": "stream",
     "text": [
      "['2019', '1961', '2006', '', '1920', '1976', '1970', '1965', '2015', '1996', '1982', '1905', '2008', '1899', '2016', '1954', '1989', '2014', '1915', '1994', '1910', '1923', '1960', '1977', '1972', '1963', '1981', '1949', '1930', '1991', '1958', '2005', '2017', '2018', '1983', '1928', '1998', '1997', '1964', '1974', '1940', '1973', '1968', '1999', '1918', '2007', '1984', '1946', '2003', '2000', '2004', '1969', '2002', '1952', '1947', '1957', '1978', '1956', '1967', '1975', '1988', '1955', '1950', '1959', '2012', '1924', '1966', '1992', '2001', '1995', '1985', '2010', '1971', '1909', '1953', '1993', '1990', '1980', '1951', '1907', '1885', '1941', '1927', '1929', '1901', 'None', '1922', '1906', '1945', '1979', '2009', '1962', '1913', '2011', '1897', '1987', '2020', '1926', '1939', '1925', '2013', '1986', 'No Data', '1943', '1935', '1890', '1900', '1895', '1911', '1948', '1942', '1916', '1931', '1944', '1893', '1879', '1914', '1937', '1912', '1938', '1921', '1860', '1850', '1936', '1861', '1898', '1880', '1908', '1865', '1917', '1740', '1934', '1902', '1700', '1904', '1932', '1896', '1892', '1830', '1919', '1933', '1875', '1888', '1889', '1832', '1903', '1870', '1872', '1864', '1886', '2021', '1873', '1887', '1884', '1800', '1852', '1858', '1869', '1894', '1840', '1881', '1829', '1891', '1868', '1824', '1820', '1846', '1854', '1799', '1828', '1878', '1876', '1815', '1877', '1810', '1835', '1822', '1862', '1866', '1836', '1853', '1807', '1867', '1847', '1794', '1874', '1848', '1795', '1831', '1883', '1803', '1871', '1859', '1823', '1817', '1844', '1863', '559990649990', '1796', '1809', '1851', '2022', '1882', '1842', '1818', '1', '1780', '1857', '1208', '1825', '1845', '2025', '1811', '1855', '1750', '1057', '1703', '1802', '1812', '1856', '1816', '1834', '1060', '1790', '1788', '1735', '1019', '1805', '1843', '1808', '1804']\n"
     ]
    },
    {
     "data": {
      "text/plain": [
       "Year built\n",
       "2019    32168\n",
       "1961     2054\n",
       "2006     8008\n",
       "        58725\n",
       "1920     4329\n",
       "        ...  \n",
       "1019        1\n",
       "1805        1\n",
       "1843        1\n",
       "1808        1\n",
       "1804        1\n",
       "Name: count, Length: 231, dtype: int64"
      ]
     },
     "execution_count": 255,
     "metadata": {},
     "output_type": "execute_result"
    }
   ],
   "source": [
    "# Удалим кавычки\n",
    "df['Year built'] = df['Year built'].str.replace(\"'\",'', regex=True)\n",
    "x = list(df['Year built'].unique())\n",
    "print(x)\n",
    "df['Year built'].value_counts(sort=False)"
   ]
  },
  {
   "cell_type": "code",
   "execution_count": 256,
   "metadata": {},
   "outputs": [],
   "source": [
    "# В столбце имеются некорректные данные изаменим их на 'unknown'\n",
    "df['Year built'] = df['Year built'].str.replace('^\\s*$','unknown', regex=True)\n",
    "df['Year built'] = df['Year built'].str.replace('No Data','unknown')\n",
    "df['Year built'] = df['Year built'].str.replace('559990649990','unknown')\n",
    "df['Year built'] = df['Year built'].str.replace('^1$','unknown', regex=True)\n",
    "df['Year built'] = df['Year built'].str.replace('None','unknown')\n",
    "\n",
    "# Среди данных встречаются значения годов: '1060', '1019', '1057', '1208' вероятно это проявление человеческого фактора при заполнении данных и реальноимеется ввиду 1900 года и 2018 год, изменим их тоже\n",
    "df['Year built'] = df['Year built'].str.replace('1060','1960')\n",
    "df['Year built'] = df['Year built'].str.replace('1019','1919')\n",
    "df['Year built'] = df['Year built'].str.replace('1057','1957')\n",
    "df['Year built'] = df['Year built'].str.replace('1208','2018')"
   ]
  },
  {
   "cell_type": "markdown",
   "metadata": {},
   "source": [
    "Анализ и обработка данных новом столбце  Remodeled year"
   ]
  },
  {
   "cell_type": "code",
   "execution_count": 257,
   "metadata": {},
   "outputs": [
    {
     "name": "stdout",
     "output_type": "stream",
     "text": [
      "[\"''\", \"'1967'\", \"'2006'\", 'None', \"'2015'\", \"'1997'\", \"'2019'\", \"'1982'\", \"'1905'\", \"'2009'\", \"'2007'\", \"'1996'\", \"'1995'\", \"'1988'\", \"'1972'\", \"'1949'\", \"'1954'\", \"'1930'\", \"'2003'\", \"'2000'\", \"'1994'\", \"'2005'\", \"'1983'\", \"'1965'\", \"'1968'\", \"'1993'\", \"'1999'\", \"'2014'\", \"'2008'\", \"'2010'\", \"'2004'\", \"'2002'\", \"'1984'\", \"'1952'\", \"'1978'\", \"'1975'\", \"'1971'\", \"'1947'\", \"'1957'\", \"'1950'\", \"'2012'\", \"'1973'\", \"'1970'\", \"'2016'\", \"'1989'\", \"'1998'\", \"'1980'\", \"'1986'\", \"'1955'\", \"'1991'\", \"'2011'\", \"'2017'\", \"'1941'\", \"'2001'\", \"'1990'\", \"'1979'\", \"'1901'\", \"'1918'\", \"'1977'\", \"'1962'\", \"'1956'\", \"'2013'\", \"'1960'\", \"'1981'\", \"'1969'\", \"'1987'\", \"'1958'\", \"'1910'\", \"'1925'\", \"'1964'\", \"'1966'\", \"'1992'\", \"'1943'\", \"'1961'\", \"'1948'\", \"'1931'\", \"'1976'\", \"'1974'\", \"'1935'\", \"'1940'\", \"'2018'\", \"'1916'\", \"'1914'\", \"'1963'\", \"'1985'\", \"'1951'\", \"'1944'\", \"'1942'\", \"'1959'\", \"'1927'\", \"'1946'\", \"'1945'\", \"'1920'\", \"'1938'\", \"'1936'\", \"'0'\", \"'1939'\", \"'1915'\", \"'1928'\", \"'1923'\", \"'1929'\", \"'1898'\", \"'1899'\", \"'1934'\", \"'1953'\", \"'1926'\", \"'1937'\", \"'1912'\", \"'1917'\", \"'1906'\", \"'1932'\", \"'1919'\", \"'1921'\", \"'1924'\", \"'1907'\", \"'1911'\", \"'1900'\", \"'1889'\", \"'1913'\", \"'1895'\", \"'1908'\", \"'1903'\", \"'1904'\", \"'1933'\", \"'1894'\", \"'1892'\", \"'1922'\", \"'1909'\", \"'1880'\", \"'1902'\", \"'1877'\", \"'2020'\", \"'1893'\", \"'1890'\", \"'1891'\", \"'2021'\", \"'1869'\", \"'1884'\", \"'1897'\", \"'1111'\", \"'1886'\", \"'1883'\", \"'1846'\", \"'1845'\", \"'1896'\", \"'1885'\", \"'1870'\", \"'1887'\", \"'1853'\", \"'1888'\", \"'1800'\", \"'1738'\", \"'1876'\", \"'1874'\", \"'1862'\"]\n"
     ]
    }
   ],
   "source": [
    "# Проверим столбец Remodeled year.\n",
    "x = list(df['Remodeled year'].unique()) \n",
    "print(x)"
   ]
  },
  {
   "cell_type": "code",
   "execution_count": 258,
   "metadata": {},
   "outputs": [],
   "source": [
    "# Удалим кавычки и некорректные значения\n",
    "df['Remodeled year'] = df['Remodeled year'].str.replace(\"'\",'', regex=True)\n",
    "df['Remodeled year'] = df['Remodeled year'].str.replace('^0$', 'None', regex=True)\n",
    "df['Remodeled year'] = df['Remodeled year'].str.replace('1111', 'None', regex=True)\n",
    "df['Remodeled year'] = df['Remodeled year'].str.replace('^\\s*$','None', regex=True)\n"
   ]
  },
  {
   "cell_type": "code",
   "execution_count": 259,
   "metadata": {},
   "outputs": [],
   "source": [
    "# Нас интересует былал ли вообще на объекте реконструкция из-за этого данные будет проще превратить в бинарный вид\n",
    "def remodelbool(value):\n",
    "    if isinstance(value, str) and re.match(r'^\\d{4}$', value):\n",
    "        return True\n",
    "    else:\n",
    "        return False\n",
    "# применяем функцию\n",
    "df['Remodeled year_final'] = df['Remodeled year'].apply(remodelbool)"
   ]
  },
  {
   "cell_type": "markdown",
   "metadata": {},
   "source": [
    "Анализ и обработка нового столбца Heating"
   ]
  },
  {
   "cell_type": "code",
   "execution_count": 260,
   "metadata": {},
   "outputs": [
    {
     "data": {
      "text/plain": [
       "Heating\n",
       "'forced air'                                                      134307\n",
       "''                                                                105753\n",
       "'other'                                                            29622\n",
       "'electric'                                                         10216\n",
       "'gas'                                                               9296\n",
       "                                                                   ...  \n",
       "'zoned heating, wall unit heating, forced air heating'                 1\n",
       "'baseboard, spacewallunit'                                             1\n",
       "'hot air, stove-pellet'                                                1\n",
       "'natural gas, space heater'                                            1\n",
       "'baseboard, hot water, programmable thermostat, radiant floor'         1\n",
       "Name: count, Length: 1919, dtype: int64"
      ]
     },
     "execution_count": 260,
     "metadata": {},
     "output_type": "execute_result"
    }
   ],
   "source": [
    "# Проверим столбец\n",
    "df['Heating'].str.lower().value_counts()"
   ]
  },
  {
   "cell_type": "code",
   "execution_count": 261,
   "metadata": {},
   "outputs": [],
   "source": [
    "# Удалим кавычки\n",
    "df['Heating'] = df['Heating'].str.replace(\"'\",'', regex=True)"
   ]
  },
  {
   "cell_type": "markdown",
   "metadata": {},
   "source": [
    "Данные в столбце содержат информацию о видах отопления. Для наших задачь будет достаточно информации в виде бинарных значений True - отопление есть, False - отопления нет."
   ]
  },
  {
   "cell_type": "code",
   "execution_count": 264,
   "metadata": {},
   "outputs": [
    {
     "data": {
      "text/plain": [
       "Heating_final\n",
       "True     259154\n",
       "False    117973\n",
       "Name: count, dtype: int64"
      ]
     },
     "execution_count": 264,
     "metadata": {},
     "output_type": "execute_result"
    }
   ],
   "source": [
    "# Изменяем данные на True и False\n",
    "df['Heating_final'] = df['Heating'].apply(lambda x: True if x not in ['', 'No Data', 'No Heat Fuel', 'No Heat', 'None'] else False)\n",
    "df['Heating_final'].value_counts()"
   ]
  },
  {
   "cell_type": "markdown",
   "metadata": {},
   "source": [
    "Анализ и обработка нового столбца Cooling"
   ]
  },
  {
   "cell_type": "code",
   "execution_count": 266,
   "metadata": {},
   "outputs": [
    {
     "data": {
      "text/plain": [
       "Cooling\n",
       "'central'                                                                158743\n",
       "''                                                                       120390\n",
       "'central air'                                                             14384\n",
       "'no data'                                                                 10615\n",
       "'has cooling'                                                              9730\n",
       "                                                                          ...  \n",
       "'central gas, propane, zoned'                                                 1\n",
       "'other (see remarks), panel/floor/wall, window unit'                          1\n",
       "'multi units, zoned cooling'                                                  1\n",
       "'central air, g-energy star hvac, gas hot air/furnace, multizone a/c'         1\n",
       "'central a/c (gas), central heat (gas), heat pump'                            1\n",
       "Name: count, Length: 1439, dtype: int64"
      ]
     },
     "execution_count": 266,
     "metadata": {},
     "output_type": "execute_result"
    }
   ],
   "source": [
    "# посмотрим содержание столбца\n",
    "df['Cooling'].str.lower().value_counts()"
   ]
  },
  {
   "cell_type": "markdown",
   "metadata": {},
   "source": [
    "В данных этого столбца находятся слишком не нормализованные данные и о наличии кондиционирования и об отопление. <br>\n",
    "Проверим количество не заполненных данных.<br>"
   ]
  },
  {
   "cell_type": "code",
   "execution_count": 271,
   "metadata": {},
   "outputs": [
    {
     "name": "stdout",
     "output_type": "stream",
     "text": [
      "Пропущенные данные в столбце Cooling: 31.9 %\n"
     ]
    }
   ],
   "source": [
    "# Проверим процентное соотношение незаполненных данных в столбце\n",
    "cooling_nodata = round(((df[df['Cooling']==''].shape[0]) / (df['Cooling'].shape[0]) * 100), 1)\n",
    "print(f'Пропущенные данные в столбце Cooling: {cooling_nodata} %')"
   ]
  },
  {
   "cell_type": "markdown",
   "metadata": {},
   "source": [
    "Нормализация данных в этом столбце займет большое количество времени, а данные изв нем не значительны. Логично его удалить.<br>"
   ]
  },
  {
   "cell_type": "code",
   "execution_count": 272,
   "metadata": {},
   "outputs": [],
   "source": [
    "# Удаляем не нужные столбцы\n",
    "df.drop(['Cooling'], axis=1, inplace=True)"
   ]
  },
  {
   "cell_type": "markdown",
   "metadata": {},
   "source": [
    "Анализ и обработка данных в столбце Parking"
   ]
  },
  {
   "cell_type": "code",
   "execution_count": 274,
   "metadata": {},
   "outputs": [
    {
     "data": {
      "text/plain": [
       "Parking\n",
       "''                                                                                                                                    171839\n",
       "'attached garage'                                                                                                                      70748\n",
       "'2 spaces'                                                                                                                             28061\n",
       "'1 space'                                                                                                                              14252\n",
       "'no data'                                                                                                                              13332\n",
       "                                                                                                                                       ...  \n",
       "'carport - 2 car, detached garage, garage - 1 car, side load garage'                                                                       1\n",
       "'attached garage, opener'                                                                                                                  1\n",
       "'garage door opener, guest, off street, oversized'                                                                                         1\n",
       "'attached, concrete, gravel'                                                                                                               1\n",
       "'deed restrictions, fitness, gated community, golf carts ok, no truck/rv/motorcycle parking, pool, special community restrictions'         1\n",
       "Name: count, Length: 3321, dtype: int64"
      ]
     },
     "execution_count": 274,
     "metadata": {},
     "output_type": "execute_result"
    }
   ],
   "source": [
    "# Проверим данные в столбце\n",
    "df['Parking'].str.lower().value_counts()"
   ]
  },
  {
   "cell_type": "code",
   "execution_count": 277,
   "metadata": {},
   "outputs": [
    {
     "name": "stdout",
     "output_type": "stream",
     "text": [
      "['', 'Attached Garage', 'Detached Garage', 'Carport, Attached Garage', '2 spaces', '4 spaces', 'Off Street', 'None', '0', '1 space', 'No Data', 'Carport', '2', '3 spaces', 'Double Wide Drive, Oversized Drive', 'Attached Garage, Detached Garage, Carport', '1', 'Covered Lot', '10', '7', 'Detached Garage, Attached Garage', 'On Street, Detached Garage, Carport', 'Attached-Detached, ASPHT, GRAVL', 'Garage Type', 'Curb Parking, Garage Door Opener', 'Detached parking', '7 spaces', 'Slab Parking Spaces', 'Parking YN', '\"Attchd Gar Cabinets, Electric Door Opener, Dir Entry frm Garage, Carport Spaces\"', 'On street, Attached Garage', 'Asphalt Driveway, Off Street', 'Electric Door Opener, Extnded Lngth Garage, Tandem Garage, Dir Entry frm Garage, Slab Parking Spaces', '2 Car Garage, Attached, Main Level, Off Street Parking', 'Off street', 'Garage - 2 Car', 'Attached Garage, Driveway', 'Parking Desc', 'Off street, On street, Attached Garage', '4', 'Electric Door Opener, Over Height Garage, RV Gate, RV Parking', 'Carport Spaces', '6 spaces', 'Off Street, Attached Garage', 'Attached Garage, On Street', 'Carport, Off Street, Detached Garage', 'Electric Door Opener, Dir Entry frm Garage', 'Garage Detached', 'Garage Door Opener', 'Assigned', 'Unassigned, Parking Fee, Parking Lot', 'Attached Garage, Driveway, Garage - 2 Car, Side Load Garage', 'BSMT, GRAVL', 'Off street parking', 'On Street', 'Detached Garage, Garage - 2 Car', 'Attached Garage, Carport', 'Attached Garage, Detached Garage', 'Detached Garage, On Street', 'Concrete Driveway, Attached Garage', 'Basement, AGGRE', 'Driveway, Garage Door Opener', 'Electric Door Opener, RV Gate, Dir Entry frm Garage, Slab Parking Spaces', 'On Street, Attached Garage', '8 spaces', 'Off Street, Detached Garage', 'Off-Street Parking', 'Electric Door Opener, Dir Entry frm Garage, Slab Parking Spaces', 'Garage-Attached', 'Off street, Attached Garage', 'Assigned Parking Space - 2', 'Assigned, Parking Lot', 'Garage Door Opener, Oversized', 'Attached - SIDE, AGGRE, CIRDW, DRVWY', 'Association Insurance, Exterior Building, Garage/Parking, Landscaping, Property Management, Reserve Fund, Snow Removal, Trash Removal', 'Garage - 2 Car, Garage Door Opener', 'Attached Garage, Driveway, Garage - 3 Car, Garage Door Opener, Side Load Garage', 'Off Street, Carport', 'Attached, AGGRE, DRVWY', 'Driveway, Parking Space - 2', '2 Car Garage, Attached, Front Loading, Main Level, Off Street Parking', 'On Street, Off Street', 'Attached Garage, Driveway, Garage - 3 Car, Garage Door Opener', 'Off Street, On Street', 'Detached Garage, Off Street', 'Carport, Off Street', 'Air Conditioning, Association Insurance, Exterior Building, Garage/Parking, Gas, Heat, Landscaping, Property Management, Recreation, Reserve Fund, Security System, Sewer, Snow Removal, Trash Removal, Water', '19 spaces', '10 spaces', 'Parking Space - 1, Parking Space - 2', 'Carport, Detached Garage', '2 Off Street', 'Parking Under Building, Street/Driveway', 'Circular Driveway, Garage Door Opener, RV Garage', 'On Street, Off Street, Carport', 'Parking Type', '3', 'Attached - FRONT', 'GRAVL', 'Detached Garage, Driveway, Garage - 1 Car, On-Street Parking', '3 Car Or More', 'Assigned, Guest', 'Electric Door Opener, Slab Parking Spaces', 'Basement', 'Attached Garage, Driveway, Garage - 2 Car, On-Street Parking', 'Electric Door Opener, RV Gate, RV Parking, Dir Entry frm Garage, Slab Parking Spaces', 'Electric Door Opener', 'On street', 'AGGRE', '3 Car Or More, Kitchen Level Entry, Parking Pad, Off Street', 'Garage Lot', 'Capital Reserves, Clubhouse, Common Area Grounds Maintenance, Community Pool, Concierge, Covered Parking, Exterior Maintenance w/ Roof, Fitness Facility, Gas, On-Site Check In, Outdoor Hot Tub, Recycling, Sauna, Sewer, Snow Removal, Trash Removal, Water', 'Attached - FRONT, CONCR, DRVWY', 'DRVWY, GRAVL, On Street', '5 spaces', 'Open', 'Circular Driveway, Garage Door Opener, Garage Faces Side, Guest, Open, Under Building, Workshop in Garage', 'Driveway, Garage Door Opener, Oversized', '21+ Spaces', '6', 'Attached - SIDE', 'Driveway', '2 Car Garage, 2 Off Street, Attached Garage, On Street', 'Attached Garage, Garage - 2 Car', 'Asphalt Driveway, Paved Driveway, Attached Garage, Off Street, On Street', 'Assigned, Attached Garage', 'Bath In Garage, Boat, Circular Driveway, Covered, Driveway, Garage Door Opener, Garage Faces Side, Golf Cart Garage, Golf Cart Parking, Guest, Oversized, Under Building', 'Garage - 3 Car, Side Load Garage', '2 Car Garage, 2 Off Street, Attached Garage, On Street, Opener', 'Bath In Garage, Covered, Driveway, Guest, Off Street, Open, Oversized, Tandem, Under Building, Workshop in Garage', 'Off Street Parking', 'Asphalt Driveway, Private, Alley, Parking Lot, Off Street', 'Driveway, Garage - 1 Car', 'Covered, Driveway', 'Attached - REAR, DRVWY', 'Dirt Driveway, On Street', 'Attached Garage, Garage - 2 Car, Garage Door Opener', '888', 'Alley Access, CONCR, On Street', 'Attached Garage, Driveway, Off Street', 'Detached', 'Assigned, Attendant, Parking Fee, Secure Parking, Private, Paved Driveway, Paved Parking, Lighted Parking, Attached Garage, Off Street', 'Electric Door Opener, RV Gate, Slab Parking Spaces', 'Driveway, Garage Door Opener, Off Street', 'Attached Garage, Driveway, On Street', 'Detached Garage, Alley', 'RV Gate, RV Parking, Slab Parking Spaces', '5', '2 Off Street, 4 Car Garage, Attached Garage, Opener, Side Load', 'Carport, Attached Garage, Detached Garage', 'Off Street, Detached Garage, Attached Garage', 'Garage - 3 Car', 'Driveway, Paved', 'On Street, Carport', 'ParkingType', 'Circular Driveway, Covered, Driveway, Garage Door Opener, Golf Cart Garage, Golf Cart Parking, Guest, Oversized, Tandem, Workshop in Garage', 'Garage Attached', 'Driveway Paved', 'No', '9 spaces', '\"Attchd Gar Cabinets, Electric Door Opener, Extnded Lngth Garage, Separate Strge Area, RV Parking, Temp Controlled, Dir Entry frm Garage, Slab Parking Spaces\"', 'Off street, On street', 'Carport, Off street', 'On Street Parking', 'On-site - Sale, Parking Fee, Attached Garage', 'Detached Garage, Carport', 'Assigned/Reserved, Attached, Door Opener, Heated, Parking Garage', 'Attached Garage, Garage - 2 Car, Parking Space - 2', 'Electric Door Opener, Extnded Lngth Garage, Over Height Garage, Dir Entry frm Garage', 'Carport - 1 Car', '2 Car Garage, Detached, Off Street Parking, Utility Garage', 'Driveway, Garage - 2 Car, Keypad Entry, Side Load Garage', 'On Site, Paved', 'On Street, Alley, Driveway', '\"Attchd Gar Cabinets, Electric Door Opener, Extnded Lngth Garage, Slab Parking Spaces\"', 'Concrete Driveway, Off Street', 'Attached Garage, Off Street', 'Dir Entry frm Garage, Slab Parking Spaces', 'Attached - REAR, CONCR', 'Covered, Driveway, Golf Cart Parking, Guest', '2+ Spaces, Driveway Paved', '2 Car Garage, Attached Garage', 'Attached - FRONT, CONCR', 'Concrete Driveway, Attached Carport', 'Driveway, Off Street', 'Detached Parking', 'Parking Under Building', 'Attached, AGGRE', 'Attached Garage, Driveway, Garage - 2 Car, Garage Door Opener, Side Load Garage', 'Attached - FRONT, AGGRE, DRVWY', 'Back Load Garage, Garage - 2 Car', 'Attached Garage, Garage - 3 Car', 'Garage Door Opener, Oversized, RV Garage', 'Attached - SIDE, CONCR', '8', 'RV Gate, Carport Spaces', 'Attached - FRONT, AGGRE', '1 Attached Carport', 'Parking Lot', 'Carport - 1 Car, Parking Space - 3', 'Parking Space - 2', 'Attached, ASPHT', 'Garage - 3 Car, Parking Space - 4+, Side Load Garage', '3 Car Garage, Attached Garage, Opener', 'Off Street, Attached Garage, On Street', 'Attached - SIDE, AGGRE', '2 Car Garage', 'Converted Garage', 'Parking', 'Covered Parking', 'Attached Garage, On Street, Detached Garage', 'Electric Door Opener, Tandem Garage, Slab Parking Spaces', 'Assigned, Parking Space Conveys, Attached Garage', 'Asphalt, Double Wide Drive', 'No Parking', 'Under Bldg Open', 'Attached Garage, Driveway, Garage - 2 Car, Garage Door Opener', 'Driveway, Garage Door Opener, RV Garage', '1 Car, Parking Lot', '2 Car Garage, Attached Garage, Opener', 'Off Street, Attached Garage, Detached Garage, On Street', 'On-site - Sale, Assigned, Secure Parking, Attached Garage, Off Street', 'Gravel', 'Guest, On Street, Open', 'Basement, Detached, GRAVL, On Street', 'Parking/Driveway', 'On Street, None', 'Attached Garage, Off Street, Detached Garage', 'Assigned, Guest, Under Building', 'Golf Cart Parking, Under Building', '16', 'Attached - SIDE, PKPAD', 'Detached Garage, RV/Boat Parking, Side Yard Access, Parking Area', 'Attached Garage, Carport - 2 Car', 'Clubhouse, Play Area, Swim Pool-Inground', 'Garage - 2 Car, Parking Space - 4+', 'Paved', '\"Attchd Gar Cabinets, Electric Door Opener, Extnded Lngth Garage, Dir Entry frm Garage, Slab Parking Spaces\"', 'ASPHT', 'Boat, Circular Driveway, Garage Door Opener, Guest, Parking Pad, Workshop in Garage', 'Driveway, Garage - 2 Car, Garage Door Opener, Keypad Entry', 'Attached - FRONT, DRVWY', 'Circular Driveway, Off Street', 'Assigned Parking Space - 1, Garage - 1 Car', 'Electric Door Opener, Separate Strge Area, RV Gate, RV Parking, RV Garage, Dir Entry frm Garage, Slab Parking Spaces', 'Detached Garage, Carport, Attached Garage', 'Attached - REAR', 'Street', 'Attached Garage, Carport, Detached Garage', 'Driveway, Detached Garage', 'Attached', 'Parking Driveway', '\"Attchd Gar Cabinets, Electric Door Opener\"', 'Attached Garage, Carport , Off-Street Parking', 'Circular Driveway, Under Home Parking, Off Street', 'Private, Attached Garage', 'Assigned Parking Space - 1', 'Carport, Detached Garage, Attached Garage', 'Attached Garage, Garage - 1 Car', 'Driveway, On Street', 'Attached Garage, Parking Space - 1', 'Attached Carport, Driveway', 'Off street, Detached Garage', 'Detached Garage, Driveway, Garage - 2 Car', '1 Off Street', 'Attached - REAR, PVT, GRAVL', 'Under Building', 'Attached - REAR, Alley Access, DRVWY', 'Secure Parking, Off Street', 'Carport - 2 Car, Driveway, Parking Space - 3, Parking Space - 4+', '2 Car Garage, Off Street Parking', 'No Signs, Parking Restrictions, Pet Restrictions', 'Covered, Golf Cart Garage, Golf Cart Parking, Guest, Off Street, Under Building, Workshop in Garage', '\"Attchd Gar Cabinets, Electric Door Opener, Extnded Lngth Garage, Separate Strge Area, Tandem Garage, Dir Entry frm Garage, Slab Parking Spaces\"', 'Assigned Parking Space - 2, Keypad Entry, Parking Deck', 'Paved Driveway, Off Street, On Street, Attached Garage', '2 Assigned, Covered, Driveway Paved, Guest, Load Space, Under Bldg Open', '9', 'Main Level, Off Street Parking', 'Garage Door Opener, Guest, Open', 'Covered, Open', 'Driveway, Parking Space - 3', 'Alley Access, Garage Door Opener, Garage Faces Rear', 'Alley Access', 'Yes', 'Attached - SIDE, AGGRE, DRVWY', 'Garage - 2 Car, Garage Door Opener, Keypad Entry', '3 Car Garage, Attached Garage, Tandem', '30 spaces', 'Attached, DRVWY, On Street', 'Garage Door Opener, Open', 'Entrance Maint., Exterior Building, Garage/Parking, Landscaping, Reserve Fund, Sewer, Snow Removal, Trash Removal, Water', 'Parking Garage', 'Attached Garage, Back Load Garage, Driveway, Garage - 2 Car, On-Street Parking', 'Garage', 'Attached Garage, Garage - 3 Car, Garage Door Opener, Side Load Garage', 'Electric Door Opener, Unassigned Parking, Slab Parking Spaces', '2 Car, Garage', 'Detached, Electric Door Opener, Dir Entry frm Garage, Slab Parking Spaces', 'Electric Door Opener, Unassigned Parking', 'CONCR', 'Asphalt, Attached, RV Parking', 'Detached, CONCR, DRVWY', 'Driveway, Garage', 'Boat, Garage Door Opener, Golf Cart Parking, Oversized, RV Garage', 'Attached Garage, Back Load Garage, Garage - 2 Car', 'Covered, Driveway, Garage Door Opener, Guest, Off Street', 'Garage Door Opener, Golf Cart Parking', 'Detached, ASPHT', '20', 'Off Street, Carport, Detached Garage', 'Assigned, Common, Guest', 'Boat', 'On Street, Attached Garage, Off Street', 'On Street, Detached Garage, Off Street', 'PVT', 'Golf Cart Parking', 'Boat, Driveway, Garage Door Opener, Oversized', '1 Car Garage, Attached, Main Level, Off Street Parking', 'From I10 take Beltway 8 north, turn right on Hammerly. Turn left on Triway. Parking is on the left. Two covered spaces for the unit. Walk around to the front for the combo box.', 'Detached, Detached, GRAVL', 'Attached, CONCR', '12 spaces', '2 Car, Parking Lot', 'Association Insurance, Entrance Maint., Exterior Building, Garage/Parking, Landscaping, Property Management, Sewer, Snow Removal, Water', 'Detached, Electric Door Opener, Extnded Lngth Garage, Side Vehicle Entry, Tandem Garage, RV Gate, RV Parking, RV Garage, Slab Parking Spaces', '\"Attchd Gar Cabinets, Electric Door Opener, Extnded Lngth Garage, Dir Entry frm Garage\"', 'Attached Garage, Garage - 2 Car, Parking Space - 4+, Side Load Garage', 'Garage Door Opener, Tandem', 'Boat, Circular Driveway, Garage Door Opener', 'Assigned/Reserved, Door Opener, Parking Garage', 'Off Street, On Street, Attached Garage', 'Garage - 1 Car', 'ASPHT, DRVWY', 'Parking Pad', 'Parking Features', 'Attached - REAR, Attached, AGGRE, CIRDW, DRVWY', 'Covered Lot, Garage Lot', 'RV Gated', 'Attached Garage, Garage - 2 Car, Keypad Entry', 'Parking Space Conveys, Off Street', 'Single Carport, Street', 'Alley Parking, Driveway', 'ASPHT, Assigned, Unassigned', '\"Attchd Gar Cabinets, Electric Door Opener, Slab Parking Spaces\"', 'Attached Garage, Driveway, Garage - 2 Car, Garage Door Opener, Keypad Entry, Side Load Garage', 'Assigned, Off Street', '\"Attchd Gar Cabinets, Electric Door Opener, Dir Entry frm Garage\"', 'Attached - FRONT, AGGRE, CONCR, DRVWY', '5 - 10 Spaces', 'Asphalt, Brick Driveway, Detached', 'Parking Pad, Concrete Drive', 'Electric Vehicle Charging Station(s), Assigned, Parking Lot', '2 Car Garage, Attached Garage, Opener, Side Load', '1 Car Garage, 2 Off Street, Detached Garage', '1 Car Garage, 3 Car Carport or more, Attached, Off Street Parking', 'Individual Garage', 'Attached Garage, Driveway, Garage - 2 Car', 'Circular Driveway, Attached Garage', '2+ Spaces, Covered, Driveway Paved', 'Carport, On street', 'Assigned Parking, Carport Spaces', '1 Car Garage, 2 Car Garage, Attached Garage, Detached Garage, Opener, Shared Driveway', '2 Car Garage, Attached, Off Street Parking', 'Parking Deck, Parking Space - 1', 'RV Parking, Slab Parking Spaces', 'Attached Carport', 'Asphalt Driveway, Parking Space Conveys, Attached Garage', 'DW/Concrete, Garage', 'On Street, Detached Garage', '3 Car Or More, Detached, Garage, Parking Pad', 'Parking Space - 3', 'Attached - FRONT, Unassigned', 'Alley Entrance, Parking Space', 'Parking Space Conveys, Private, Assigned, Attached Garage, Off Street, Parking Lot', 'Driveway, Oversized', 'Attached Garage, Garage - 1 Car, Garage - 2 Car, Garage Door Opener, Side Load Garage', 'Electric Door Opener, Extnded Lngth Garage, Golf Cart Garage, Dir Entry frm Garage', 'PAVED', 'Controlled Entrance', 'Carport, On Street', '14 spaces', 'Circular Driveway, Driveway', 'Assigned, Open', 'Carport, Off Street, Detached Garage, Attached Garage', '2 Car Garage, Detached Garage, Opener', 'Electric Door Opener, Extnded Lngth Garage, Over Height Garage, Tandem Garage, Dir Entry frm Garage', 'Attached Garage, Garage - 2 Car, Garage Door Opener, Side Load Garage', 'Lot, On-Street Parking', 'Detached, GRAVL', 'Fire Sprinkler System, Gated Community, Secured Garage / Parking', '2 Car', 'Driveway, Attached Garage', 'DRVWY', 'AGGRE, ASPHT', 'Assigned Parking Space - 2, Attached Garage, Garage Door Opener', 'Assigned, Under Building', 'Attached Garage, Off Street, On Street', 'Double Wide Drive, Driveway, Paved Drv', 'Attached Garage, Driveway, Garage - 1 Car, Parking Space - 4+', 'On Street, Off Street, Parking Lot', 'Common, Guest, Paved Parking', '\"Attchd Gar Cabinets, Electric Door Opener, Permit/Decal Reqd, Dir Entry frm Garage\"', 'Parking Space - 1', 'RV Gate, RV Parking, Gated Parking, Carport Spaces', 'Detached, CONCR', 'Attached Garage, Garage - 2 Car, Side Load Garage', 'RV Gate, Slab Parking Spaces', 'Under Home Parking, Attached Garage', 'Electric Door Opener, Separate Strge Area, Side Vehicle Entry, RV Parking, Slab Parking Spaces', 'Electric Door Opener, RV Gate, RV Parking, Slab Parking Spaces', 'Attached, Parking Garage', 'Detached Garage, Garage - 1 Car', 'Alley Access, Alley Access', 'Driveway, Private Garage', 'Carport - 1 Car, Detached Garage, Driveway, Garage - 2 Car', 'Deed Restrictions, Golf, No Truck/RV/Motorcycle Parking, Park, Playground, Tennis Courts', 'Attached Garage, Garage - 2 Car, Garage Door Opener, Keypad Entry', 'Carport, Off street, Detached Garage', 'Alley Entrance', 'Oversized', 'Driveway, Parking Space - 4+', '2 Car Garage, 3 Car Garage, Attached Garage, Detached Garage, Heated, Opener', '60', 'Assigned, Covered, Under Building', 'On Street, Off Street, Detached Garage', 'Garage Is Detached, Assigned, Carport, Community Garage, Parking Space, Private', 'Alley Access, On Street, Parking Lot', '1 Car Carport, Attached, Front Loading, Main Level, Off Street Parking', 'Detached Garage, On Street, Off Street', 'Carport - 1 Car, Carport - 2 Car, Driveway, On-Street Parking', 'Over Height Garage, Slab Parking Spaces', 'Assigned, Guest, Open', 'Covered, Guest, Open, Oversized', 'Off Street, Detached Garage, On Street', 'Bath In Garage, Garage Door Opener, Garage Faces Side, Oversized, Under Building, Workshop in Garage', 'Alley Access, ASPHT', 'Carport-Attached, Garage-Attached', 'Private Garage', '1 - 4 Spaces', 'Circular Driveway, Driveway, Garage Door Opener, Garage Faces Side, Oversized, Portico, Split Garage, Workshop in Garage', '1 Assigned Space', '11', '2 Car, Parking Lot, Unassigned', '1 Car Garage, 1 Carport, 2 Off Street, Detached Garage, On Street', 'Circular Driveway, Driveway, Garage Door Opener, Oversized', 'Detached, Electric Door Opener, Rear Vehicle Entry, Slab Parking Spaces', 'Garage - 3 Car, Garage Door Opener, Keypad Entry, Side Load Garage', 'Parking Space Conveys, Paved Driveway, Off Street, Alley', 'Attached Garage, Garage - 1 Car, Parking Space - 3', '3 Car Or More, Detached, Garage, Kitchen Level Entry', '100', 'Attached Garage, Insulated Garage, Heated Garage, Electric, Storage', '\"Permit/Decal Reqd, Carport Spaces\"', '2 Car Garage, Detached Garage', 'Detached Garage, Attached Garage, Carport', 'Parking Space - 4+', 'Garage-Detached', 'Driveway, Garage - 2 Car, Garage Door Opener', 'Asphalt Blacktop, Attached Parking', 'Driveway, Garage Door Opener, On Street', 'Assigned, Covered, Guest', 'Driveway - Pavers', 'Asphalt Driveway, Surface, Fenced, Off Street', 'Covered, Golf Cart Garage, Under Building', 'Attached - REAR, AGGRE, Alley Access, DRVWY', 'Garage-Attached, Off Street', 'General Common Elements, Parking Lot', 'Electric Door Opener, RV Parking, Slab Parking Spaces', 'Common', 'Landscaped Area, Parking Lot, Partial Buildings, Pond, Pool/Club, Water Feature', 'Lot, Parking Space - 1', 'Electric Door Opener, RV Parking, Dir Entry frm Garage', 'Secure Parking, Alley, Driveway', 'Gated Parking, Guest Parking', 'Unassigned Parking', 'Indoor Space', 'Off Street, On Street, Detached Garage', 'Attached-Detached, DRVWY', 'Garage Faces Side', 'Assigned/Reserved, Attached, Door Opener, Parking Garage', '2 Car Space, Assigned Parking, Garage Door Opener, Garage-Ground Level, Guest Parking', '3 Car Garage, Attached Garage, Opener, Side Load', 'Off Street, Carport, On Street', 'Attached Garage, Garage - 2 Car, Garage Door Opener, Keypad Entry, Side Load Garage', 'Circular Driveway, Garage Door Opener', 'Concrete Driveway, On Street', 'ParkingFeatures', '1 Space Assigned, Surface', 'Attached - FRONT, On Street', 'Assigned, Golf Cart Parking', 'Attached Garage, Driveway, Garage - 3 Car', 'Garage Is Attached, Garage, Parking for Guests', '32', 'Garage Door Opener, On Street', 'Attached - REAR, AGGRE', 'Garage - 1 Car, Parking Space - 1', 'Attached, Parking Garage, Parking Lot', 'Community Boat Ramp, Fishing, Fitness, Gated Community, Golf Carts OK, Irrigation-Reclaimed Water, No Truck/RV/Motorcycle Parking, Park, Playground, Pool, Sidewalk, Special Community Restrictions, Tennis Courts, Water Access', 'Clubhouse, Swim Pool-Inground', 'Unassigned, Parking Lot', 'Unassigned, ASPHT', '27', 'PVT, ASPHT, DRVWY', 'Off Street, On Street, Driveway', '2 Car Garage, Attached, Front Loading, Off Street Parking', '2 Car Garage, Detached, Off Street Parking', '55', 'Paved Driveway, Attached Garage, On Street', 'Off street, None', '3 Car Garage or more, Attached, Main Level, Off Street Parking, Side Loading', 'Tuckunder Garage', 'Electric Door Opener, Carport Spaces', 'Attached Garage, Garage - 3 Car, Side Load Garage', 'Attached Garage, Back Load Garage, Garage - 1 Car', 'Barbecue, Club House, Fitness Center, Guest Parking, Pet Rules, Picnic Area, Rec/Multipurpose Room, Security', 'Paved Driveway, Assigned, Parking Lot', 'Boat, Driveway, Garage Door Opener', '22', 'Assigned, On Street, Off Street', 'Carport - 2 Car', 'Detached, DRVWY, GRAVL', 'Detached, AGGRE', 'Detached, Door Opener, Electric, Parking Garage, Water Available', '20 spaces', 'Basement, Carport - 3 Car', 'Parking Space Conveys, Off Street, Attached Garage', 'Driveway, Paved Drv', 'Access from Unit, Attached, Door Opener, Drain, Electric, Parking Garage', 'Detached Garage, Driveway, Garage - 1 Car', 'On Street, Off Street, Attached Garage', 'Attached - REAR, GRAVL', 'Attached Garage, Garage - 2 Car, On-Street Parking', 'Separate Strge Area, RV Parking, Slab Parking Spaces', '\"Attchd Gar Cabinets, Slab Parking Spaces\"', '2 Car Space, Covered Parking, Driveway', 'On-site - Sale, On Street, Off Street', '1 Car Garage, 2 Car Garage, Attached Garage, Detached Garage', '126 spaces', 'Alley Access, On Street', 'No Signs, Parking Restrictions', 'Electric Door Opener, Extnded Lngth Garage', 'Carport - 1 Car, Lot', 'Assigned Parking Space - 1, On-Street Parking', 'Carport, Off street, Attached Garage', 'Off Street, Carport, Attached Garage, Detached Garage, On Street', 'Attached Garage, Insulated Garage', '3+ Car Space, RV / Boat Parking', '\"Attchd Gar Cabinets, Electric Door Opener, Extnded Lngth Garage, Over Height Garage, RV Gate, Dir Entry frm Garage, Slab Parking Spaces\"', 'On-site - Sale, Driveway, Off Street', 'Basement, Attached, CONCR', 'Carport-Detached', '2 Car Garage, Attached Garage, Farm Bldg, Opener, Side Load', 'Attached - SIDE, Attached', 'Off Street, Attached Garage, Detached Garage', 'Garage Door Opener, Golf Cart Garage', 'Garage - 2 Car, Parking Space - 3', 'Garage - 4+ Car, Side Load Garage', 'Electric Door Opener, Extnded Lngth Garage, Dir Entry frm Garage, Slab Parking Spaces', '\"Attchd Gar Cabinets, Electric Door Opener, Extnded Lngth Garage, Separate Strge Area, RV Gate, RV Parking, Dir Entry frm Garage, Slab Parking Spaces\"', 'Lot, Parking Space - 2', 'Carport-Detached, Garage-Detached', '\"Attchd Gar Cabinets, Detached, Electric Door Opener, Separate Strge Area, RV Gate, RV Parking, Gated Parking, Temp Controlled, Slab Parking Spaces\"', 'Attached Garage, Driveway, Garage - 3 Car, Side Load Garage', '1 Car Garage, Detached Garage, Opener', 'Circular Driveway, Driveway, Garage Door Opener, Garage Faces Side, Golf Cart Garage, Off Street, Oversized, Parking Pad, Split Garage, Under Building', 'Attached Parking', 'Alley, Off Street', '2 Car, Auto Garage Door, Garage, Kitchen Level Entry', 'Circular Driveway, Handicap Parking, Rented/Permit Required, Unassigned, Surface, Parking Lot', 'Driveway Paved, Paved Parking, Street', 'Off Street, Parking Lot', 'Attached, Detached, DRVWY', '2 Car, Parking Lot, PAVED', 'Assigned, CONCR', 'Garage Door Opener, Split Garage', 'PVT, ALLYA, ONSTR, SHARD', 'Extnded Lngth Garage, Side Vehicle Entry, RV Garage, Slab Parking Spaces', 'Assigned, Fenced, Parking Space Conveys, Paved Driveway, Paved Parking, Private, Secure Parking, Surface, Unassigned, Off Street', 'Attached - REAR, Unassigned', 'Individual Garage, Off Street', 'Attached - SIDE, AGGRE, DRVWY, PAVED', '\"Attchd Gar Cabinets, Electric Door Opener, Extnded Lngth Garage, RV Gate, RV Parking, Dir Entry frm Garage\"', 'Garage - 2 Car, Parking Space - 2', 'Driveway, Garage Door Opener, Golf Cart Parking, Oversized', 'Direct Garage Access', '\"Attchd Gar Cabinets, Electric Door Opener, RV Gate, RV Garage, Carport Spaces\"', 'Unassigned, Off Street', 'Attached - REAR, Alley Access', 'Off Street, On Street, Carport', 'Concrete Driveway, Attached Garage, Off Street', 'Attached Garage, Garage - 2 Car, Garage Door Opener, Parking Space - 2', 'Electric Door Opener, Extnded Lngth Garage, RV Gate, Slab Parking Spaces', 'Driveway, Oversized, Workshop in Garage', 'Driveway - Concrete', 'Unassigned, Surface, Parking Lot', 'Off Street, Carport, On Street, Detached Garage', 'Detached Garage, Off Street, On Street', 'Lot', 'Driveway, Garage Door Opener, Off Street, Oversized', 'Attached, Auto Garage Door, Garage', 'Attached Garage, Opener', 'Attached, Concrete, Gravel', '1 Car Garage, Attached Garage, Opener', 'Assigned Parking Space - 1, Parking Garage', 'Attached Garage, Garage - 2 Car, Garage Door Opener, On-Street Parking', 'Driveway, On Street, Off Street', 'No Garage', 'Alley Access, Parking Pad', '3 Car Or More, Parking Pad, RV/Boat Parking, Off Street', 'Asphalt Driveway, Paved Parking, Attached Garage', '1 Car Garage, 2 Off Street, Attached Garage, Opener', 'Garage - 2 Car, Garage Door Opener, Parking Space - 2', '1 Car Garage, Attached, Off Street Parking', 'Unassigned, Off Street, Parking Lot, On Street', 'Detached parking, Off street parking', 'Detached Garage, Electric', 'Attached - REAR, PAVED', 'Attached Garage, Basement, Garage - 1 Car', 'Handicap Parking, Unassigned, Paved Parking, Parking Lot', 'Off Street, Carport, On Street, Attached Garage', 'Common, Golf Cart Parking', 'Covered, Driveway, Golf Cart Parking, Under Building', 'Concrete Driveway, Paved Driveway, Attached Garage, Off Street', 'Assigned/Reserved, Attached, Door Opener, Electric, Heated, Parking Garage, Water Available', 'Surface, Off Street', 'Assigned, Covered', 'Curb Parking, Driveway', 'Attached Garage, Driveway, Garage - 2 Car, On-Street Parking, Parking Space - 4+', 'Electric Door Opener, RV Gate, Dir Entry frm Garage, Carport Spaces', 'Basement, AGGRE, CIRDW', 'Assigned Parking Space - 1, Parking Deck, Parking Garage, Parking Space - 1', 'Carport, Off Street, Attached Garage', 'Double Carport', 'Fenced, Paved Driveway, Secure Parking, Off Street', 'Attached - FRONT, ASPHT', 'Attached - REAR, ASPHT', 'Off street, Attached Garage, Detached Garage', '2 Car Carport, 2 Car Garage, Attached, Main Level, Off Street Parking, Side Loading', '1 Assigned, Covered, Under Bldg Closed', 'Garage/Parking, Landscaping, Reserve Fund', '2 Car Garage, Opener', '2+ Spaces', 'Detached Garage, Driveway', 'Driveway, Garage - 4+ Car, Parking Space - 3', '2 Car Garage, 2 Carport, 2 Off Street, Detached Garage', 'Driveway, Guest', '\"Assigned Parking, Unassigned Parking, Permit/Decal Reqd, Carport Spaces\"', '\"Attchd Gar Cabinets\"', '3 Car Garage, Detached Garage', 'Assigned, Assigned', 'Assigned, Handicap Parking, Lighted Parking, Private, Secure Parking, Attached Garage, Parking Lot', 'Farm Bldg', 'Detached Garage, Driveway, Garage - 2 Car, On-Street Parking', 'Fire Alarm, Secured Garage / Parking, Security Lights, Security System, Security System Leased', 'Boat, Circular Driveway, Driveway, Guest, Off Street, Open', '2 Car Garage, Attached Garage, Heated, Opener', '2 Car Garage, Attached Garage, Common Area, On Street', 'On-site - Sale, Off Street', 'Free, Paved Driveway, On Street', 'Main Level, Off Street Parking, Utility Garage', '2 Assigned', 'Guest, Open', '1 Car Garage, Attached Garage', 'Attached-Detached, SHARD', '\"Attchd Gar Cabinets, Electric Door Opener, Dir Entry frm Garage, Slab Parking Spaces\"', 'Assigned, Parking Space Conveys, Parking Lot', '2 Car Garage, 3 Car Garage, Attached Garage, Detached Garage, Opener', '16 spaces', '17', 'Assigned, Driveway, Alley, Off Street', 'Extnded Lngth Garage, Side Vehicle Entry, Temp Controlled, Slab Parking Spaces', 'Detached Garage, Driveway, Garage - 4+ Car, Parking Space - 2', 'Garage Lot, Other', 'Off Site, On Street', 'Assigned/Reserved, Attached, Parking Garage', '2 Car, Attached, Auto Garage Door, Garage', 'Attached Garage, Off Street, Carport', 'On Street, Off Street, Attached Garage, Carport', 'Carport, ', 'On-site - Rent, Off Site', 'Detached Garage, Driveway, Garage - 4+ Car, Garage Door Opener', 'Garage Door Opener, Golf Cart Garage, Golf Cart Parking', 'Off Street, Carport, Attached Garage', 'Handicap Parking, Lighted Parking, Paved Parking, Unassigned, Parking Lot', 'Attached Garage, Storage', 'PVT, CONCR', 'Attached Garage, Garage - 1 Car, Garage Door Opener, Parking Space - 2', '2 or more Spaces Assigned, Surface, Underground', '1 Assigned, Driveway Paved, Guest', '1 Car Garage, Attached Garage, Detached Garage', 'Attached Garage, Driveway, Garage - 2 Car, Keypad Entry, On-Street Parking', '\"Attchd Gar Cabinets, Electric Door Opener, RV Gate, RV Parking\"', '1 Car Carport, 2 Car Garage, Detached, Main Level, Off Street Parking, Utility Garage', '12', 'Off street, ', 'Driveway Only', 'Detached Garage, Driveway, Garage - 2 Car, Garage Door Opener, Keypad Entry, On-Street Parking, Parking Space - 4+', 'Garage - 2 Car, Garage Door Opener, Side Load Garage', 'Attached Garage, Driveway, Garage - 2 Car, Garage Door Opener, Parking Space - 4+', 'Other, Garage Lot, Carport', 'Circular Driveway, Garage Door Opener, Guest', '30', 'Garage Door Opener, Garage Faces Side, Oversized', 'Side Vehicle Entry, RV Gate, RV Parking, Gated Parking, Carport Spaces', 'Off Street, Uncovered', 'Attached - FRONT, PAVED', 'Electric Door Opener, Extnded Lngth Garage, RV Gate, Dir Entry frm Garage, Slab Parking Spaces', 'On street, ', '1 Car Garage, 1 Off Street, Attached Garage', 'Garage, Paved', 'Deed Restrictions, Fishing, Gated Community, Golf Carts OK, No Truck/RV/Motorcycle Parking, Sidewalk, Water Access, Waterfront', 'Attached Garage, Driveway, Off Street, On Street', 'Near Public Transit, Outdoor Space', 'Assigned Parking, Community Structure, Carport Spaces', '120 spaces', 'Off Street, On Street, Carport, Attached Garage', 'Assigned Parking Space - 2, Parking Garage', 'Attached Garage, Back Load Garage, Driveway, Garage - 2 Car, Garage Door Opener, Keypad Entry, Tandem Garage', 'Circular Driveway, Driveway, Off Street, Parking Pad', 'Off Site, On Street, Parking Lot', 'Boat, Driveway, Garage Door Opener, Off Street', '3 Car Garage, Attached Garage, Farm Bldg, Opener', 'Garage - 3 Car, Garage Door Opener, Tandem Garage', 'ATCHR, DRVWY, GRAVL', 'Paved Parking, Surface, Parking Lot', 'RV Gate, RV Parking, Dir Entry frm Garage, Slab Parking Spaces', 'Association Insurance, Exterior Building, Garage/Parking, Landscaping, Property Management, Reserve Fund, Security System, Snow Removal, Trash Removal', 'Attached - FRONT, SHARD', '11 spaces', 'Driveway, Garage - 2 Car', '\"From I-27N take the 4th Street Exit. Turn left onto Chestnut. Parking for River Pier is located in garage behind Hennens restaurant. Enter garage and follow to 3rd level.\"', 'Tandem Garage, Dir Entry frm Garage, Slab Parking Spaces', 'Asphalt, Attached, Detached', 'Carport - 3 Car, Detached Garage', 'Driveway, Garage, Gravel', '3 Car Or More, Carport, Parking Shed', 'No Leasing, No Signs, Parking Restrictions, Pet Restrictions, Pets Allowed, Prior Apprvl- Sale', '3 Car Garage, 4 Car Garage, Attached Garage, Detached Garage, Opener, Side Load', '5209 spaces', 'Garage - 1 Car, Parking Space - 2', 'Guest, On Street', 'Attached Garage, Driveway, Attached Carport', 'Assigned Parking, Separate Strge Area, Carport Spaces', 'Attached - SIDE, DRVWY', 'Attached, GRAVL', 'Architectural, Minimum Sq Ft, No Commercial, No Mobile Homes, No Storage Building, No Truck Parking', '50 spaces', 'On Street, Parking Lot', 'Carport-Detached, Garage-Attached', 'Detached Carport', '2 Off Street, 4 Car Garage, Detached Garage, Farm Bldg', 'Assigned Parking Space - 2, Keypad Entry, Parking Garage', 'Attached - REAR, DRVWY, On Street', 'Guest Parking', 'Driveway Description', 'Access to Basement, Built-in under Home, Electric Door Opener', 'Detached Garage, Driveway, Garage - 2 Car, Parking Space - 3', 'Attached, CONCR, DRVWY, PKPAD', 'Circular Driveway', 'PVT, DRVWY', 'Asphalt', 'Circular Driveway, Driveway, Garage Door Opener', 'Alley Access, PKPAD', 'Alley, Driveway', 'Garage, Parking Space', 'Secure Parking, Parking Space Conveys, Assigned, Off Street', 'Off Street, Driveway', 'Alley Access, On Street, Open', 'ASPHT, Assigned', 'Attached Garage, Back Load Garage, Driveway, Garage - 1 Car', '15 spaces', 'Attached, Brick Driveway, Garage Door Opener', 'Concrete Driveway, Paved Parking, Parking Space Conveys, Off Street', '2 Car Garage, Detached Garage, On Street, Opener, Side Load', '28 spaces', 'Attached Garage, Parking Space - 4+', 'None, Off Street', '1 Car Garage, Detached, Off Street Parking', 'Bath In Garage, Garage Door Opener, Workshop in Garage', 'Electric Door Opener, Gated Parking, Dir Entry frm Garage, Slab Parking Spaces', 'Driveway, Garage Door Opener, Workshop in Garage', 'Concrete', 'Drive - Paved', 'Attached, DRVWY, PKPAD', '\"Attchd Gar Cabinets, Electric Door Opener, Golf Cart Garage\"', 'Double Wide Drive, Paved Drv', '2 Car, Attached, Garage', 'Attached - SIDE, CONCR, DRVWY', 'Assigned, PKPAD', 'Driveway, On Street Parking', 'RV Gate', 'Alley Access, CONCR', 'Direct Garage Access, Driveway, Driveway - Concrete, Garage Door Opener', 'Circular Driveway, Oversized, Tandem', 'Electric Door Opener, Extnded Lngth Garage, Over Height Garage, RV Gate, RV Parking, RV Garage, Slab Parking Spaces', 'Controlled Access, Gated Parking, Maintains Landscape', 'Attached Garage, Driveway, Garage - 2 Car, Garage Door Opener, On-Street Parking', 'Carport - 2 Car, Driveway, Parking Space - 4+', '93 spaces', '2 Car Garage, 2 Off Street, Attached Garage, Opener, Side Load', '\"Attchd Gar Cabinets, Electric Door Opener, Extnded Lngth Garage\"', 'Attached, Gravel', 'Boat, Circular Driveway, Covered, Garage Door Opener, Open, Oversized, Portico, RV Garage, Workshop in Garage', 'Assigned/Reserved, Parking Garage', 'Paved Driveway, Attached Garage', 'Carport - 1', '\"Attchd Gar Cabinets, Electric Door Opener, Extnded Lngth Garage, Golf Cart Garage, Dir Entry frm Garage\"', 'Driveway, Garage Door Opener, Garage Faces Side, Off Street, On Street, Oversized', '3 Car Garage or more, Attached, Basement, Front Loading, Main Level, Off Street Parking, Rear Loading', 'Carport - 2 Car, Detached Garage, Garage - 3 Car', 'Attached Garage, Int Access From Garage, RV/Boat Parking', 'Basement, ASPHT, DRVWY', 'Detached, Detached, PAVED', 'Covered, Golf Cart Parking', '\"Attchd Gar Cabinets, Electric Door Opener, Extnded Lngth Garage, Over Height Garage, Side Vehicle Entry, RV Gate, RV Parking, Dir Entry frm Garage\"', 'Carport - 1, Converted Garage', 'Assigned, Concrete Driveway, Parking Space Conveys, Private, Secure Parking, Attached Garage', 'Concrete Driveway, On Street, Off Street', '5 - 10 Spaces, On Site', 'None, On Street', '40 spaces', '3 Car, Parking Lot', 'Electric Door Opener, Dir Entry frm Garage, Carport Spaces', 'Circular Driveway, Driveway, Garage Faces Side', 'Driveway, Garage Door Opener, Parking Pad', 'Attached Garage, Garage - 3 Car, Garage Door Opener, Side Load Garage, Tandem Garage', 'Driveway, Garage - 2 Car, Garage Door Opener, Parking Space - 2, Side Load Garage', 'Driveway, Attached Carport, On Street, Attached Garage', 'Parking Space Conveys, Private, Detached Garage, Parking Lot', 'Attached, DRVWY', 'Capital Reserves, Clubhouse, Common Area Grounds Maintenance, Covered Parking, Exterior Maintenance w/ Roof, Fitness Facility, Gas, Insurance, Irrigation Water, Outdoor Hot Tub, Recycling, Sauna, Snow Removal, Trash Removal, Water', 'Double Wide Drive, Driveway, Oversized Drive', 'Assigned, Parking Space Conveys, Secure Parking, Attached Garage', 'Basement, ASPHT', 'Electric Door Opener, RV Gate', 'Concrete Driveway, Paved Parking, Off Street', 'Attached Garage, Detached Garage, Off Street', 'ASPHT, PAVED', 'Attached Garage, Garage - 2 Car, Garage Door Opener, Parking Space - 4+, Side Load Garage', 'Boat, Garage Faces Side', 'Driveway, Public On-Street Parking', 'Basement, DRVWY', 'Attached, ASPHT, CIRDW', 'Carport - 2 Car, Detached Garage', 'Detached, Parking Garage', 'Circular Driveway, Covered, Driveway, Garage Door Opener, Garage Faces Side, Golf Cart Parking, Oversized, Workshop in Garage', 'Attached Garage, Back Load Garage, Garage - 2 Car, Garage Door Opener, Keypad Entry, On-Street Parking', 'CONCR, Parking Lot, Unassigned', 'Attached Garage, Basement, Garage - 2 Car', 'Alley Access, CONCR, DRVWY', '153', 'Garage Door Opener, Garage Faces Rear', 'Boat, Circular Driveway, Driveway, Garage Door Opener, Golf Cart Parking, Guest, Open, Oversized, Split Garage, Workshop in Garage', 'Attached - SIDE, Detached, CONCR', 'Alley Access, Garage Faces Rear, Parking Pad', '\"Attchd Gar Cabinets, Electric Door Opener, RV Gate\"', 'Detached, DRVWY', 'Controlled Access, Gated Parking, Gym/Ex Room, Maintains Landscape, Onsite Management, Pet Rules, Rec/Multipurpose Rm, Sauna', 'Assigned, DRVWY, On Street', 'Attached Garage, Back Load Garage, Garage - 1 Car, Garage Door Opener, On-Street Parking', 'Driveway, Off Street, On Street', 'RV Gate, RV Parking, Carport Spaces', 'Driveway, Garage Door Opener, Guest, Oversized', 'Attached Garage, Driveway, Garage - 2 Car, Garage Door Opener, Keypad Entry', 'Driveway, Garage Door Opener, Guest, Off Street, Open, Oversized, Parking Pad, Split Garage', 'Assigned, Boat, Covered, Guest', 'On-Street Parking', 'Assigned/Reserved, Electric, Parking Garage', 'Attached Garage, Basement, Driveway, Garage - 1 Car', 'Garage Door Opener, Oversized, Workshop in Garage', 'Driveway, Garage Door Opener, Private Garage', 'Driveway, Garage Door Opener, Guest', 'Driveway Entrance, Parking Space, Paved Driveway', 'Common, Off Street, Open', 'Boat, Driveway, Oversized', '\"Attchd Gar Cabinets, Electric Door Opener, Separate Strge Area, Dir Entry frm Garage, Slab Parking Spaces\"', 'PKPAD', 'Assigned, Guest, Parking Pad', 'Driveway, Garage - 3 Car, Side Load Garage', '1 Assigned, Covered, Paved Parking', '\"Attchd Gar Cabinets, Electric Door Opener, RV Gate, RV Parking, Slab Parking Spaces\"', 'Covered, Guest', 'Driveway, Garage, Paved', 'Attached Garage, Detached Garage, Side Load Garage', 'Driveway, Gated, RV Gated', 'Tandem Garage, RV Gate, Dir Entry frm Garage, Slab Parking Spaces', 'Circular Driveway, Asphalt Driveway, Paved Driveway, Attached Garage, Detached Garage', 'Electric Door Opener, Golf Cart Garage, Slab Parking Spaces', 'Electric Door Opener, Tandem Garage, Dir Entry frm Garage, Slab Parking Spaces', 'Detached Garage, Garage - 4+ Car', '42', 'Asphalt, Driveway, Off Street, Oversized Drive, Visitor', 'Basement, CONCR', '1 Assigned, Common, Driveway Paved, Golf Cart, Guest, Paved Parking', '2 Car Garage, Attached Garage, Heated, Opener, Side Load', 'Assigned, Lighted Parking, Detached Garage, Off Street', 'Attached Garage, Driveway, Garage Door Opener, Keypad Entry', '3 Car Garage, Detached Garage, On Street, Opener', '32 spaces', '40', '1 Car Carport, 2 Car Garage, 3 Car Garage or more, Attached, Detached, Front Loading, Main Level, Off Street Parking, Side Loading, Utility Garage', ' Apply', 'Parking Space', 'Garage - 2 Car, On-Street Parking', 'Assigned Parking Space - 1, Parking Space - 1', 'Separate Strge Area, RV Gate, RV Parking, Carport Spaces', 'Driveway, Attached Carport', 'Garage - 2 Car, Side Load Garage', 'Assigned/Reserved, Attached, Door Opener, Electric, Parking Garage', 'DRVWY, GRAVL', 'Activities Available, Clubhouse, Laundry Facility, Play Area, Swim Pool-Inground', 'Assigned/Reserved, Heated, Parking Garage', 'Detached Garage, On Street, Carport, Attached Garage', 'Parking Space Conveys, Detached Garage', 'Driveway, Garage Door Opener, Garage Faces Rear', 'Detached, Detached', 'On-site - Sale, Off Street, Driveway', 'Attached Garage, Driveway, Garage - 3 Car, Garage Door Opener, Keypad Entry', '18 spaces', 'Circular Drive', 'Covered, Driveway Paved', 'Electric Door Opener, RV Gate, RV Parking', 'CONCR, DRVWY, PKPAD', '1 Car, Assigned, Parking Lot', 'Driveway, Garage Door Opener, Oversized, Workshop in Garage', 'Secure Parking, Prepaid, Rented/Permit Required, Off Site, Detached Garage', 'Carport, Off street, On street', '55 spaces', 'Assigned Parking Space - 1, Garage Door Opener, Lot, Parking Garage, Parking Space - 1', 'Boat, Driveway, Garage Faces Rear, Garage Faces Side, Parking Pad', 'Lighted Parking, Attached Garage', 'Separate Strge Area, Carport Spaces', 'Guest', 'Attached Garage, Detached Garage, Driveway, Garage - 2 Car, Garage - 4+ Car, Garage Door Opener, Keypad Entry', 'Covered, Golf Cart Parking, In Garage', 'Driveway, Garage - 3 Car, Parking Space - 4+, Side Load Garage', 'Attached Garage, Driveway, Garage - 2 Car, Parking Space - 2', 'Covered, Golf Cart Garage, Workshop in Garage', 'Curb Parking', 'Attached Garage, Garage - 2 Car, Parking Space - 4+', 'Assigned, Garage Door Opener, Guest, Open, Under Building', '2 Off Street, 3 Car Garage, Attached Garage, Detached Garage, Opener', '3 Car Or More, Kitchen Level Entry, Parking Pad, RV/Boat Parking', 'Attached Garage, Garage - 2 Car, Tandem Garage', 'Basement, Unassigned', 'Garage - 4+ Car', 'Rented/Permit Required, Off Site', 'Detached Garage, Driveway, Garage - 2 Car, Garage Door Opener, Parking Space - 4+', 'Building & Grounds, Concierge, Gas, Insurance Common Area, Limited Access, Partial Utilities, Porter, Trash, Valet Parking, Water and Sewer', 'Attached Garage, Driveway, Garage - 3 Car, Garage Door Opener, Keypad Entry, Parking Space - 4+, Side Load Garage', '2 Car, Auto Garage Door, Garage, Side/Rear Entrance', 'Assigned Parking, Slab Parking Spaces', 'Banquet Facilities, Club House, Guest Parking, Sauna, Storage Area', 'Covered', 'Concrete Driveway, Paved Driveway, Paved Parking, Off Street', 'Parking Space Conveys, Attached Garage', '4 Car Garage, Detached Garage, Opener', 'Garage Faces Rear, On Street, Parking Pad', 'Dir Entry frm Garage, Shared Driveway', 'ASPHT, Unassigned', 'Carport-Attached, Garage-Attached, Garage-Detached', '2 Car, Alley Access, Parking Lot', 'Detached Carport, Driveway, Off Street, On Street', 'Electric Door Opener, Separate Strge Area, RV Gate, RV Parking, Dir Entry frm Garage, Slab Parking Spaces', 'CONCR, DRVWY, SHARD', '2 Car Garage, Attached, Basement, Off Street Parking', 'Detached, ASPHT, GRAVL', 'Garage - 1 Car, Parking Space - 3', 'CONCR, DRVWY', 'Concrete Driveway, Shared Driveway, Attached Garage', 'Electric Door Opener, Extnded Lngth Garage, Over Height Garage, Rear Vehicle Entry, RV Parking, RV Garage, Dir Entry frm Garage, Slab Parking Spaces', 'Attached-Detached, Detached, AGGRE', 'Access from Unit, Attached, Door Opener, Electric, Heated, Parking Lot, Water Available', 'Attached Garage, Back Load Garage, Garage - 2 Car, Garage Door Opener', 'Attached Garage, Garage Parking, Int Access From Garage, Enclosed Garage', '2 Car Space, Assigned Parking, Garage Door Opener, Secured', 'Attached Garage, Driveway, Garage - 2 Car, Keypad Entry', 'Attached - REAR, CONCR, SHARD', 'Driveway, Garage Door Opener, Garage Faces Side', '1.00', 'RV Gate, RV Parking, Dir Entry frm Garage', 'Circular Driveway, Garage Door Opener, Garage Faces Rear, Garage Faces Side', 'RV Gate, RV Parking', 'Detached Garage, Carport, Off Street', 'Electric Door Opener, Unassigned Parking, Gated Parking, Slab Parking Spaces', 'Detached, Garage Door Opener, Gravel, Parking Pad, Parking Spaces, RV Parking', 'Garage-Attached, Garage-Detached', 'Club Facilities, RV/Boat Parking', 'Attached Garage, Garage - 2 Car, Garage Door Opener, Keypad Entry, Parking Space - 4+', 'Assigned, Parking Space, Underground', '\"Attchd Gar Cabinets, Electric Door Opener, Tandem Garage, RV Gate, Dir Entry frm Garage\"', 'On-site - Rent, Rented/Permit Required, On Street', 'On Street, Attached Garage, Carport', 'Garage - 2 Car, Garage Door Opener, On-Street Parking', 'Driveway, Gravel, Paved', 'Driveway, Garage Door Opener, Golf Cart Garage', '1 Car Space, Garage-Under Bldg, Guest Parking, Oversize Gar/Storage, Secured', 'Covered, Oversized, Parking Pad', '2 Car, ASPHT, Parking Lot', '\"Attchd Gar Cabinets, Electric Door Opener, Side Vehicle Entry, RV Gate, RV Parking, Carport Spaces\"', '14', 'Alley', 'Concrete Driveway', 'Assigned Parking, Guest Parking, Secured', 'Attached Garage, Driveway, Garage - 2 Car, Garage Door Opener, Keypad Entry, Parking Space - 2', '\"Attchd Gar Cabinets, Electric Door Opener, Extnded Lngth Garage, Golf Cart Garage, Separate Strge Area, Tandem Garage, RV Gate, Slab Parking Spaces\"', 'Carport Detached, Parking Space', 'Attached, Parking', 'Electric Door Opener, Extnded Lngth Garage, RV Gate, RV Parking, Gated Parking, Dir Entry frm Garage', 'Attached, Garage Door Opener', 'Assigned Parking Space - 1, Lot, On-Street Parking', 'Carport - 1 Car, Driveway, Parking Space - 4+', '\"Attchd Gar Cabinets, Electric Door Opener, Golf Cart Garage, Dir Entry frm Garage\"', 'Garage Is Attached, Garage, Parking for Guests, On street', 'Detached, ASPHT, CIRDW', 'Attached - FRONT, CONCR, DRVWY, PKPAD', 'Asphalt Driveway', 'Attached Garage, Carport - 2 Car, Garage Door Opener, Keypad Entry', '1 Assigned, Covered, Deeded, Guest', 'Detached, Attached, CONCR', '15', 'Paved Driveway, Attached Carport, On Street', '22 spaces', 'Parking Space Conveys, Surface, Off Street', '\"Attchd Gar Cabinets, Electric Door Opener, RV Gate, Slab Parking Spaces\"', 'Architectural, Minimum Sq Ft, No Commercial, No Mobile Homes, No RV Parking, No Storage Building, No Truck Parking', 'Detached, Alley Access, CONCR', 'Covered Parking, Driveway', '\"Attchd Gar Cabinets, Detached, Extnded Lngth Garage, Over Height Garage, RV Parking, RV Garage, Carport Spaces\"', 'Detached, Parking Garage, Parking Lot', 'Off Street, Reserved', 'Driveway, Garage - 2 Car, Parking Space - 3', 'Direct Garage Access, Driveway, Driveway - Combination, Driveway - Pavers, Driveway Gate', 'Assigned, Parking Space Conveys, Paved Parking, Private, Driveway, Off Street', 'Off street, On street, Detached Garage', '2 Off Street, 3 Car Garage, Attached Garage, Opener, Side Load', '\"Attchd Gar Cabinets, Electric Door Opener, Side Vehicle Entry, RV Gate, RV Parking, Dir Entry frm Garage, Slab Parking Spaces\"', 'Capital Reserves, Common Area Grounds Maintenance, Concierge, Covered Parking, Exterior Maintenance w/ Roof, Gas, Insurance, Irrigation Water, Recycling, Sewer, Snow Removal, Storage, Trash Removal, Water', 'Attached - SIDE, ASPHT', '1 Car Garage, 1 Off Street, Attached Garage, On Street', '13 spaces', 'Electric Door Opener, Gated Parking, Slab Parking Spaces', 'Air Conditioning, Association Insurance, Electric, Exterior Building, Garage/Parking, Gas, Heat, Landscaping, Property Management, Recreation, Reserve Fund, Security Staff, Sewer, Snow Removal, Trash Removal, Water', 'On street, Detached Garage', '4 Car Garage, Attached Garage, Detached Garage, Heated', 'Landscaped Area, Parking Lot, Partial Buildings, Pond, Wooded Area', 'Detached Garage, Garage - 2 Car, Parking Space - 2', 'Driveway, Gravel', '1 Car Space, Covered Parking', 'Electric Door Opener, RV Gate, RV Parking, Gated Parking, Carport Spaces', 'CIRDW', '1 Assigned, Covered, Guest', 'Electric Door Opener, Over Height Garage, RV Gate, RV Parking, Slab Parking Spaces', 'Covered, Driveway, Garage Door Opener, Oversized', 'Detached Garage, Garage - 2 Car, Garage Door Opener, Parking Space - 4+', 'Attached Garage, Driveway, Garage - 1 Car', '2 Car Garage, 3 Car Garage, Detached Garage', '1 Space Assigned, Heated, Underground', 'Attached Garage, Garage - 1 Car, Garage Door Opener', '3 Car Garage or more, Attached, Main Level, Off Street Parking, Side Loading, Utility Garage', '3 Car Or More, Off Street', '140', '1 Car Carport, 1 Car Garage, Attached, Basement, Off Street Parking', 'Electric Door Opener, Golf Cart Garage, Dir Entry frm Garage, Slab Parking Spaces', 'Access from Unit, Assigned/Reserved, Attached, Door Opener, Parking Garage', 'Detached, DRVWY, PKPAD, PAVED', 'Driveway - Concrete, Garage Door Opener', 'Boat, Driveway, Garage Door Opener, Oversized, Parking Pad', 'Circular Driveway, Driveway, Oversized', 'Assigned/Reserved, Attached, Door Opener, Heated, Parking Garage, Water Available', 'Common, Open', 'Capital Reserves, Clubhouse, Common Area Grounds Maintenance, Community Pool, Covered Parking, Exterior Maintenance w/ Roof, Fitness Facility, Gas, Insurance, Irrigation Water, Outdoor Hot Tub, Recycling, Sauna, Sewer, Snow Removal, Trash Removal, Water', '\"Attchd Gar Cabinets, Dir Entry frm Garage, Slab Parking Spaces\"', 'Golf Cart Garage, Dir Entry frm Garage, Slab Parking Spaces', 'PARKING DESCRIPTION', 'Electric Door Opener, Extnded Lngth Garage, Over Height Garage, Separate Strge Area, RV Gate, RV Parking, Dir Entry frm Garage, Slab Parking Spaces', '\"Attchd Gar Cabinets, Electric Door Opener, RV Parking, Slab Parking Spaces\"', 'Detached, Electric Door Opener, Slab Parking Spaces', 'ATCHF', 'Assigned, Secure Parking, Parking Lot', 'Driveway, Garage - 2 Car, Side Load Garage', 'Detached Garage, On Street, Attached Garage', 'Attached - SIDE, ASPHT, CIRDW, DRVWY', '17 spaces', '1 - 4 Spaces, On Site', 'Asphalt Driveway, Attached Garage', 'Rear Vehicle Entry, RV Gate, RV Parking, Carport Spaces', 'Electric Door Opener, Separate Strge Area, RV Gate, Dir Entry frm Garage, Slab Parking Spaces', 'Electric Door Opener, Gated Parking, Dir Entry frm Garage', 'Covered, Driveway, Garage Door Opener', 'Curb Parking, Driveway, Garage Door Opener, On Street', '1 Assigned', 'Attached Garage, Garage - 3 Car, Garage Door Opener, Tandem Garage', '\"Attchd Gar Cabinets, Electric Door Opener, Extnded Lngth Garage, Tandem Garage, Slab Parking Spaces\"', 'Boat, Garage Door Opener, Parking Pad', 'Parking Garage, Parking Space - 1', '1 Car Space, Assigned Parking, Guest Parking', 'From SR 45, Home on corner of High St & Market. Parking on High St.', 'Stone Driveway, Private, Alley, Detached Garage, Off Street', 'Electric Door Opener, RV Parking, Dir Entry frm Garage, Slab Parking Spaces', '\"Attchd Gar Cabinets, Electric Door Opener, Golf Cart Garage, Dir Entry frm Garage, Carport Spaces\"', 'Garage Parking Description', 'Driveway, On-Street Parking, Parking Space - 3', 'Circular Driveway, Electric Vehicle Charging Station(s), Heated, Stone Driveway, Attached Garage', '9 Car, CONCR, Parking Lot', '2 Car, Attached, Auto Garage Door, Garage, Kitchen Level Entry', '210 spaces', 'Driveway, Driveway - Concrete', '1 Car Carport, Off Street Parking', '3 Car Garage, Attached Garage', 'Garage - 2 Car, Garage Door Opener, Keypad Entry, Parking Space - 2', '2 Car Garage, Heated, Opener', 'Concrete Driveway, Detached Garage', 'Attached Garage, Driveway, Garage - 1 Car, Garage - 2 Car, Keypad Entry, Side Load Garage', 'Attached Garage, Driveway, Garage - 4+ Car, Garage Door Opener, Parking Space - 4+', 'Private, Detached Garage', 'Driveway, Garage Door Opener, Golf Cart Parking, Oversized, Parking Pad, Split Garage, Under Building', 'Driveway, Parking Space - 1', 'Unassigned', 'Assigned, Parking Space Conveys, Lighted Parking, Attached Garage', 'Parking Lot, Off Street', 'CONCR, GRAVL', 'Circular Driveway, Driveway, Off Street', 'Garage - 1 Door, Parking Space', 'Attached - REAR, Assigned', 'Attached Garage, Driveway, Garage - 3 Car, Parking Space - 3', 'Assigned Parking, Unassigned Parking, Community Structure, Carport Spaces', 'Alley Access, Alley Access, DRVWY, On Street', 'Attached, CONCR, DRVWY', 'Surface, Underground', 'Golf Cart Garage, Golf Cart Parking', 'RV-Boat', 'Covered, Driveway, Garage Door Opener, On Street', 'Double Wide Drive', 'Paved Driveway, Private', 'Concrete Driveway, Fenced, Free, Off Street', 'Rear Vehicle Entry, Slab Parking Spaces', '\"Attchd Gar Cabinets, Electric Door Opener, Separate Strge Area, RV Gate, RV Parking, Dir Entry frm Garage, Slab Parking Spaces\"', '1 Off Street, 2 Car Garage, 2 Off Street, Detached Garage, Opener', '1 Addl Parking Space, 2 Car Space, Attached Garage, Detached Garage, Detached Parking, Garage Door Opener, RV / Boat Parking', 'Electric Door Opener, Extnded Lngth Garage, Slab Parking Spaces', 'Parking Under Building, Reserved', 'Carport, Off street, On street, Detached Garage', 'Assigned Parking Space - 2, Driveway', '5 Car Garage +, Attached Garage, Detached Garage, Heated, Opener', 'Electric Door Opener, RV Parking, Gated Parking, Dir Entry frm Garage, Slab Parking Spaces', 'Assigned, Paved Parking, Parking Lot', 'Driveway, On Street, Open', 'Attached, CONCR, On Street', 'Carport - 2 Car, Parking Space - 4+', 'Attached, PAVED', 'Driveway, Off Street, Parking Pad', 'Attached, Detached, ASPHT', '2 Off Street, 5 Car Garage +, Detached Garage', 'BBQ Area, Cable TV, Clubhouse', 'Shared Driveway, Off Street', 'Other, Garage Lot', '89 spaces', 'Assigned, Off Street, On Site', 'Asphalt, Parking Spaces', 'Controlled Entrance, Driveway Gate', 'Unassigned, General Common Elements, Off Street', 'Attached Garage, Garage - 3 Car, Garage Door Opener, Parking Space - 3, Side Load Garage', 'Assigned Parking Space - 2, Attached Garage, Garage Door Opener, Parking Deck', '18', 'General Common Elements, Driveway', 'Common, Guest', 'Attached Garage, Heated Garage, Electric', 'Parking Restrictions, Pets Allowed', 'Take Hwy 27 North from Chattanooga then take the Signal Mt Rd exit and turn right onto Signal Mt Rd. Past the Food City Shopping center take a left onto Suck Creek Rd. Proceed to River Canyon Rd on your left.Approximately 0.6 miles on your right is the property with the Berkshire Hathaway sign. There is an old logging road that takes you up to the pipeline. Truck or 4x4 is recommended or park at the bottom off the road. Parking is also available directly across the street with advanced notice.', 'Detached, Rear/Side Entry', '\"Attchd Gar Cabinets, Electric Door Opener, Extnded Lngth Garage, Golf Cart Garage, Dir Entry frm Garage, Slab Parking Spaces\"', '2 Car Carport, Main Level, Off Street Parking', '2 Car Garage, Attached, Main Level, Off Street Parking, Side Loading', 'Electric Door Opener, Temp Controlled, Slab Parking Spaces', 'Circular Driveway, Garage Door Opener, Garage Faces Rear, Garage Faces Side, Oversized', 'Paved Driveway, Asphalt Driveway, Attached Garage, On Street', 'Attached - REAR, On Street', 'Concrete Driveway, Alley', '1 Car Garage, 5 Car Garage +, Attached Garage, Detached Garage', 'Single Carport', 'Driveway, Open, Oversized', 'Activities Available, Clubhouse, Gas Metered, Laundry Facility, Swim Pool-Inground', 'Deed Restrictions, No Truck/RV/Motorcycle Parking, Park', 'Cash', '2+ Spaces, Driveway Paved, RV-Boat', 'Assigned, Garage Door Opener, Guest, Secured, Underground', '3 Car Garage or more, Detached, Off Street Parking', '2 Car, Auto Garage Door, Garage, Storage', '82 spaces', 'Brick Driveway, Parking Space Conveys, Off Street', 'Attached Garage, Garage - 1 Car, Garage - 2 Car', 'On Street, Off Site', 'Basement, CIRDW', 'Carport, Driveway', 'Boat, Garage Door Opener, Oversized', 'Assigned, Public, Unassigned, Parking Lot', 'Covered, Driveway, Garage Door Opener, Oversized, Parking Pad, Under Building, Workshop in Garage', 'Assigned, Lighted Parking, Attached Garage', '3 Car Garage or more, Attached, Basement, Main Level, Off Street Parking, Side Loading', 'Double Wide Drive, Driveway, On Street, Paved Drv', 'Electric Door Opener, Extnded Lngth Garage, Tandem Garage, Dir Entry frm Garage', 'Electric Door Opener, Extnded Lngth Garage, Side Vehicle Entry, RV Gate, RV Parking, Dir Entry frm Garage', 'Paved Parking, Off Street', 'Off Street Parking, Utility Garage', 'Circular Driveway, Garage Door Opener, Garage Faces Side', 'Guest, Under Building', '24', '2 Car, CONCR, Parking Lot', 'Tandem', 'Garage - 2 Car, Garage Door Opener, Parking Space - 4+', 'On Street, Open', 'Community Garage, Garage Attached, Parking for Guests, Subterr Tandem', '2 Assigned Spaces', 'Electric Door Opener, Extnded Lngth Garage, Over Height Garage, Separate Strge Area, RV Gate, RV Parking, RV Garage, Slab Parking Spaces', 'Carport - 1 Car, Driveway', 'Detached Garage, Garage - 2 Car, Garage Door Opener', 'Assigned Parking, Electric Door Opener, Separate Strge Area, Community Structure, Gated Parking, Carport Spaces', 'West on Edgewater Drive from West 117th St. Parking at cul de sac near building entry.', 'Side Entry, Parking Under Building, Street/Driveway', 'Side Vehicle Entry, RV Gate, RV Parking, Dir Entry frm Garage, Slab Parking Spaces', 'Extnded Lngth Garage, Slab Parking Spaces', 'Boat, Garage Door Opener, Open', 'Off Street, Carport, Attached Garage, On Street', 'Back Load Garage, Detached Garage, On-Street Parking', 'Asphalt Driveway, Attached Carport', '150', 'Assigned/Reserved, Door Opener, Drain, Electric, Heated, Parking Garage, Water Available', 'Garage Door Opener, Guest', 'Air Conditioning, Association Insurance, Exterior Building, Garage/Parking, Heat, Property Management, Reserve Fund, Sewer, Snow Removal, Trash Removal, Water', 'Assigned/Reserved, Attached, Heated, Parking Garage, Parking Lot', 'Circular Driveway, Covered, Driveway, Garage Door Opener, Garage Faces Side, Guest, Oversized, Parking Pad, Split Garage', 'Garage - 3 Car, Garage Door Opener', 'Garage Door Opener, Under Building', 'Asphalt Driveway, Free, Off Street', 'Attached Garage, Driveway, Garage - 2 Car, Garage Door Opener, Parking Space - 4+, Side Load Garage', 'Driveway Paved, Free Standing, Paved Parking, RV-Boat', 'Driveway, On-Street Parking, Parking Space - 2', 'Rented/Permit Required, Parking Lot', 'Detached, Slab Parking Spaces', 'Carport - 2 Car, Driveway', '1 Car Carport, Open Parking', 'Gravel Driveway, Concrete Driveway', 'Fenced, Parking Space Conveys, Paved Parking, Private, Surface, Driveway, Off Street', '2 Car, Parking Pad', 'Detached, Alley Access', 'Attached - REAR, CIRDW, On Street', 'On Street, Driveway', 'Unpaved Area', 'Attached Garage, Driveway, Garage - 3 Car, Garage Door Opener, Keypad Entry, Side Load Garage', 'Bath In Garage, Garage Door Opener, Oversized', '2 Car Garage, Front Loading, Main Level, Off Street Parking', 'Electric Door Opener, Paved Driveway', 'Total redevelopment, Parking, Storage yard', 'Circle Drive, Covered', 'Activities Available, BBQ Area, Clubhouse, Electric Metered, Game Room, Gas Metered, Hot Tub Pool, Laundry Facility, Swim Pool-Inground', 'Covered, Curb Parking, Driveway, Garage Door Opener, Off Street, On Street', '110', '2 Car, Unassigned, Assigned, Parking Lot', 'Off street, On street, Attached Garage, Detached Garage', 'Attached - REAR, ASPHT, DRVWY, PKPAD', 'Driveway Unpaved', 'Assigned, Covered, Guest, Under Building', 'Private, Driveway', 'Circular Drive, Stone/Gravel', 'Carport - 3+ Car', 'Assigned Parking, Guest Parking', 'Driveway, Garage Door Opener, Garage Faces Side, RV Garage, Tandem, Workshop in Garage', 'On-site - Sale, Parking Fee, Electric Vehicle Charging Station(s), Attached Garage', 'Golf Cart Parking, Guest, Open', 'Assigned, Parking Lot, On Street', '140 spaces', 'Carport - 1 Car, Driveway, Parking Space - 3', 'Garage Door Opener, Off Street, Parking Pad', 'Attached - SIDE, CIRDW, DRVWY', 'Garage Door Opener, Off Street', 'Driveway, Garage Faces Side', 'Assigned, Guest, Reserved', '2 Car Garage, 3 Car Garage, Attached Garage, Detached Garage, Shared Driveway', 'Asphalt, Driveway, Paved Drv', '2 Car Space, Attached Garage, Attached Parking, Garage Door Opener, Keypad Entry, Side Entry Garage', 'Covered, Driveway, Golf Cart Parking', 'On Site', 'RV Gate, Dir Entry frm Garage, Slab Parking Spaces', '59 spaces', 'Side Vehicle Entry, Carport Spaces', 'Attached - REAR, ASPHT, PAVED, Unassigned', 'Assigned, Concrete Driveway, Off Street', 'Assigned, Off Street, Parking Lot', 'On street, Attached Garage, Detached Garage', 'Attached - REAR, CONCR, On Street', 'Circular Driveway, Oversized', 'Boat Parking, Drive - Unpaved, RV Parking', 'Covered, Parking Pad', 'Paved Driveway, On Street', 'Back Load Garage, Detached Garage, Driveway, Garage - 2 Car, Garage Door Opener', 'Driveway, Garage Door Opener, Garage Faces Side, On Street, Split Garage', 'Tandem Garage, Dir Entry frm Garage', 'Driveway Gate', 'Attached - SIDE, AGGRE, DRVWY, PKPAD', 'Driveway, On-Street Parking', 'Converted Garage, Driveway', 'Attached - SIDE, ASPHT, CIRDW', 'Side Vehicle Entry, RV Parking, Slab Parking Spaces', 'Attached - REAR, AGGRE, DRVWY', 'Assigned, ASPHT', '\"Attchd Gar Cabinets, Electric Door Opener, RV Gate, RV Parking, Dir Entry frm Garage, Slab Parking Spaces\"', '1 Car, Attached - FRONT, Parking Lot', 'Driveway, Garage Door Opener, Golf Cart Garage, Golf Cart Parking, Tandem', 'Attached - SIDE, AGGRE, PKPAD', 'Assigned, Common Area', '2 Car, Auto Garage Door, Garage, Kitchen Level Entry, Side/Rear Entrance', 'Covered, Golf Cart Garage', '\"Attchd Gar Cabinets, Electric Door Opener, RV Gate, Dir Entry frm Garage, Slab Parking Spaces\"', 'Parking lot entrance off Euclid Heights Blvd', 'Attached, ASPHT, DRVWY', 'Detached Garage, Garage - 2 Car, Garage Door Opener, Keypad Entry', '238 spaces', 'Attached Garage, Garage - 4+ Car, Garage Door Opener, Keypad Entry, Side Load Garage', '1 Car Garage, Detached, On Premise Parking', 'DTACH', 'Common Area', 'Paved Parking, Attached Garage, Driveway', 'Garage Door Opener, Golf Cart Garage, On Street', '3 Car Garage, Attached Garage, Shared Driveway', 'Side Vehicle Entry', '79 spaces', 'Parking Space Conveys, Private, Detached Garage', 'Carport - 2 Car, Driveway, On-Street Parking', '2 Car, Assigned, Parking Lot', 'Assigned Parking Space - 1, Garage - 1 Car, Garage Door Opener', 'Garage Door Opener, Garage Faces Side', '1 Addl Parking Space, 1 Car Space, Garage Door Opener, Garage-Under Bldg', 'On-site - Sale, Off Street, On Street', 'Dir Entry frm Garage', 'Assigned/Reserved, Parking Lot', 'Attached Garage, Back Load Garage, Garage - 2 Car, Garage Door Opener, Parking Space - 4+', 'Garage Lot, Carport', 'Double Wide Drive, Driveway, Oversized Drive, Visitor', 'none', 'Driveway, Garage Door Opener, Off Street, Parking Pad', '2 Car Garage, Attached, Basement, Off Street Parking, Rear Loading', 'Alley, On Street', 'On-site - Rent, Parking Fee, On Street', 'Electric Door Opener, Extnded Lngth Garage, Separate Strge Area, Side Vehicle Entry, RV Gate, RV Parking, Dir Entry frm Garage, Slab Parking Spaces', '3 Car Garage or more, Attached, Basement, Main Level, Off Street Parking', 'Attached - SIDE, PAVED', 'Driveway, Tandem Garage', 'Off Street, Detached Garage, Carport', 'Attached Garage, Carport - 2 Car, Garage - 3 Car', 'Oversized Drive', 'Assigned, Electric Vehicle Charging Station(s), Private, Secure Parking, Off Street', 'Assigned, Asphalt Driveway, Parking Space Conveys, Private, Off Street, Parking Lot', 'Boat, Driveway, Garage Door Opener, Guest, Parking Pad', 'Fenced, Secure Parking, Driveway, Off Street, Parking Lot', 'Golf Cart Garage, Under Building', 'Basement, Off Street Parking', 'Common, Guest, Open', '1 Off Street, On Street', 'Electric Door Opener, Extnded Lngth Garage, Dir Entry frm Garage', '2 Off Street, 4 Car Garage, Attached Garage', 'Assigned/Reserved, Parking Garage, Parking Lot', 'Attached - REAR, CONCR, DRVWY', 'A1A -north of Surf Club Condos. Enter through Gate guard and head west on Sandy Beach. Turn North on Coquina. House is on corner of Coquina and Smiling Fish. Parking pad for home is on Coquina Way.', '2 Car Carport, Attached, Main Level, Off Street Parking, Rear Loading', 'Asphalt Driveway, Parking Space Conveys, Private, On Street, Parking Lot', 'Assigned, Parking Space Conveys, Secure Parking, Parking Lot', 'Public, On Street', 'Brick Driveway, Attached Garage', 'AGGRE, DRVWY', 'Covered, Garage Door Opener', 'Attached Garage, Detached Garage, Driveway, Garage - 3 Car', '200 spaces', 'Secure Parking, Concrete Driveway, Off Street, Alley', 'Association Insurance, Exterior Building, Garage/Parking, Gas, Landscaping, Property Management, Recreation, Reserve Fund, Security Staff, Sewer, Snow Removal, Trash Removal, Water', 'Attached Garage, Basement, Garage - 3 Car, On-Street Parking', 'Asphalt Driveway, Off Street, On Street', 'Electric Door Opener, RV Gate, Carport Spaces', 'Covered, Garage Door Opener, Off Street', 'Garage - 3 Car, Keypad Entry, Side Load Garage', 'Attached - REAR, SHARD, Unassigned', 'Covered, Driveway, Garage Door Opener, Golf Cart Parking, Guest, Open, Oversized, Parking Pad', 'Converted Garage, On Street', 'Garage Door Opener, Guest, Off Street', 'Asphalt, Attached, Parking Spaces', 'Surface, Driveway, Off Street', 'Assigned Parking Space - 2, Lot', 'Extnded Lngth Garage, Dir Entry frm Garage, Slab Parking Spaces', 'Off Street, Carport, Detached Garage, On Street', 'Attached - FRONT, DRVWY, On Street, SHARD', 'Electric Door Opener, Extnded Lngth Garage, RV Gate, RV Parking, Slab Parking Spaces', 'Attached Garage, Back Load Garage, Garage - 2 Car, On-Street Parking, Parking Space - 2', 'Asphalt, Detached', 'Basement, Garage - 2 Car', 'Garage Door Opener, Guest, Reserved, Under Building', '2 Car Garage, 2 Off Street, Attached Garage, Farm Bldg, Opener', 'Detached, Gravel', 'Circle Drive', 'Garage Door Opener, Golf Cart Garage, Oversized', 'Asphalt, Attached', 'Capital Reserves, Clubhouse, Common Area Grounds Maintenance, Community Pool, Covered Parking, Exterior Maintenance w/ Roof, Fitness Facility, Gas, Insurance, Irrigation Water, Outdoor Hot Tub, Recycling, Sewer, Snow Removal, Trash Removal, Water', 'Covered, Golf Cart Garage, Golf Cart Parking, Underground, Workshop in Garage', '\"Attchd Gar Cabinets, Electric Door Opener, Extnded Lngth Garage, Over Height Garage, Dir Entry frm Garage\"', 'Public, Rented/Permit Required, Unassigned, Surface, On Street', 'Electric Door Opener, Separate Strge Area, Side Vehicle Entry, RV Gate', 'Open, Valet', 'Attached Garage, Garage - 3 Car, Garage Door Opener', '3 Car Garage, Detached Garage, Heated, Opener', 'Detached, Electric Door Opener, Extnded Lngth Garage, Side Vehicle Entry, RV Parking, Temp Controlled, Slab Parking Spaces', 'Workshop in Garage', 'RV Parking, Carport Spaces', 'Attached Garage, Driveway, Garage - 3 Car, Keypad Entry, Side Load Garage', 'Buyer Approval Required, Deed Restrictions, Fitness, Gated Community, Golf Carts OK, Golf, No Truck/RV/Motorcycle Parking, Tennis Courts', 'Driveway, Off Site, Off Street', 'Assigned, Secure Parking, Off Street', 'Bath In Garage, Driveway, Garage Door Opener', '3.00', 'Drive-Circular, Drive-Concrete, Drive-Private, No Covered Parking, Parking Pad', 'Carport - 3 Car', '3 Car Garage, Attached Garage, Detached Garage', 'Alley Access, Alley Access, CIRDW', '34', 'Uncovered, Off Street', 'Boat, Driveway, Garage Door Opener, Oversized, RV Garage, Tandem, Workshop in Garage', 'On Street, Detached Garage, Attached Garage', 'Off Street, Attached Garage, Carport', '5 Car Garage +, Attached Garage, Detached Garage, Opener', 'Converted Garage, Driveway - Concrete', 'Driveway Spaces', 'Assigned, Parking Space Conveys, Rented/Permit Required, Surface, Off Street, Parking Lot', 'Boat, Off Street, Parking Pad', '2 Car Garage, Detached Garage, Farm Bldg, Opener', '1 Car Space, Assigned Parking, Attached Garage, Garage-Ground Level, Garage-Under Bldg, Guest Parking, Parking Garage', 'Common Garage, Off Street', 'Asphalt, Carport', '99 spaces', 'Driveway, Garage Door Opener, Garage Faces Rear, Guest', 'RV Parking', 'Golf Cart Garage, Golf Cart Parking, Oversized', 'Boat, Circular Driveway, Garage Door Opener, Golf Cart Parking, Guest, Oversized', 'On-site - Rent, On-site - Sale, On Street', '353 spaces', '100 spaces', '131 spaces', 'On Street, Attached Garage, Off Street, Carport', 'Boat, Covered, Garage Door Opener, Guest, In Garage, Oversized, Parking Pad, Underground, Workshop in Garage', 'Carport, Off street, On street, Attached Garage', 'Attached - REAR, CONCR, GRAVL', '\"Assigned Parking, Detached, Community Structure, Permit/Decal Reqd\"', 'Circular Driveway, Covered, Driveway, Oversized', 'Driveway, Garage Door Opener, Garage Faces Side, Golf Cart Garage, On Street', 'Attached Garage, Back Load Garage, Driveway, Garage - 2 Car, Parking Space - 4+', 'Association Insurance, Exterior Building, Garage/Parking, Gas, Heat, Landscaping, Property Management, Security Staff, Security System, Sewer, Snow Removal, Trash Removal, Water', 'Assigned, Boat, Common, Off Street', 'Assigned Parking Space - 1, Keypad Entry, On-Street Parking', 'Detached, CIRDW', '2 Car Space, Assigned Parking, Garage Door Opener, Garage-Ground Level, Garage-Under Bldg, Keypad Entry, Parking Garage, Secured', 'PVT, PAVED, Unassigned', 'Garage - 3 Car, Keypad Entry', 'Attached Garage, Garage - 1 Car, Parking Space - 1', 'Attached - SIDE, Attached, AGGRE', 'Assigned, Off Street, Parking Lot, Attached Garage', 'Attached, PVT, Alley Access', 'On street, None', 'Driveway, Garage Door Opener, Golf Cart Parking, Oversized, Tandem', 'Electric Door Opener, RV Gate, RV Parking, Dir Entry frm Garage', 'Concrete Driveway, Parking Space Conveys, Off Street', 'Attached - REAR, Detached, AGGRE', 'Off Site', 'On Street, Parking Pad', '2 Car Garage, Main Level, Off Street Parking', '68 spaces', '37 spaces', 'PVT, ASPHT', '2 Off Street, On Street', 'Paved Parking, Detached Garage, Off Street', 'On-site - Rent, Attached Garage', 'Alley Access, Curb Parking, Driveway, Garage Door Opener, Garage Faces Rear', '1 Car, Detached, Garage', 'Converted Garage, Driveway, Garage Door Opener, On Street, Open', 'Back Load Garage, Detached Garage, Garage - 2 Car, Garage Door Opener, On-Street Parking', 'Entrance Maint., Exterior Building, Garage/Parking, Property Management, Reserve Fund, Security System, Sewer, Snow Removal, Trash Removal, Water', 'Circular Driveway, Driveway, Garage Door Opener, Garage Faces Side, Oversized', '2 Car, Assigned, DRVWY, Parking Lot', '1 Car Garage, Detached, Main Level, Off Street Parking', 'Assigned, Asphalt Driveway, Off Street', 'Lighted Parking, Parking Deck / Lot Available, Paved', 'Electric Door Opener, Extnded Lngth Garage, Over Height Garage, RV Gate, Dir Entry frm Garage, Slab Parking Spaces', '\"Attchd Gar Cabinets, Detached, Electric Door Opener, Separate Strge Area, Side Vehicle Entry, RV Gate, RV Parking, Dir Entry frm Garage, Slab Parking Spaces\"', 'Unassigned, On Street', 'Barbecue, Card Room, Fitness Center, Gated Community, Guest Parking, Maintains Landscape, Meeting Room, Onsite Management, Paddle Tennis, Security, Tennis Courts', '13', 'Free, Concrete Driveway', 'Assigned, Garage, Parking Space', 'Covered, Curb Parking, Driveway, Garage Door Opener, Garage Faces Rear, Garage Faces Side, Golf Cart Parking, Guest, On Street, Oversized, Parking Pad, Portico', 'Electric Door Opener, Side Vehicle Entry, RV Gate', '\"Attchd Gar Cabinets, Electric Door Opener, Extnded Lngth Garage, Over Height Garage, RV Gate\"', '1 Car Space, Covered Parking, Detached Garage', '3 Car Or More, Over 1 Space per Unit, Side/Rear Entrance', 'Assigned, Attendant, Parking Fee, Attached Garage, Off Street', '26', 'Boat, Covered, Driveway', '1 Space Assigned', 'Gravel Drive, Circular Drive, Parking Pad', 'Association Insurance, Electric, Exterior Building, Garage/Parking, Gas, Heat, Landscaping, Property Management, Reserve Fund, Sewer, Snow Removal, Trash Removal, Water', '36 spaces', 'Oversized, Secured, Underground', 'Building & Grounds, Clubhouse, Concierge, Gas, Insurance Common Area, Limited Access, Partial Utilities, Porter, Recreational Facilities, Trash, Valet Parking, Water and Sewer', 'Detached Garage, Driveway, On Street, Off Street', 'Concrete, Detached Garage, Oversize Gar/Storage, RV / Boat Parking', 'Beach Area, Deed Restrictions, Golf Carts OK, No Truck/RV/Motorcycle Parking, Special Community Restrictions', 'Visitor Parking', 'Assigned Parking Space - 2, Attached Garage, Parking Garage, Parking Space - 2', 'Assigned Parking', '21', '2 Car, Attached, Auto Garage Door, Garage, Kitchen Level Entry, RV/Boat Parking, Storage', '5 - 10 Spaces, On Site, Paved', 'Garage Door Opener, Golf Cart Parking, Guest', '5 Car Garage +, Detached Garage', 'Electric Door Opener, Extnded Lngth Garage, Over Height Garage, Side Vehicle Entry, RV Gate, Dir Entry frm Garage, Slab Parking Spaces', 'Attached - REAR, AGGRE, Alley Access', '2 Car Garage, Attached, Main Level, Off Street Parking, Utility Garage', 'Concrete Driveway, Off Street, On Street', 'Carport, Garage', 'Alley Access, Driveway, Garage Faces Rear', 'Assigned, Covered, Golf Cart Parking, Guest, Open, Under Building', 'Carport, Off Street, Attached Garage, Detached Garage', 'Activities Available, Clubhouse, Game Room, Hot Tub Pool, Laundry Facility, Swim Pool-Inground', 'Garage Is Detached, Assigned, Community Garage, Parking Space, Side by Side', 'Private, Attached Garage, Driveway, Off Street, Parking Lot', '1 Car Carport, Attached, Off Street Parking', 'Unassigned, Parking Lot, On Street', 'Activities Available, Clubhouse, Electric Metered, Gas Metered, Hot Tub Pool, Laundry Facility, Swim Pool-Inground', 'Electric Door Opener, Side Vehicle Entry, Dir Entry frm Garage, Slab Parking Spaces', 'Circular Driveway, Covered, Oversized, Parking Pad', '3 Car Garage, Attached Garage, Detached Garage, Farm Bldg, Opener, Side Load', 'Garage Door Opener, Golf Cart Parking, Oversized, Tandem, Workshop in Garage', '1 Car Garage, 2 Off Street, Attached Garage, On Street', 'Driveway, Parking Lot, On Street', 'Attached, On Street, PAVED, Unassigned', '\"Attchd Gar Cabinets, Detached, RV Gate, RV Parking, Dir Entry frm Garage, Slab Parking Spaces\"', 'Boat, Circular Driveway, Garage Door Opener, Garage Faces Rear, Garage Faces Side, Golf Cart Parking, Oversized, Workshop in Garage', 'Attached Garage, Driveway, Garage - 3 Car, Parking Space - 4+', 'Attached - SIDE, DRVWY, PKPAD', '112 spaces', 'Assigned, Garage Door Opener, Guest, On Street, Open', 'Golf Cart Garage, Golf Cart Parking, Under Building', 'Electric Door Opener, Extnded Lngth Garage, Over Height Garage, RV Gate, RV Parking, Dir Entry frm Garage, Slab Parking Spaces', 'Driveway, Garage Door Opener, Garage Faces Side, On Street, Oversized', 'Private, Off Street, Driveway', '3+ Car Space, Attached Garage, Attached Parking', '3 Car Or More, Garage, Parking Pad, Guest Parking, Off Street', 'Attached Garage, Back Load Garage, Driveway, Garage - 2 Car, Garage Door Opener', 'Attached Garage, 2 Car Garage', 'Back Load Garage, Garage - 3 Car', 'Built-In Storage', 'Detached, ASPHT, CONCR', 'Over Height Garage, Tandem Garage, Slab Parking Spaces', 'Association Insurance, Exterior Building, Garage/Parking, Property Management, Reserve Fund, Security System, Snow Removal, Trash Removal', 'Garage - 3 Car, Garage Door Opener, Side Load Garage', 'CONCR, PKPAD', 'Assigned Parking, Community Structure, Gated Parking', 'Electric Door Opener, RV Parking, RV Garage, Dir Entry frm Garage, Slab Parking Spaces', 'Driveway, Open', 'Covered, Driveway, Off Street, On Street, Open', 'Fenced, Parking Space Conveys, Off Street', 'Attached, CONCR, DRVWY, GRAVL', 'Attached - REAR, CIRDW, On Street, Unassigned', 'Attached Garage, Driveway, Garage - 3 Car, Parking Space - 2', 'Bath In Garage, Converted Garage, Driveway', 'On-site - Sale, Secure Parking, Driveway, Off Street', 'Concrete Driveway, Paved Driveway, Attached Garage, Off Street, On Street', 'Off Street, Parking Lot, Driveway', '2 Car, Attached, Auto Garage Door, Garage, Kitchen Level Entry, Side/Rear Entrance, Guest Parking', 'Driveway, Garage - 3 Car, Garage Door Opener, Parking Space - 4+', 'Assigned, Garage Door Opener, Guest, Oversized, Workshop in Garage', 'Rear Vehicle Entry, RV Gate, RV Parking, Gated Parking, Slab Parking Spaces', '3 Car Or More, Detached, Garage, Guest Parking', 'Attached, CIRDW', 'Carport - 1 Car, Driveway, Parking Space - 2', 'Attached Garage, Driveway, Garage - 1 Car, Garage Door Opener, Parking Space - 3', 'Architectural, Minimum Sq Ft, No Mobile Homes, No Truck Parking', 'Attached Garage, Driveway, Garage - 4+ Car, Side Load Garage', 'Private, Secure Parking, Attached Garage', 'Electric Door Opener, Extnded Lngth Garage, Side Vehicle Entry, RV Parking', 'Attached Garage, Garage - 4+ Car', '\"Attchd Gar Cabinets, Electric Door Opener, Extnded Lngth Garage, Over Height Garage, Rear Vehicle Entry, Separate Strge Area, RV Gate, RV Garage\"', 'Alley Access, DRVWY', 'Assigned, Guest, Off Street', 'Covered, Driveway, Golf Cart Garage, Parking Pad, Under Building', 'Bath In Garage, Boat, Circular Driveway, Garage Door Opener, Garage Faces Rear, Garage Faces Side, Parking Pad', 'Attached, Detached, CONCR', 'Concrete Driveway, Fenced, Parking Space Conveys, Private, Secure Parking, Shared Driveway, Off Street, Attached Carport', 'Private, Secure Parking, Surface, Fenced, Parking Space Conveys, Off Street, Driveway', '3 Car Or More, Attached, Auto Garage Door, Carport, Detached, Garage, Parking Pad', 'Garage, Two Car, Auto Door Opener', '1 Car Space, Detached Garage, Driveway, Garage Door Opener, Keypad Entry, RV / Boat Parking', '6.00', '\"Attchd Gar Cabinets, Electric Door Opener, Side Vehicle Entry, Dir Entry frm Garage, Slab Parking Spaces\"', 'Circular Driveway, Driveway, Golf Cart Parking, Guest', 'ASPHT, PKPAD', 'Public, Unassigned, On Street', 'Outdoor Parking, Pets Allowed', 'Circular Driveway, Garage Door Opener, Oversized, Workshop in Garage', 'Driveway - Concrete, Private Garage', '3 Car Garage or more, Attached, Front Loading, Main Level, Off Street Parking', 'Driveway, Garage - 2 Car, Garage Door Opener, Keypad Entry, Tandem Garage', 'Alley Access, Garage Faces Side, On Street, Open', 'Attached Garage, Circular Drive, Driveway, RV / Boat Parking', 'PVT, GRAVL', 'Golf Cart Garage', 'From Uptown, driving South on Park Road, turn Left of Fairview Road, then Turn Right on Closeburn. Building is on the Left, Parking Lot entrance is Second Left -- park anywhere in the parking lot. Use the middle stairwell entrance to 3rd floor.', 'Tandem Garage, Slab Parking Spaces', 'GRAVL, On Street', 'Attached - REAR, Alley Access, CONCR', 'Boat, Circular Driveway, Garage Door Opener, Golf Cart Parking, Oversized, RV Carport, RV Garage, Workshop in Garage', 'Electric Door Opener, Tandem Garage, RV Gate, RV Parking, Dir Entry frm Garage, Slab Parking Spaces', 'Off Street, Alley', 'Attached Garage, Garage - 1 Car, Garage Door Opener, Keypad Entry, On-Street Parking', 'Covered, Garage Door Opener, Garage Faces Rear, Oversized, Under Building', 'Free, General Common Elements, Lighted Parking, Unassigned, On Street, Off Street, Parking Lot', 'Common, Driveway, Garage Door Opener, Guest', 'Asphalt, Assigned, Visitor', '2 Or More Spaces, Guest Parking, Open Space Parking', 'Double Wide Drive, Driveway', '1 Car, 2 Car, Carport, Garage', 'Deed Restrictions, Fitness, Gated Community, Golf Carts OK, Irrigation-Reclaimed Water, No Truck/RV/Motorcycle Parking, Pool, Sidewalk, Special Community Restrictions, Tennis Courts', 'Paved Driveway, Detached Garage', '2 Car Garage, Attached Garage, Detached Garage, Farm Bldg, Opener', 'Alley Access, Garage Door Opener, Garage Faces Rear, On Street, Oversized', 'Lighted Parking, Private, Paved Parking, Driveway, Off Street', 'Attached-Detached, AGGRE', 'Attached Carport, Driveway, Off Street, On Street', 'Driveway, Tandem', '179', 'Attached, Garage', '3 Car Or More, Attached, Auto Garage Door, Drive Under/Basement', 'Assigned, Guest, Tandem, Under Building', '2 Car, Attached - FRONT, Parking Lot', 'Association Recreation - Owned, Deed Restrictions, Gated Community, No Truck/RV/Motorcycle Parking, Playground, Sidewalk, Tennis Courts', 'PVT, Assigned', '2 Off Street, 3 Car Garage, Attached Garage, Opener', 'Attached, Door Opener, Electric, Parking Garage, Parking Lot', '1 Space Assigned, Underground', 'Garage - 2 Car, On-Street Parking, Tandem Garage', '\"Attchd Gar Cabinets, Electric Door Opener, Separate Strge Area, Side Vehicle Entry, RV Gate, RV Parking, Carport Spaces\"', 'Garage - 2 Door, Garage Attached, Parking Space, RV Access, Side by Side', '\"Attchd Gar Cabinets, Electric Door Opener, Extnded Lngth Garage, Separate Strge Area, Side Vehicle Entry, RV Parking, Gated Parking, Slab Parking Spaces\"', 'Attached Garage, Garage - 2 Car, Garage Door Opener, Tandem Garage', 'Attached Garage, Driveway, Garage - 1 Car, Garage - 2 Car, Garage Door Opener, Side Load Garage', 'Deed Restrictions, Fitness, Gated Community, No Truck/RV/Motorcycle Parking, Playground, Pool, Tennis Courts', 'Boat Parking, Drive - Concrete, RV Parking, Truck Parking', '2 Car Garage, Attached Garage, Farm Bldg, Opener', 'Deed Restrictions, Fishing, No Truck/RV/Motorcycle Parking, Pool, Sidewalk, Water Access, Waterfront', 'Attached Garage, Carport - 3 Car, Side Load Garage', 'Outdoor Space', 'Paved Parking, Driveway, Off Street', 'Boat, Garage Door Opener, Oversized, Parking Pad', 'Assigned Parking Space - 1, Parking Garage, Parking Space - 1', 'Assigned, Open, Under Building', 'Boat, Driveway, Garage Door Opener, Garage Faces Rear, Oversized, Workshop in Garage', 'Assigned, Parking Space Conveys, Paved Parking, Private, Parking Lot, On Street', 'Driveway Entrance, Electric Door Opener, Paved Driveway', 'Dirt Driveway, Off Street', 'Covered, Guest, Open, Oversized, Parking Pad', 'Detached Garage, Attached Garage, Off Street', 'Attached Garage, Off Street, On Street, Carport', 'On-site - Rent, Parking Fee', 'Carport, One Car', 'Driveway, Parking Pad', 'On-site - Sale, Attached Garage', 'Assigned Parking Space - 1, Parking Garage, Parking Space - 2', 'Garage Faces Rear, Garage Faces Side', 'CONCR, PKPAD, SHARD', 'Carport - 1, Covered Parking, Off Street Parking, Guest Parking, Parking Area', 'Carport, On Street, Detached Garage, Off Street', 'Electric Door Opener, Extnded Lngth Garage, Over Height Garage, Separate Strge Area, Side Vehicle Entry, RV Gate, RV Parking, Gated Parking, Dir Entry frm Garage, Slab Parking Spaces', 'Unassigned Parking, Carport Spaces', '1 Assigned, Common, Paved Parking', 'Assigned, Parking Space Conveys, Parking Lot, Attached Garage', 'Garage - 1 Car, Parking Space - 4+', '2 Car, Detached, Garage', '28', 'Underground', 'Detached Carport, 2 Car Garage', 'Assigned/Reserved, Attached, Door Opener, Electric, Heated, Parking Garage', 'Open, Parking Pad', 'Electric Door Opener, Extnded Lngth Garage, Golf Cart Garage', 'Garage - 2 Car, Tandem Garage', 'Attached Garage, Garage - 2 Car, Golf Cart Garage, Side Load Garage', 'Lighted Parking, Paved Driveway, Parking Lot', 'Driveway, Garage Door Opener, Garage Faces Side, Oversized, Parking Pad', 'Access- All Year,Borders BLM,Horse Property,RV/Boat Parking,View of Mountains,View of River,View of Valley,Resort Property,Borders BLM,View of Valley', 'Attached - REAR, Attached, CONCR, DRVWY', 'Detached, ASPHT, DRVWY', '2 Car Space, On Street Parking', 'Back Load Garage, Basement, Garage - 2 Car', 'Driveway, Garage Door Opener, Guest, Off Street', 'Assigned, Attached Garage, Parking Lot', 'Carport, On Street, Detached Garage', 'Electric Door Opener, RV Gate, RV Parking, Gated Parking, RV Garage, Slab Parking Spaces', 'Electric Door Opener, Extnded Lngth Garage, Separate Strge Area, Gated Parking, Slab Parking Spaces', 'Electric Door Opener, Tandem Garage, RV Gate, Dir Entry frm Garage, Slab Parking Spaces', 'Asphalt Drive, Circular Drive, Parking Pad', 'Boat, Garage Door Opener, On Street', 'Assigned Parking Space - 1, Attached Garage, Parking Deck', 'Bath In Garage, Boat, Circular Driveway, Covered, Driveway, Garage Door Opener, Golf Cart Garage, Oversized, Under Building, Workshop in Garage', 'Parking Spaces', 'Carport, On Street, Off Street', '1 Car Garage, 2 Off Street, Attached Garage, On Street, Opener', 'Leasing Allowed, Parking Restrictions, Pets Allowed, Subleasing Allowed', 'Carport Detached, Garage - 1 Door, Parking Space', 'Asphalt, Driveway, On Street', 'Detached, Electric Door Opener, Side Vehicle Entry', 'Electric Door Opener, Over Height Garage, Slab Parking Spaces', 'Shared Driveway, Detached Garage', '2 Car Garage, 2 Off Street, Attached Garage, Opener', '162 spaces', '1 Assigned, Paved Parking', 'Separate Strge Area, Gated Parking, Carport Spaces', '4 Car Garage, Tandem', 'Driveway, Garage - 2 Car, Parking Space - 3, Side Load Garage', '2 Car Garage, 2 Off Street, Attached Garage', 'PVT, CONCR, DRVWY', 'Assigned Parking Space - 2, Parking Deck, Parking Space - 2', 'ASPHT, GRAVL', 'Electric Door Opener, Side Vehicle Entry, RV Gate, RV Parking, Dir Entry frm Garage, Slab Parking Spaces', 'Circle Drive, Driveway Paved, RV-Boat, Under Bldg Closed', 'Detached Garage, Carport, On Street', 'Boat, Driveway', 'Detached, Electric Door Opener, Extnded Lngth Garage, Gated Parking, Slab Parking Spaces', 'Bath In Garage, Boat, Circular Driveway, Covered, Driveway, Garage Door Opener, Workshop in Garage', 'Carport - 1 Car, Parking Space - 4+', 'Attached - REAR, ASPHT, Unassigned', 'On-Street Parking, Parking Garage, Parking Space - 2', 'Brick Driveway, Off Street', 'Detached, Off Street Parking', 'Electric Door Opener, Extnded Lngth Garage, Tandem Garage', 'Driveway, Garage - 3 Car', 'Driveway, Under Building', 'Exterior Building, Garage/Parking, Heat, Landscaping, Sewer, Water', 'Insulated Garage, Heated Garage, Electric', '5 Car Garage +, Attached Garage, Detached Garage', 'Drive Through, Off-Street Parking', 'Back Load Garage, Detached Garage, Garage - 2 Car', 'Bath In Garage, Boat', 'Association Insurance, Exterior Building, Garage/Parking, Landscaping, Property Management, Reserve Fund, Sewer, Snow Removal, Water', 'Assigned Parking Space - 2, Parking Garage, Parking Space - 2', 'Alley Access, Alley Access, On Street', 'Architectural, Minimum Sq Ft, No Commercial, No Mobile Homes, No RV Parking, No Storage Building', '2 Car Carport, Attached, Main Level, Off Street Parking', 'Basement, Garage - 2 Car, Garage Door Opener', 'Electric Door Opener, Side Vehicle Entry, Slab Parking Spaces', 'Attached Garage, Off Street, Driveway', 'Driveway, Garage Door Opener, Off Street, Open, Oversized', 'Electric Door Opener, Rear Vehicle Entry, Dir Entry frm Garage', 'RV Accessible', 'Attached - SIDE, On Street', 'AGGRE, Alley Access', '3 Car Or More, Auto Garage Door, Garage, RV/Boat Parking', 'Attached Garage, Driveway, Garage - 1 Car, Garage Door Opener', 'Free, General Common Elements, Parking Lot', '1 Car, Assigned, On Street, Parking Lot', '3+ Reserved', '3 Car Garage or more, Attached, Basement, Detached, Front Loading, Main Level, Off Street Parking, Side Loading', 'Carport, Detached Garage, Off Street', '2 Detached Carport', 'Assigned, Common, Garage Door Opener, Guest, Open', 'Attached Garage, Under House Parking', 'Attached Garage, Driveway, Garage - 4+ Car, Garage Door Opener, Keypad Entry', 'Electric Door Opener, RV Gate, RV Parking, Dir Entry frm Garage, Carport Spaces', 'Boat, Covered, Driveway, Garage Faces Side', 'Assigned, Boat, Common', 'Separate Strge Area, RV Gate, Carport Spaces', '\"Attchd Gar Cabinets, Detached, Electric Door Opener, Slab Parking Spaces\"', 'Attached - SIDE, Attached, CONCR, DRVWY', 'Electric Door Opener, Extnded Lngth Garage, Over Height Garage, Side Vehicle Entry, RV Gate, RV Parking, Dir Entry frm Garage', 'Driveway - Combination', '3 Car Garage, Detached Garage, Farm Bldg', 'Attached - REAR, Attached', 'Driveway, Garage Faces Rear, Garage Faces Side', 'Alley Access, Driveway, Garage Door Opener, Garage Faces Rear, Oversized', 'Attached Garage, Carport, Off Street', 'Covered, Driveway Paved, Street', 'Attached Garage, 3 Car Garage', 'Circular Driveway, Garage Door Opener, Golf Cart Parking, Guest, Oversized, RV Garage', 'Property is located just 1.5 blocks from intersection of WT Harris Blvd and The Plaza Rd ext. Plaza Rd side has 633 feet of road frontage, starting at Foodlion Parking lot and going east and there is a 60ft section of proposed roadway on the WT Harris Blvd side right by and next to the fenced parking area of the Post Office.', 'Attached - REAR, AGGRE, PKPAD', 'Assigned Parking Space - 1, Attached Garage, Garage - 1 Car', '1 Assigned, Guest', 'Assigned Parking, Drive - Paved', 'Bath In Garage, Driveway, Garage Door Opener, Oversized', 'Attached Garage, Garage - 1 Car, Garage Door Opener, On-Street Parking', 'Carport-Attached', '2 Assigned, Covered, Driveway Paved, Load Space', 'Attached - FRONT, GRAVL', 'Fenced, Secure Parking, Off Site, On Street', '\"Attchd Gar Cabinets, Extnded Lngth Garage, Dir Entry frm Garage, Slab Parking Spaces\"', 'Electric Door Opener, Tandem Garage, RV Gate, RV Parking, Dir Entry frm Garage', 'Concrete Driveway, Paved Parking, Private, Secure Parking, Attached Garage, On Street', 'Off Street, Driveway, Detached Garage', 'Alley Access, Garage Door Opener, Garage Faces Rear, On Street, Parking Pad', 'Assigned, Garage Door Opener', 'Detached, PKPAD', '2 Car Attchd Garage', 'Reserved, Under Building', 'Paved Driveway, Off Street', '1 Car Garage, 2 Car Carport, 2 Car Garage, Attached, Basement, Front Loading, Main Level, Off Street Parking, Rear Loading', 'Assigned, General Common Elements, Off Street', 'Electric Door Opener, Separate Strge Area, RV Parking, Slab Parking Spaces', '4 Car Garage, Detached Garage', 'Concrete Driveway, Attached Garage, Off Street, On Street', '1 Carport, On Street', '\"Attchd Gar Cabinets, Detached, Electric Door Opener, Side Vehicle Entry, RV Gate, RV Parking, Dir Entry frm Garage, Slab Parking Spaces\"', 'Garage Faces Side, Guest, Parking Pad', 'Garage Door Opener, Garage Faces Side, Oversized, Workshop in Garage', 'Assigned, Open, Parking Pad', '5 Car Garage +, Attached Garage, Detached Garage, Farm Bldg, Heated, Opener, Side Load', 'Attached Garage, Detached Garage, Garage - 2 Car, Garage Door Opener, Keypad Entry, Side Load Garage', 'Fishing, Fitness, Gated Community, Golf Carts OK, No Truck/RV/Motorcycle Parking, Playground, Pool, Special Community Restrictions, Tennis Courts, Water Access, Waterfront', 'Garage Door Opener, Oversized, RV Garage, Workshop in Garage', 'Parking Space Conveys, Assigned, Off Street, Parking Lot', 'Attached Garage, Attached Parking', 'Attached Garage, Back Load Garage, Garage - 2 Car, Garage Door Opener, Keypad Entry', 'On Street, Carport, Off Street', 'Main Level, Off-Street Parking', 'Association Insurance, Exterior Building, Garage/Parking, Landscaping, Property Management, Reserve Fund, Snow Removal, Trash Removal, Water', '3 Car Garage, Attached Garage, Farm Bldg, Heated, Opener, Side Load', 'Assigned Parking Space - 2, Attached Garage, Parking Garage', '3 Car Garage or more, Attached, Basement, Main Level, Off Street Parking, Side Loading, Utility Garage', 'Tandem Garage, RV Gate, RV Parking', 'Driveway, Garage Faces Side, Oversized, Tandem, Under Building, Workshop in Garage', '75 spaces', 'Boat, Driveway, Guest, Oversized, Parking Pad', 'Electric Door Opener, Over Height Garage, Side Vehicle Entry, RV Gate, Slab Parking Spaces', '3+ Car Detached Carport', 'CONCR, On Street, Parking Lot', 'Driveway, Garage Door Opener, Golf Cart Parking', 'Garage Door Opener, Guest, Off Street, Oversized', 'Back Load Garage, Garage - 2 Car, Garage Door Opener', 'Carport - 2 Car, Detached Garage, Garage - 1 Car, Side Load Garage', 'Carport, Detached Garage, None', '2+ Spaces, Circle Drive, Driveway Paved', 'Garage Door Opener, Garage Faces Side, Guest, Off Street, Open, Oversized, Parking Pad', 'Circular Driveway, Driveway, Garage Door Opener, Guest', 'Concrete Driveway, Paved Driveway, On Street', 'Off Street, None', 'Assigned Parking, Unassigned Parking, Carport Spaces', 'Detached, Side Vehicle Entry, RV Gate, RV Parking, RV Garage, Slab Parking Spaces', 'Attached Garage, Garage - 2 Car, On-Street Parking, Parking Space - 4+, Side Load Garage', 'Alley Access, Alley Access, CONCR', 'Community Pool, Covered Parking, Exterior Maintenance w/ Roof, Gas, Insurance, Snow Removal, Trash Removal, Water', 'Attached, Front Entry', 'Asphalt Driveway, On Street', 'Assigned Parking Space - 2, Attached Garage', 'Parking Lot, PAVED', 'RV Parking, Gated Parking, Carport Spaces', 'Assigned, Secure Parking, Parking Lot, Attached Garage', 'Alley Access, On Street, PKPAD', 'Circular Driveway, Driveway, Garage Door Opener, Garage Faces Side, Golf Cart Garage, Golf Cart Parking, Guest, Open, Oversized', 'Driveway, Garage Door Opener, Open', 'Circular Driveway, Lighted Parking, Attached Garage', 'Carport, Carport Attached, Parking Space', 'RV Gate, RV Parking, Gated Parking', 'Driveway, Parking Space - 1, Parking Space - 2, Parking Space - 3', 'Driveway, Garage Door Opener, Golf Cart Garage, Golf Cart Parking, Off Street, Oversized', 'Tandem Garage', '1 Assigned, Covered, Guest, Paved Parking, Under Bldg Closed, Wheelchair Access', 'Gar-Dble-Att', 'Driveway, Off Site', 'Electric Door Opener, Side Vehicle Entry, RV Gate, RV Parking, Slab Parking Spaces', 'Paved Driveway, Detached Garage, Off Street', 'Attached Garage, Back Load Garage, Garage - 2 Car, On-Street Parking', 'Assigned/Reserved, Detached, Heated, Parking Garage', 'Parking Under Building, Street/Driveway, Reserved', '2 Car, Parking Pad, Storage, Guest Parking', 'Common, Guest, Off Street', ', On Street Parking', 'Assigned Parking Space - 2, Attached Garage, Garage - 2 Car, Keypad Entry, Parking Garage', 'Exterior Alterations, Parking, Signs', 'Paved Driveway', 'Assigned, Off Street, Parking Garage', 'CONCR, DRVWY, PAVED', '1 Car Garage', 'Concrete Driveway, On-site - Sale, Parking Space Conveys, Paved Parking, Private, Fenced, Paved Driveway, Alley, Off Street, Parking Lot', 'Driveway, Detached Carport', 'Assigned, Curb Parking', 'Concrete, Parking Pad, Parking Spaces', 'Fenced, Alley, Driveway, Off Street', 'Assigned/Reserved, Detached, Door Opener, Drain, Electric, Heated, Parking Garage', '3 Car Garage or more, Attached, Basement, Main Level, Off Street Parking, Utility Garage', '105 spaces', 'Capital Reserves, Clubhouse, Common Area Grounds Maintenance, Community Pool, Covered Parking, Exterior Maintenance w/ Roof, Fitness Facility, Gas, Heat, On-Site Check In, Outdoor Hot Tub, Recycling, Sauna, Sewer, Snow Removal, Storage, Trash Removal, Water', 'Assigned, Off Street, Off Site, On Street', 'Parking Deck, Parking Space - 2', 'Garage - 2 Car, Garage Door Opener, Keypad Entry, Parking Space - 4+', 'Curb Parking, Driveway, Garage Door Opener', '\"Attchd Gar Cabinets, Electric Door Opener, Golf Cart Garage, Separate Strge Area\"', 'Parking Lot, On Street, Alley, Off Street', 'Attached Garage, Driveway, Garage - 2 Car, Garage Door Opener, Golf Cart Garage, Side Load Garage', 'Private, Attached Garage, Off Street', '\"Attchd Gar Cabinets, Electric Door Opener, Unassigned Parking, Dir Entry frm Garage\"', 'Assigned/Reserved, Heated, Parking Garage, Water Available', 'Garage Door Opener, Garage Faces Rear, Guest, Open, Under Building, Workshop in Garage', 'Pavers', 'Attached, Rear/Side Entry', 'Electric Door Opener, Side Vehicle Entry, RV Gate, RV Parking, Gated Parking, Slab Parking Spaces', '1 Car Garage, Double Carport', 'Garage - 2 Car, Garage - 4+ Car, Garage Door Opener', '2 Car, Attached, Carport', '1 Off Street, 2 Off Street, 3 Car Garage, Detached Garage', 'Association Insurance, Exterior Building, Garage/Parking, Landscaping, Property Management, Reserve Fund, Security Staff, Sewer, Snow Removal, Trash Removal, Water', 'Electric Door Opener, Rear Vehicle Entry', 'Attached Garage, Garage - 2 Car, Garage Door Opener, Keypad Entry, Parking Space - 4+, Side Load Garage', 'Electric Door Opener, Tandem Garage, Dir Entry frm Garage', 'Attached Garage, Back Load Garage, Driveway, Garage - 2 Car, Garage Door Opener, Parking Space - 4+', 'Common, Golf Cart Parking, Open', 'Community Garage, Gated Underground, Parking for Guests, Parking-Guest Onsite, Subterr Side by Side', 'Electric Door Opener, RV Gate, Dir Entry frm Garage', 'Circular Driveway, Garage Door Opener, Garage Faces Side, Oversized, Workshop in Garage', 'Attached Garage, Off Street Parking, RV/Boat Parking, Side Yard Access', '1 Car Garage, Basement, Front Loading, Off Street Parking', 'Detached Garage, Garage - 1 Car, Parking Space - 3', '70 spaces', 'Driveway, Garage - 2 Car, Parking Space - 2', '10 Car, Attached, ASPHT, Parking Lot, Unassigned', 'Heated, Parking Garage', 'Attached Garage, Basement, Driveway, Garage - 2 Car, Garage Door Opener, Keypad Entry, Side Load Garage', 'Drive - Concrete', 'Driveway, Attached Carport, Off Street', '1 Car Garage, 2 Car Garage, Detached Garage', 'Attached Garage, Driveway, Garage - 1 Car, Garage Door Opener, On-Street Parking, Parking Space - 2', 'Garage Door Opener, Garage Faces Rear, Garage Faces Side', 'Attached - SIDE, CIRDW, CONCR', 'Attached-Detached', 'Driveway, Garage Door Opener, Guest, Oversized, Workshop in Garage', 'Attached Garage, Basement, Carport - 2 Car, Driveway, Garage - 1 Car', '24 spaces', '348 spaces', 'Covered, Driveway Paved, Load Space', 'Detached, Alley Access, On Street', 'On-Street Parking, Parking Space - 1', '3 Car Or More, Auto Garage Door, Drive Under/Basement, Garage, Kitchen Level Entry, Parking Pad', 'Unassigned Parking, Slab Parking Spaces', 'Garage Faces Side, Golf Cart Garage, Golf Cart Parking, Oversized, Workshop in Garage', 'Detached, Attached, ASPHT', 'Driveway Paved, Golf Cart', 'Assigned, On Street', 'Bath In Garage', 'Assigned/Reserved, Attached, Door Opener, Drain, Electric, Parking Garage, Unit Garage', 'Off Street, Detached Garage, On Street, Attached Garage', 'Free, On Street', 'Garage Faces Rear, Golf Cart Parking, Guest, Oversized', 'Exterior Building, Garage/Parking, Landscaping, Sewer, Snow Removal, Trash Removal, Water', 'Attached Garage, Garage - 3 Car, Tandem Garage', 'Asphalt Driveway, Surface, Off Street', 'Boat, AGGRE', 'Attached Garage, Driveway, Garage - 2 Car, Parking Space - 3', 'Garage Door Opener, Guest, Open, Parking Pad', 'Carport, On Street, Attached Garage', 'Electric Door Opener, Tandem Garage, Gated Parking, Dir Entry frm Garage, Slab Parking Spaces', 'Attached - FRONT, DRVWY, On Street', '1 Car Garage, Detached Garage', 'Attached Garage, Driveway, Garage - 2 Car, Garage Door Opener, Keypad Entry, On-Street Parking', '3 Car, Attached - REAR, On Street, Parking Lot', '\"Attchd Gar Cabinets, Electric Door Opener, Separate Strge Area, RV Gate, RV Parking, Dir Entry frm Garage, Carport Spaces\"', '25 spaces', '2 Car Garage, 2 Carport, 4 Car Garage, Attached Garage, Detached Garage, Heated', 'Parking Space Conveys, Secure Parking, Attached Garage', '3 Car Garage, Detached Garage, Farm Bldg, Opener', '1 Car Garage, 2 Car Garage, 2 Off Street, Attached Garage, Detached Garage', '2 Car Garage, 2 Off Street, Assigned, Attached Garage, Opener, Shared Driveway', 'Alley Access, Driveway, Garage Door Opener, Garage Faces Rear, Parking Pad', 'Boat, Circular Driveway, Driveway, Garage Door Opener, Garage Faces Side, Parking Pad', 'Attached Garage, Garage - 3 Car, Keypad Entry, Side Load Garage', 'Association Insurance, Exterior Building, Garage/Parking, Landscaping, Property Management, Reserve Fund, Sewer, Snow Removal, Trash Removal, Water', 'Free, Handicap Parking, Lighted Parking, Paved Parking, Surface, Unassigned, Parking Lot', 'Concrete Driveway, On-site - Sale, Secure Parking, Off Street', 'Capital Reserves, Clubhouse, Common Area Grounds Maintenance, Community Pool, Covered Parking, Exterior Maintenance w/ Roof, Fitness Facility, Gas, Outdoor Hot Tub, Recycling, Sauna, Sewer, Snow Removal, Trash Removal, Water', 'Other Parking', 'Boat, Covered, Driveway, Garage Door Opener, Parking Pad, Workshop in Garage', 'Garage Door Opener, Golf Cart Parking, Oversized', 'Common, Driveway', 'Detached, Detached, CONCR, DRVWY', 'Concrete Driveway, Off Site, On Street', 'Attached, Concrete, Garage Door Opener', 'Alley Access, Curb Parking', 'Assigned, Lighted Parking, Secure Parking, Attached Garage', 'Driveway, Garage Faces Side, Guest, Workshop in Garage', 'Attached Garage, Garage - 3 Car, Parking Space - 4+', 'Capital Reserves, Clubhouse, Common Area Grounds Maintenance, Community Pool, Concierge, Covered Parking, Exterior Maintenance w/ Roof, Fitness Facility, Gas, Insurance, Irrigation Water, On-Site Check In, Outdoor Hot Tub, Recycling, Sauna, Sewer, Snow Removal, Trash Removal, Water', 'Capital Reserves, Clubhouse, Common Area Grounds Maintenance, Community Pool, Covered Parking, Exterior Maintenance w/ Roof, Fitness Facility, Gas, Insurance, Recycling, Sauna, Sewer, Snow Removal, Trash Removal, Water', ', On Street Parking, Parking Garage', 'Assigned, Parking Space Conveys, Off Street', 'RV Gate, Dir Entry frm Garage', '1 Car Garage, Attached, Front Loading, Off Street Parking', 'Converted Garage, Driveway, Off Street', '2 Car Garage, Attached, Basement, Off Street Parking, Side Loading', 'From I-10 & Taylor', '2+ Spaces, Golf Cart', 'Covered, Driveway, Garage Door Opener, Golf Cart Garage', 'Detached, Detached, CONCR', 'Back Load Garage, Detached Garage, Garage - 2 Car, On-Street Parking', 'Attached Garage, RV / Boat Parking', '2 Car, Attached, Garage, Kitchen Level Entry, Side/Rear Entrance', 'Alley Access, Driveway, Garage Door Opener, Garage Faces Rear, Guest, On Street', '3 Car Garage, Attached Garage, Heated, Opener', 'Attached, CONCR, DRVWY, On Street', 'Lot, On-Street Parking, Parking Space - 4+', 'Asphalt, Driveway', 'Access to Basement, Electric Door Opener', 'Barbecue, Gated Parking, Gym/Ex Room, Maintains Landscape, Outdoor Cooking Area, Rec/Multipurpose Rm', '2 Car Carport, Detached, Off Street Parking', 'Boat, Covered, Driveway, Guest, Oversized', 'Attached, DRVWY, GRAVL', '51', 'Gravel, Parking Spaces', 'Covered, Driveway, Golf Cart Parking, Parking Pad', '\"Attchd Gar Cabinets, Electric Door Opener, Golf Cart Garage, Side Vehicle Entry, RV Gate, Dir Entry frm Garage, Slab Parking Spaces\"', 'Assigned, Covered, Garage Door Opener, Golf Cart Garage, Golf Cart Parking, Guest, Off Street, Under Building, Workshop in Garage', 'Electric Door Opener, Side Vehicle Entry, RV Parking, Dir Entry frm Garage, Slab Parking Spaces', 'Extnded Lngth Garage, Over Height Garage, RV Gate, RV Parking', 'Off Street, On Street, Parking Lot, Attached Garage', 'Parking for Guests, Parking Space', 'Covered, RV Carport, Under Building', 'Common Lot', 'Off Site, Driveway', 'Auto Driveway Gate, Controlled Entrance', 'DW/Gravel', 'Attached - REAR, ASPHT, DRVWY', '3 Car Garage, Attached Garage, Side Load', 'Deed Restrictions, Fitness, Gated Community, Golf Carts OK, Golf, No Truck/RV/Motorcycle Parking, Pool, Tennis Courts', '\"Attchd Gar Cabinets, Electric Door Opener, Addtnl Purchasable, Dir Entry frm Garage\"', 'Deed Restrictions, No Truck/RV/Motorcycle Parking, Special Community Restrictions', 'Air Conditioning, Association Insurance, Electric, Exterior Building, Garage/Parking, Gas, Heat, Landscaping, Property Management, Reserve Fund, Security Staff, Sewer, Snow Removal, Trash Removal, Water', 'Garage Attached, On Street, Parking for Guests, Parking Space', 'On Street, Attached Garage, Carport, Detached Garage', 'Attached-Detached, GRAVL', 'Carport - 2 Car, Garage - 2 Car, On-Street Parking', 'Detached, Dirt', 'Gated Community, Secured Garage / Parking', 'Driveway, Garage Door Opener, Garage Faces Rear, Off Street, Open', 'Assigned, Boat', '1 Space Assigned, Heated, Private Garage, Underground', 'Detached, Separate Strge Area, RV Gate, Slab Parking Spaces', 'Detached, Attached, AGGRE', 'Assigned, Garage Door Opener, Garage Faces Rear', '\"Attchd Gar Cabinets, Electric Door Opener, Extnded Lngth Garage, RV Parking, Dir Entry frm Garage, Slab Parking Spaces\"', 'Parking Garage, Parking Space - 2', 'Assigned Parking Space - 2, Attached Garage, Garage Door Opener, Parking Deck, Parking Space - 2', 'Circular Driveway, Garage Door Opener, Garage Faces Side, Golf Cart Parking', 'Driveway, Lot', 'Alley Access, Driveway, Garage Faces Rear, On Street', 'Parking Fee, Off Street', 'Private, Secure Parking, Unassigned, Off Street', 'Circular Drive, Covered Parking', 'Drive - Blacktop, Parking Pad', 'DRVWY, On Street', '8.00', 'Assigned Parking Space - 1, Carport - 1 Car', 'Assigned, Circular Driveway, Covered, Guest', '\"Attchd Gar Cabinets, Electric Door Opener, Extnded Lngth Garage, Over Height Garage, Separate Strge Area, Side Vehicle Entry, Tandem Garage, RV Gate, RV Parking, Gated Parking, RV Garage, Temp Controlled\"', 'Covered, Under Bldg Open', 'Circular Driveway, Attached Carport, Attached Garage', 'Driveway Paved, Paved Parking, RV-Boat', 'Common, Curb Parking', 'Circular Driveway, Gravel', '2 Car Garage, Attached, Main Level, Off Street Parking, Rear Loading', '\"Assigned Parking, Community Structure, Gated Parking, Addtnl Purchasable\"', '\"Attchd Gar Cabinets, Electric Door Opener, Separate Strge Area, RV Gate, RV Parking, Gated Parking, Dir Entry frm Garage, Slab Parking Spaces\"', '1 Car Space, Guest Parking', '2020 spaces', '1 Space, 2 Or More Spaces, Guest Parking', 'Boat, Circular Driveway, Driveway, Garage Door Opener, Golf Cart Parking, Oversized, Workshop in Garage', 'Driveway, Garage Door Opener, Oversized, Tandem', 'Detached Garage, Off Street, Carport', '\"Attchd Gar Cabinets, Electric Door Opener, Side Vehicle Entry, RV Gate, RV Parking, Dir Entry frm Garage\"', 'Off Street, On Street, Attached Garage, Detached Garage', 'Tuckunder Garage, Heated Garage, Floor Drain', 'Circular Driveway, Covered, Underground', 'Attached Garage, Carport - 1 Car, Driveway, Garage - 1 Car, Garage Door Opener, Side Load Garage', 'Alley, Detached Garage, Off Street', 'Detached, Electric Door Opener, Rear Vehicle Entry', 'Auto Driveway Gate, Driveway', '110 spaces', 'Gated Parking, Carport Spaces', 'Driveway, Workshop in Garage', 'Attached - SIDE, ASPHT, DRVWY', 'Carport, On Street, Attached Garage, Off Street', 'Assigned, Limited Common Elements, Attached Garage', 'Driveway, Side Load Garage', 'Paved Drv', 'RV Gate, Gated Parking, Carport Spaces', 'Attached, DRVWY, PAVED', 'Assigned, Unassigned, Parking Lot', 'Attached, Guest Parking Avail, Underground Parking', 'Attached Garage, Guest Parking', 'Driveway, Garage Door Opener, Guest, Off Street, Split Garage, Under Building', 'Buyer Approval Required, Fitness, Gated Community, Golf Carts OK, Golf, No Truck/RV/Motorcycle Parking, Pool, Special Community Restrictions, Tennis Courts', '3 Car, Attached - REAR, Assigned, Parking Lot, PAVED', '\"Traveling West on I-40:Take exit 146 (Stamey Farm Rd). Turn right onto Stamey Farm Rd. Watermelon Road is the first left off of Stamey Farm Rd. Property is the lot to the left directly beside Penskes facility. Parking available on Lonely Drive.\"', 'Circular Driveway, Garage Door Opener, Golf Cart Garage, Oversized', 'Parking Lot, On Street', 'Concrete Driveway, Lighted Parking, Parking Space Conveys, Attached Garage', 'Drive - Gravel', 'Concrete Driveway, Private, Fenced, Off Street', 'Attached Garage, Driveway, Parking Lot', 'General Common Elements, Parking Fee, Rented/Permit Required, Unassigned', 'Covered, Driveway, Guest', '2 Car Garage, Parking Under Building', '3 Car Or More, Detached, Garage, Kitchen Level Entry, Side/Rear Entrance, Storage, Guest Parking', 'Parking Garage, Parking Space - 4+', 'Carport, On street, Attached Garage', '27 spaces', 'Attached Garage, Detached Garage, Garage - 2 Car, Parking Space - 4+', 'Back Load Garage, Garage - 1 Car', '1 Car Garage, Basement, Off Street Parking', 'Concrete Driveway, Fenced, Private, Secure Parking, Off Street', 'Carport, Attached Garage, Off Street', 'Rented/Permit Required, Unassigned, On Street, Parking Lot', 'Detached, Electric, Parking Garage', 'Carport, >1 Space Per Unit', 'Attached, Detached, Garage', 'Attached, Electric, Heated, Parking Garage', 'Circular Driveway, Driveway, Garage Faces Side, Open', 'Private Garage, Workshop in Garage', 'Assigned, Parking Space Conveys, Attached Garage, Off Street, Parking Lot', 'Assigned, Paved Drv, Visitor', 'Cash, Conventional', '10 Car, Attached, GRAVL, Parking Lot', 'Covered Parking, Direct Garage Access, Driveway', 'On Street, Attached Garage, Detached Garage', 'Driveway, Garage Door Opener, Tandem', '\"Attchd Gar Cabinets, Electric Door Opener, RV Gate, Dir Entry frm Garage\"', 'Paved Parking, Alley, Off Street, Driveway', '3 Car Or More, Detached, Garage', 'Driveway, On-Street Parking, Parking Space - 1, Parking Space - 2, Parking Space - 3', '1 Car Garage, Front Loading, Main Level, Off Street Parking', 'Garage - 2 Car, On-Street Parking, Parking Space - 4+', 'Circular Driveway, Driveway, Garage Door Opener, Under Building, Workshop in Garage', 'General Common Elements, Attached Garage', 'Circular Driveway, Driveway, Garage Door Opener, Guest, Off Street, Workshop in Garage', 'Association Recreation - Lease, Community Boat Ramp, Deed Restrictions, Fishing, Fitness, Gated Community, Irrigation-Reclaimed Water, No Truck/RV/Motorcycle Parking, Playground, Pool, Sidewalk, Tennis Courts, Water Access', 'Driveway, Garage Door Opener, Garage Faces Side, Workshop in Garage', '2 Car, Carport', 'Attached Garage, Int Access From Garage', 'Boat, Covered, Driveway, Parking Pad, Under Building', 'Attached Garage, Driveway, Garage - 2 Car, Keypad Entry, Parking Space - 4+', 'Attached Garage, Garage - 1 Car, Parking Space - 2', 'Lot, Assigned Parking, Visitor Parking', 'Keypad Entry, On-Street Parking', 'Handicap Parking, Unassigned, Concrete Driveway, Paved Driveway, On Street, Attached Garage', 'Carport - 4+ Car', 'Golf Cart Garage, Golf Cart Parking, Underground', 'Assigned Parking Space - 1, Attached Garage', 'Garage Faces Rear, Parking Pad', 'Covered, Off Street, Under Building', 'Assigned, Covered, Open', 'Back Load Garage, Garage - 3 Car, Garage Door Opener, Keypad Entry, Parking Space - 4+', 'Shared Driveway, Attached Carport, On Street', 'Off Street, On Street, Parking Lot', 'Side Vehicle Entry, RV Gate, RV Parking, Carport Spaces', 'Driveway, Garage - 2 Car, Keypad Entry', 'Boat, Circular Driveway, Garage Door Opener, Guest, Parking Pad', 'Surface, Parking Space Conveys, Alley', 'Lot, On-Street Parking, Parking Space - 2', 'Assigned, Surface, Off Street', 'Attached, SHARD', 'Concrete Driveway, Fenced, Private', 'Assigned, Parking Space Conveys, Alley', 'Driveway, Garage Door Opener, Reserved', 'Paved Parking, Driveway, On Street', 'Driveway, Garage Door Opener, Split Garage', 'Driveway, Garage Door Opener, Off Street, On Street, Oversized', 'Paved Parking, Attached Garage, On Street', 'Concrete Driveway, Private, Secure Parking, Fenced, On Street', 'Covered, Guest, Reserved', 'Assigned, Covered, Garage Door Opener, Golf Cart Garage, Golf Cart Parking, Guest, Open, Oversized, Underground', 'Deed Restrictions, Fitness, Gated Community, Golf Carts OK, Golf, Irrigation-Reclaimed Water, No Truck/RV/Motorcycle Parking, Pool, Tennis Courts', 'Attached Garage, Garage - 3 Car, Golf Cart Garage, Side Load Garage', '2 Car Garage, 2 Off Street, 4 Car Garage, Attached Garage, Detached Garage', 'Deeded, Parking Under Building', 'Clubhouse, Common Area Grounds Maintenance, Community Pool, Covered Parking, Exterior Maintenance w/ Roof, Trash Removal, Water', 'Attached Garage, Driveway, Garage - 3 Car, Garage Door Opener, Keypad Entry, Parking Space - 1, Side Load Garage', 'Extra Width, Parking', 'Attached Garage, Carport - 2 Car, Driveway, Side Load Garage', 'Carport - 2 Car, Garage - 2 Car, Parking Space - 2', 'Asphalt Driveway, Paved Driveway, Attached Garage, On Street', '2 Car Space, Assigned Parking', 'Off street, On street, Open', 'Attached - FRONT, Alley Access, CONCR, DRVWY', 'Garage Door Opener, Golf Cart Garage, Golf Cart Parking, Open', 'Garage Door Opener, Uncovered', 'Curb Parking, Driveway, Garage Door Opener, Guest', 'Tandem, Underground', 'Attached - REAR, CIRDW', 'Covered, Golf Cart Parking, Under Building', 'Carport-Detached, Off Street', '3 Car, Assigned, ASPHT, Parking Lot', '1 Car Garage, 2 Off Street, Detached Garage, On Street', 'Circular Driveway, Garage Door Opener, Oversized, RV Garage', 'Concrete Driveway, Attached Carport, On Street', 'Under Bldg Closed', 'Garage Door Opener, On Street, Open', 'RV Garage, Carport Spaces', 'Driveway, Off Street, Oversized', 'Assigned, Parking Space Conveys, Private, Parking Lot, Off Street', '1 Car Garage, 2 Off Street, On Street, Opener', 'Driveway, On-Street Parking, Parking Space - 1, Parking Space - 2, Parking Space - 3, Parking Space - 4+', 'Asphalt Driveway, Detached Garage, On Street', 'Garage - 2 Car, Keypad Entry, Side Load Garage', 'Under House Parking', 'Concrete Driveway, Secure Parking, Off Street', 'Electric Door Opener, RV Gate, RV Garage, Slab Parking Spaces', 'Garage Door Opener, Off Street, Oversized', 'Garage Door Opener, Workshop in Garage', 'Assigned Parking Space - 1, Parking Deck', 'Paved Parking, Assigned, Parking Lot', 'Double Wide Drive, On Street', 'Electric Door Opener, Tandem Garage, Dir Entry frm Garage, Carport Spaces', 'Basement, Garage - 1 Car', 'Assigned Parking Space - 1, Parking Space - 2', 'Garage Is Detached, Assigned, Parking for Guests - Onsite', 'Detached, Alley Access, CONCR, DRVWY', 'Attached, CONCR, Unassigned', 'Electric Door Opener, Heated', 'Attached Garage, Back Load Garage, Garage - 2 Car, On-Street Parking, Tandem Garage', 'Attached - REAR, Alley Access, CONCR, DRVWY', 'Attached - FRONT, Alley Access, DRVWY', 'On Street, Off Site, Driveway', '2+ Spaces, Driveway Paved, Paved Parking, RV-Boat', 'Driveway, Garage Door Opener, Garage Faces Side, Parking Pad', 'Rented/Permit Required, Assigned', 'Concrete Driveway, Paved Driveway, Detached Garage, On Street', 'Attached Garage, Driveway, Garage - 3 Car, Garage Door Opener, On-Street Parking', 'Circular Driveway, Driveway, Garage Door Opener, Garage Faces Side, Guest, Workshop in Garage', 'Assigned Parking Space - 1, Attached Garage, Garage - 1 Car, Parking Space - 2', 'Electric Door Opener, Separate Strge Area, RV Gate, Slab Parking Spaces', 'Free, Off Street', 'PKPAD, PAVED', 'Attached Carport, Driveway, Off Street', 'Assigned, Parking Space Conveys, Paved Parking, Private, Alley, Off Street', 'On-site - Sale, On Street', 'Attached Garage, Basement, Garage - 4+ Car', 'Off Street, On Street, Detached Garage, Carport', '3 Car Garage or more, Detached, Off Street Parking, Rear Loading', 'Electric Door Opener, Separate Strge Area, Slab Parking Spaces', 'Garage Is Detached, Parking for Guests, Underground', 'Circular Driveway, Concrete Driveway, Paved Driveway, Paved Parking, Shared Driveway, Off Street', '2+ Spaces, Covered, Driveway Paved, Paved Parking, RV-Boat, Street', 'Detached Garage, Driveway, Garage - 2 Car, Garage Door Opener', 'Garage-Ground Level, Guest Parking, Secured', 'Attached Garage, Back Load Garage, Driveway, Garage - 3 Car, Garage Door Opener, Keypad Entry', 'Attached Garage, Back Load Garage, Driveway, Garage - 1 Car, Garage Door Opener', '2 Car Garage, 2 Off Street, Detached Garage', 'Dir Entry frm Garage, Carport Spaces', 'Assigned, Secure Parking, Attached Garage', 'Dirt Driveway', 'Driveway, Garage Door Opener, Garage Faces Side, Guest', 'Attached-Detached, CONCR, DRVWY', 'Attached Garage, Back Load Garage, Garage - 1 Car, Garage - 2 Car, Garage Door Opener', 'From TAMU, south on Wellborn, Left at Deacon West, house will be at your right. Parking is on the back.', 'Reserved', '2.00', 'Electric Door Opener, Over Height Garage, Tandem Garage, RV Gate, RV Parking, RV Garage, Slab Parking Spaces', 'Assigned, Lighted Parking, Paved', 'Back Load Garage, Detached Garage, Garage - 2 Car, Garage Door Opener', 'Boat, Driveway, Garage Door Opener, Oversized, Parking Pad, Split Garage', 'Boat, Off Street', 'Attached - REAR, CONCR, DRVWY, PKPAD', 'Garage Door Opener, Garage Faces Side, Golf Cart Garage', 'Assigned Parking Space - 2, Lot, On-Street Parking', 'Rv/Boat Parking', 'Near Public Transit', 'Stone Driveway, Attached Garage, Off Street', '2 Car, Attached, Auto Garage Door, Garage, Side/Rear Entrance', 'Detached, Electric Door Opener', 'Auto Driveway Gate', '1 Carport, 2 Off Street', 'Garage Is Detached, Parking for Guests - Onsite, RV Possible', '1 Car Garage, 1 Carport', 'Circular Driveway, Driveway, Garage Door Opener, Garage Faces Side, Guest, Oversized, Workshop in Garage', '73 spaces', 'On-site - Sale, Free, Parking Lot', 'Assigned, Covered, Garage Faces Side, Golf Cart Parking, Guest, Under Building', 'Attached Garage, Insulated Garage, Electric', '1 Car Garage, 2 Car Garage, Basement, Detached, Front Loading, Off Street Parking', 'Carport-Attached, Garage-Detached', 'Garage Is Attached, Garage, Garage - Single Door, Parking for Guests - Onsite, Parking Space, Private, Side by Side', 'Game Room, Laundry Facility, Swim Pool-Inground', 'Detached Garage, Garage - 3 Car, Parking Space - 4+', 'Assigned, Limited Common Elements, On-site - Sale, Attached Garage', 'Circular Driveway, Driveway, Garage Door Opener, Garage Faces Side, Oversized, Under Building', '329', 'On-Street Parking, Parking Space - 3', 'Public On-Street Parking', 'Assigned Space, Garage, Kitchen Level Entry, Side/Rear Entrance', 'Deed Restrictions, Gated Community, No Truck/RV/Motorcycle Parking, Pool', '\"Attchd Gar Cabinets, Electric Door Opener, Extnded Lngth Garage, RV Gate, RV Parking, Dir Entry frm Garage, Slab Parking Spaces\"', 'Driveway, Underground', 'Driveway, Garage Door Opener, Guest, Parking Pad', 'Driveway Entrance', 'Rv Parking', 'From the Museum of Fine Arts Houston, go east on Binz, turn left on Chenevert and turn right on Oakdale. Parking on street, outside of the gate', '2 Car Garage, Attached Garage, Detached Garage, Side Load', 'Garage Is Attached, Assigned, Parking for Guests, Underground', 'Attached Garage, Off Street, Carport, Detached Garage', 'Carport - 2 Car, Garage - 4+ Car', '2 Car Garage, Attached Garage, Detached Garage, Opener', 'Detached Garage, Driveway, On Street', 'Attached Garage, Carport - 2 Car, Garage - 2 Car', 'Driveway, Garage Door Opener, Golf Cart Garage, Guest, Off Street, Oversized', '\"Attchd Gar Cabinets, Electric Door Opener, Extnded Lngth Garage, Over Height Garage, Tandem Garage, RV Gate, RV Parking, Dir Entry frm Garage, Slab Parking Spaces\"', '2 Car Garage, On Street', 'Attached Garage, Garage - 2 Car, Parking Space - 1, Parking Space - 2, Parking Space - 3, Parking Space - 4+', 'Garage Door Opener, Off Street, On Street', 'Rented/Permit Required, Detached Garage, Off Site', 'Free, Unassigned, Parking Lot', '3 Car Or More, Kitchen Level Entry', '3 Car Or More, Attached', '2 Car Garage, Attached Garage, Side Load', 'Circular Driveway, Open, Portico, Workshop in Garage', '3 Car Garage', '50', 'Side Vehicle Entry, RV Gate, Slab Parking Spaces', 'Driveway, Garage Door Opener, Garage Faces Rear, Garage Faces Side, Oversized', 'Clubhouse, Laundry Facility, Swim Pool-Inground', '3 Car Or More, Carport, Detached', 'Driveway, RV / Boat Parking', 'Off Street Parking, Single Carport', 'Common, Off Street, Open Lot', '2+ Spaces, Covered, Driveway Paved, Load Space, Wheelchair Access', 'Carport - 1 Car, Parking Space - 2', 'Asphalt Driveway, Paved Driveway, Detached Garage', 'Association Recreation - Owned, Buyer Approval Required, Gated Community, No Truck/RV/Motorcycle Parking, Pool, Sidewalk, Tennis Courts, Waterfront', '1 Space Assigned, Opener Included, Underground', '\"Attchd Gar Cabinets, Electric Door Opener, Extnded Lngth Garage, Separate Strge Area, RV Gate, RV Parking, Slab Parking Spaces\"', '3 Car, Assigned, Parking Lot', '23', 'Detached, Alley Access, DRVWY, PAVED', '1 Space/Unit, Carport', 'Rented/Permit Required, Off Street, On Street', 'Carport - 2 Car, Detached Garage, Parking Space - 4+', 'Garage, Open', 'Attached Garage, Detached Garage, Garage - 1 Car, Garage - 2 Car', 'Attached Garage, Basement, Garage - 3 Car, Garage Door Opener', '>1 Space Per Unit', 'PVT, Alley Access, CONCR, DRVWY', 'Electric Door Opener, Rear Vehicle Entry, RV Gate, RV Parking, Dir Entry frm Garage, Slab Parking Spaces', 'Attached - REAR, Alley Access, PKPAD', 'Attached Garage, Garage - 1 Car, Lot', 'Circular Driveway, Oversized, Workshop in Garage', 'Detached, On Street', '1 Space Assigned, Opener Included, Private Garage', 'On-site - Sale, Detached Carport', 'Assigned, Attendant, Parking Fee, Secure Parking, Attached Garage, Driveway', 'Carport - 1 Car, Detached Garage, Driveway, Garage - 1 Car, Parking Space - 3', 'Attached, Front Loading, Main Level, Off Street Parking', '1 Car, Parking Lot, Unassigned', 'Curb Parking, Driveway, Garage Door Opener, Garage Faces Side, Guest', '2 Car, ASPHT, Assigned, Parking Lot', 'Garage - 3 Car, Garage Door Opener, Keypad Entry', 'Unassigned, General Common Elements, Parking Lot', '2 Car Garage, 2 Off Street', '157 spaces', 'Attached, Concrete', 'On Street, Off Street, Carport, Detached Garage', 'GRAVL, PKPAD', 'Attached Garage, Garage - 3 Car, Garage Door Opener, Keypad Entry, Side Load Garage', 'Electric Door Opener, Separate Strge Area, RV Gate, RV Parking, Slab Parking Spaces', 'Assigned, Lighted Parking, Parking Space Conveys, Secure Parking, Attached Garage', 'Open Parking', 'Boat, Covered, Driveway, Golf Cart Parking, Guest, Off Street', 'Attached - SIDE, ASPHT, CIRDW, PKPAD', '< 1 Space Per Unit, > 1 Space Per Unit, 2+ Addl Prking Space, Guest Parking', '11 - 20 Spaces, On Site', 'Attached Garage, Concrete, Driveway, RV / Boat Parking', 'Driveway, Garage Door Opener, Split Garage, Under Building', 'Circle Drive, Driveway Unpaved', 'Golf Cart Garage, Carport Spaces', 'Attached Garage, Garage - 2 Car, Parking Space - 1', '2 Off Street, 4 Car Garage, Detached Garage, Farm Bldg, Shared Driveway', 'DRVWY, On Street, UPAVD', 'Assigned, Lighted Parking, Secure Parking, Parking Space Conveys, Attached Garage, Off Street', 'Parking Space Conveys, Private, Off Street, Detached Garage', 'Garage Detached, Parking for Guests, Parking Space, Side by Side', 'Curb Parking, Driveway, Garage Door Opener, Golf Cart Garage, Golf Cart Parking', 'Parking Lot, Driveway', '2 Car Garage, 2 Off Street, On Street', 'Assigned/Reserved, Door Opener, Heated, Parking Garage', 'Paved Driveway, Off Street, On Street', '\"Attchd Gar Cabinets, Electric Door Opener, Carport Spaces\"', 'Electric Door Opener, Extnded Lngth Garage, RV Parking', 'Attached, Attached', 'CONCR, DRVWY, GRAVL', 'Attached, Heated, Parking Garage', 'Clubhouse, Common Area Grounds Maintenance, Community Pool, Covered Parking, Exterior Maintenance w/ Roof, Sewer, Snow Removal, Trash Removal, Water', 'Paved Driveway, Paved Parking, Attached Garage, On Street', 'On Street, Off Street, Detached Garage, Driveway', 'Detached Garage, Garage - 2 Car, On-Street Parking, Parking Space - 4+', 'Off Street, Carport, Attached Garage, Detached Garage', 'Bath In Garage, Driveway, Garage Door Opener, Guest, Open, Oversized', 'Driveway, Golf Cart Garage, Golf Cart Parking, Oversized', 'Parking Space Conveys, Assigned, Off Street, Parking Lot, On Street', 'Assigned, Attendant, On-site - Sale, Attached Garage', 'Drive - Concrete, Street Parking', 'Assigned Parking, Detached, Community Structure, Carport Spaces', 'Brick Driveway', 'Assigned Parking Space - 1, On-Street Parking, Parking Deck', 'Assigned, Off Site, On Street', 'Concrete Driveway, Private, Attached Garage, On Street', 'Capital Reserves, Clubhouse, Common Area Grounds Maintenance, Community Pool, Covered Parking, Exterior Maintenance w/ Roof, Fitness Facility, Gas, Insurance, Sauna, Sewer, Snow Removal, Trash Removal, Water', 'Bath In Garage, Covered, Golf Cart Parking, Oversized, Under Building', '1 Assigned, Covered', '2 Assigned, Driveway Paved', '2+ Spaces, RV-Boat', 'Attached, Door Opener, Electric, Parking Lot', 'Assigned, Golf Cart Parking, Guest, Oversized', 'Detached Garage, Driveway, Garage Door Opener, Keypad Entry', 'Boat, Driveway, Oversized, Parking Pad', 'Driveway, Garage Door Opener, Garage Faces Side, Oversized, Workshop in Garage', 'Activities Available, Cable TV, Clubhouse, Electric Metered, Laundry Facility, Swim Pool-Inground', '1 Off Street, 2 Car Garage, Attached Garage, Opener, Side Load', 'Garage Door Opener, Garage Faces Side, Guest, Portico', '\"Attchd Gar Cabinets, RV Gate, Slab Parking Spaces\"', 'Attached - FRONT, PKPAD', 'Attached Garage, Basement, Driveway, Garage - 3 Car, Side Load Garage', 'Attached Garage, Back Load Garage, Driveway, Garage - 1 Car, Parking Space - 2', 'Gravel Driveway, Detached Garage', 'No Truck/RV/Motorcycle Parking, Special Community Restrictions', '\"Assigned Parking, Gated Parking, Permit/Decal Reqd, Carport Spaces\"', '3 Car Garage, Detached Garage, Opener', 'Detached, Attached', '1 Car Carport, 3 Car Garage or more, Attached, Detached, Main Level, Off Street Parking', 'Assigned Parking Space - 1, On-Street Parking, Parking Garage', '\"Attchd Gar Cabinets, Detached, Electric Door Opener, Over Height Garage, RV Gate, RV Parking, RV Garage, Dir Entry frm Garage\"', '\"Attchd Gar Cabinets, Electric Door Opener, Temp Controlled, Slab Parking Spaces\"', '1 Addl Parking Space, 1 Car Space, Garage-Under Bldg', 'Alley Access, CONCR, PKPAD', '1 Car, Parking Lot, PAVED', 'Converted Garage, Guest, On Street', 'Boat, Circular Driveway', '\"Attchd Gar Cabinets, Electric Door Opener, Separate Strge Area, RV Gate, Dir Entry frm Garage, Slab Parking Spaces\"', 'Covered, Driveway Paved, Golf Cart', 'Attached Garage, Back Load Garage, Garage - 1 Car, Parking Space - 4+', '3 Car Or More, Auto Garage Door, Garage', 'Attached Garage, Driveway, Garage - 2 Car, On-Street Parking, Parking Space - 2', 'Attached Garage, Garage - 2 Car, Garage Door Opener, Keypad Entry, On-Street Parking', 'Association Insurance, Exterior Building, Garage/Parking, Landscaping, Sewer, Snow Removal, Trash Removal, Water', 'Detached, Door Opener, Drain, Electric, Heated, Parking Garage, Water Available', 'On Street, Carport, Attached Garage', 'Oversized, Workshop in Garage', 'Carport - 1 Car, Parking Space - 3, Parking Space - 4+', 'Attached - FRONT, ASPHT, DRVWY', 'Garage - 2 Door, Garage Attached, Parking Space, Private', 'Separate Strge Area, Tandem Garage, RV Gate, RV Parking, Slab Parking Spaces', '3 Car Or More, Detached, Garage, Kitchen Level Entry, Parking Pad, RV/Boat Parking, Storage', 'Carport, On Street, Attached Garage, Off Street, Detached Garage', 'Basement, AGGRE, ASPHT', 'Driveway, Parking Space - 2, Parking Space - 3', 'Detached, Electric Door Opener, Separate Strge Area, Dir Entry frm Garage', '4 Car Garage, Attached Garage, Detached Garage, Opener, Shared Driveway, Side Load', 'Attached Garage, Garage - 4+ Car, Golf Cart Garage', '2 Car Garage, Detached, Front Loading, Main Level, Off Street Parking', 'Exterior Building, Garage/Parking, Heat', 'Alley Access, Garage Door Opener, Garage Faces Rear, Guest, On Street', 'Attached - FRONT, CONCR, DRVWY, On Street', 'Assigned, Lighted Parking, Parking Space Conveys, Parking Lot', '3 Car Garage or more, Attached, Main Level, Off Street Parking, Utility Garage', '\"Attchd Gar Cabinets, Electric Door Opener, Extnded Lngth Garage, Over Height Garage, RV Gate, RV Parking, Gated Parking, RV Garage, Temp Controlled, Slab Parking Spaces\"', 'Electric Door Opener, Community Structure', 'Assigned, Reserved', 'Common Garage', 'Boat, Driveway, Garage Door Opener, Guest, Workshop in Garage', 'Concrete, Driveway', '2+ Spaces, Driveway Paved, Paved Parking', 'Assigned, Lighted Parking, Limited Common Elements, Parking Space Conveys, Attached Garage', 'Boat, Driveway, Garage Door Opener, Garage Faces Rear, Garage Faces Side, Golf Cart Garage, Parking Pad', 'Attached Garage, RV/Boat Parking, Side Yard Access', '29 spaces', 'Driveway, Garage Door Opener, Golf Cart Garage, Golf Cart Parking', '2 or more Spaces Assigned, Underground', 'Driveway, Garage Door Opener, Garage Faces Side, Under Building', 'Carport - 2 Car, Detached Garage, Garage - 2 Car, Parking Space - 4+', 'Circular Driveway, Covered, Driveway, Garage Door Opener', 'Garage Door Opener, Parking Pad', 'Circular Driveway, Covered, Garage Door Opener, Off Street', '1 Car Garage, Attached, Basement, Front Loading, Off Street Parking', 'Driveway, Garage Door Opener, Garage Faces Side, Oversized', 'Garage - 4+ Car, Garage Door Opener, Parking Space - 4+, Side Load Garage', 'Garage-Detached, Off-Street Pa', '17 Car, Unassigned, Unassigned, ASPHT, Parking Lot, Unassigned', 'Bath In Garage, Circular Driveway, Covered, Driveway, Garage Door Opener, Oversized, Workshop in Garage', 'Garage - 1 Car, Side Load Garage', '\"Attchd Gar Cabinets, Electric Door Opener, Temp Controlled, Dir Entry frm Garage, Slab Parking Spaces\"', 'Concrete Driveway, Fenced, Detached Garage, Detached Carport, On Street, Off Street', 'Carport - 2 Car, Detached Garage, Garage - 1 Car, Parking Space - 4+', 'Guest Parking, Keypad Entry', 'Attached Garage, Garage Door Opener, Side Load Garage', 'Driveway, Electric Vehicle Charging Station(s), Garage Door Opener, Workshop in Garage', 'Converted Garage, Garage Door Opener', 'Carport - 2 Car, Driveway, Parking Space - 3', 'Asphalt Driveway, Circular Driveway, Attached Garage', '\"Attchd Gar Cabinets, Electric Door Opener, Golf Cart Garage, RV Gate, Slab Parking Spaces\"', 'Common Area Grounds Maintenance, Covered Parking, Exterior Maintenance w/ Roof, Insurance, Sewer, Snow Removal, Storage, Trash Removal, Water', 'Attached, Door Opener, Electric, Heated, Parking Lot, Water Available', 'Assigned Parking, Valet, Carport Spaces', '1 Car Garage, 2 Off Street, Attached Garage', '9 Car, Attached - SIDE, Parking Lot', 'Fenced, Paved Driveway, Public, Private, On Street', 'Alley Access, Alley Access, GRAVL', 'Enclosed Garage', '5 Car Garage +, Detached Garage, Farm Bldg', 'Driveway, Garage Door Opener, Oversized, Split Garage', 'On Street, Off Street, Attached Garage, Detached Garage', 'Boat, Circular Driveway, Driveway, Garage Door Opener, Garage Faces Side, Oversized', 'Parking Fee', 'Circular Driveway, Garage Door Opener, Oversized', '56 spaces', '2 Car Attached Garage, Driveway', 'Deeded', 'Auto Driveway Gate, Direct Garage Access, Driveway, Driveway Gate', 'Separate Strge Area, RV Gate, RV Parking', 'Driveway, Off Street, Stone/Gravel', '2 Car Garage, Basement, Off Street Parking', 'No Signs, Parking Restrictions, Pets Allowed', 'Carport - 4+ Car, Garage - 2 Car', 'Attached, Door Opener, Heated, Parking Garage', 'DRVWY, PKPAD', 'Detached Garage, Attached Garage, Carport, Off Street', 'Electric Door Opener, Rear Vehicle Entry, Slab Parking Spaces', 'Electric Door Opener, RV Gate, Temp Controlled, Slab Parking Spaces', 'Bath In Garage, Boat, Driveway, Garage Door Opener', 'Attached Garage, Tandem Garage', 'Attached Garage, Garage - 2 Car, Garage Door Opener, Keypad Entry, On-Street Parking, Parking Space - 4+', 'Garage/Parking', 'Detached Carport, Driveway', 'Covered Parking, Electricity, Heat, Insurance, Sewer, Storage, Trash Removal', 'Carport - 2 Car, Driveway, Parking Space - 2', 'Driveway, Off Site, On Street', 'Surface, Driveway', 'Concrete Driveway, Fenced, Off Street', 'Lighted Parking, Parking Space Conveys, Free, Parking Lot', 'Carport, Off street, On street, Attached Garage, Detached Garage', 'Attached Garage, Side Yard Access', 'Deed Restrictions, Golf, No Truck/RV/Motorcycle Parking, Playground, Sidewalk, Tennis Courts', 'Secure Parking, Detached Garage, Off Street', 'Attached - SIDE, GRAVL', 'Garage Door Opener, Open, Under Building', 'Attached Garage, Garage - 2 Car, Keypad Entry, Side Load Garage', 'Boat, Parking Pad, RV Carport', '\"Attchd Gar Cabinets, Electric Door Opener, Unassigned Parking\"', 'Garage - 3 Car, Garage Door Opener, Keypad Entry, Parking Space - 4+', '1 Car Garage, 1 Off Street, 2 Off Street, Detached Garage', 'Rear Vehicle Entry, Side Vehicle Entry, RV Gate, RV Parking', 'Attached - FRONT, Assigned, DRVWY', 'Attached Garage, Garage - 3 Car, Garage Door Opener, Parking Space - 4+, Side Load Garage', 'Off Street Parking, Rear Loading, Utility Garage', 'Driveway, Garage, Garage Door Opener, Garage Faces Front, Kitchen Level, Parking Pad', 'Driveway, Garage - 3 Car, Garage Door Opener, Keypad Entry', 'Basement, Attached, DRVWY, PKPAD, PAVED', '2 Car Garage, 2 Off Street, Detached Garage, Side Load', 'Circular Driveway, Garage Door Opener, Guest, Oversized, Workshop in Garage', 'Detached, Heated, Parking Garage', 'Attached Garage, Driveway, Garage - 3 Car, Garage Door Opener, Tandem Garage', 'Boat, Driveway, Open, Parking Pad, Workshop in Garage', 'Driveway, Oversized, Tandem, Workshop in Garage', '2 Car Garage, Attached, Off Street Parking, Side Loading', 'Covered, Off Street', '1 Space Assigned, Heated, Opener Included, Underground', 'Garage - 2 Door, Parking Space, Parking-Guest Onsite', '2 Carport, 2 Off Street', 'Community Garage, Parking Space', 'Detached Garage, On Street, Attached Garage, Off Street', 'Paved Parking, Surface, Driveway, Off Street', 'Driveway, Garage Door Opener, Golf Cart Garage, Off Street, Oversized', 'Separate Strge Area, Dir Entry frm Garage, Slab Parking Spaces', 'Detached Garage, Driveway, Garage - 2 Car, Garage Door Opener, Parking Space - 2', 'Detached Garage, Garage - 2 Car, Garage Door Opener, On-Street Parking', 'Attached, PKPAD', 'Driveway, Guest Parking', 'Electric Door Opener, Tandem Garage, RV Gate, Slab Parking Spaces', 'Boat, Driveway, Garage Door Opener, Garage Faces Side, Oversized', 'Common, Garage Door Opener, Guest', 'Concrete Driveway, Free, Attached Carport, On Street', 'Boat, Circular Driveway, Driveway, Garage Door Opener, Off Street, Split Garage, Workshop in Garage', 'Deed Restrictions, Gated Community, Golf Carts OK, Golf, No Truck/RV/Motorcycle Parking, Pool, Sidewalk, Special Community Restrictions', '\"Attchd Gar Cabinets, Electric Door Opener, RV Gate, RV Parking, Dir Entry frm Garage\"', '4 Car Garage', 'Carport, Street/Driveway, Parking Under Building', 'Electric Door Opener, RV Gate, RV Parking, Carport Spaces', '60 spaces', '\"Attchd Gar Cabinets, Electric Door Opener, Extnded Lngth Garage, Over Height Garage, Separate Strge Area, Side Vehicle Entry, RV Gate, RV Parking, RV Garage, Dir Entry frm Garage, Slab Parking Spaces\"', 'Drive - Unpaved, Unpaved Area', 'CONCR, DRVWY, On Street', '2 Off Street, 3 Car Garage, Attached Garage, On Street, Opener, Tandem', 'Circular Driveway, Covered, Curb Parking, Driveway, Garage Door Opener, Garage Faces Side, Golf Cart Garage, Golf Cart Parking, Guest', 'Asphalt Driveway, Private, Attached Garage', 'Capital Reserves, Clubhouse, Common Area Grounds Maintenance, Community Pool, Covered Parking, Exterior Maintenance w/ Roof, Fitness Facility, Gas, Insurance, Irrigation Water, On-Site Check In, Outdoor Hot Tub, Recycling, Sauna, Sewer, Snow Removal, Trash Removal, Water', 'Concrete Driveway, Private, Off Street', 'Direct Garage Access, Driveway - Concrete, Garage Door Opener', 'Driveway, Oversized, Parking Pad', 'Detached, Detached, ASPHT', '5.00', 'On-site - Sale', 'Shared Driveway, Unpaved, Off Street, On Street', 'Guest, Reserved', '2 Car Garage, 2 Off Street, Attached Garage, Farm Bldg, Opener, Side Load', 'Association Insurance, Exterior Building, Garage/Parking, Landscaping, Reserve Fund, Security Staff, Sewer, Snow Removal, Trash Removal', 'Garage - 1 Car, Keypad Entry, On-Street Parking', 'Carport, Individual Garage, Uncovered', '2 Off Street, Farm Bldg', 'Leasing Allowed, Outdoor Parking, Pets Allowed, Subleasing Allowed', 'Assigned, On Street, Parking Lot', 'Detached, Alley Access, DRVWY', 'Off Street, Detached Garage, On Street, Carport', 'Fenced, Parking Space Conveys, Secure Parking, Driveway, Off Street', '2 Car, Parking Lot, PAVED, Unassigned', 'Assigned, Paved Driveway, Surface, Off Street', 'Driveway, Garage Door Opener, Garage Faces Side, Golf Cart Parking, Oversized', 'Carport - 2 Car, Garage - 1 Car', 'Garage, Garage - 2 Door, Garage Attached, Parking Space, Private', 'Garage-Detached, Off Street', 'Attached, On Street', 'Association Insurance, Exterior Building, Garage/Parking, Gas, Heat, Landscaping, Sewer, Snow Removal, Water', 'Assigned, Common, Covered', 'Association Insurance, Entrance Maint., Exterior Building, Garage/Parking, Landscaping, Property Management, Reserve Fund, Security Staff, Snow Removal, Trash Removal', 'Covered, Driveway, Oversized', 'Detached, Over Height Garage, RV Parking, Slab Parking Spaces', 'Attached-Detached, CIRDW, CONCR', '2 Car, ASPHT, Parking Lot, PAVED', 'Asphalt Drive, Parking Pad', '1 Car Garage, 2 Off Street, Detached Garage, Opener', 'Attached - FRONT, Detached, AGGRE', 'Architectural, Minimum Sq Ft, No Commercial, No Mobile Homes, No Truck Parking', 'Assigned, Attached Garage, Off Street', 'Attached Garage, Garage - 3 Car, Keypad Entry, Parking Space - 3', 'Converted Garage, Driveway, Uncovered', '1 Car Garage, 1 Off Street, Detached Garage, Opener', '144 spaces', 'Attached Garage, Parking Lot', 'Lighted Parking, Unassigned, Parking Lot', 'Electric Door Opener, Tandem Garage', 'Alley Access, Driveway, Garage Door Opener, Garage Faces Rear', 'Carport-Attached, Off Street', 'DW/Earth', 'Electric Vehicle Charging Station(s), Detached Garage', '1 Car Garage, Detached, Off Street Parking, Utility Garage', '4 Car Garage, Attached Garage, Farm Bldg, Opener, Shared Driveway', 'Back Load Garage, Driveway, Garage - 2 Car, Garage Door Opener, Parking Space - 2', 'Alley Access, Assigned, CONCR', 'Attached - FRONT, ASPHT, CIRDW', 'Concierge, Covered Parking, Exterior Maintenance w/ Roof, Insurance, Trash Removal, Water', 'Boat, Circular Driveway, Garage Door Opener, Garage Faces Rear, Garage Faces Side, Oversized, Parking Pad, Workshop in Garage', 'Detached Carport, Off Street', '1 Assigned, Driveway Paved', '4 Car Garage, Attached Garage', 'Assigned, Fenced, Off Street, Parking Lot', 'Concrete Driveway, Fenced, Private, Surface, On Street, Off Street', '150 spaces', 'Driveway, Garage Door Opener, Off Street, Workshop in Garage', 'Attached - REAR, ASPHT, CIRDW', 'Driveway, Garage Door Opener, Garage Faces Side, Golf Cart Garage', 'Separate Strge Area, RV Gate, RV Parking, Gated Parking, Carport Spaces', '11 - 20 Spaces, 5 - 10 Spaces', 'Attached Garage, On Street, Carport', 'Boat, Driveway, Off Street, Tandem, Workshop in Garage', 'Direct Garage Access, Driveway, Garage Door Opener, Driveway Gate', 'Fenced, Parking Space Conveys, Paved Parking, Private, Secure Parking, Stone Driveway, Surface, Off Street', 'Deeded, Driveway Paved', 'Limited Common Elements, Assigned, Lighted Parking, Attached Garage', 'Attached Garage, Detached Garage, Driveway, Garage - 3 Car, Side Load Garage', 'Carport - 1 Car, Detached Garage, Garage - 3 Car', '1 Car Space, On Street Parking', 'Street Parking', 'None, Carport', 'Asphalt Driveway, Attached Garage, On Street', 'Attached - FRONT, CONCR, On Street', 'Direct Garage Access, Driveway', 'Assigned, Garage Door Opener, Garage Faces Side, Golf Cart Parking, Guest, Off Street, Oversized, Tandem, Under Building', 'Boat, Circular Driveway, Garage Door Opener, Garage Faces Rear, Garage Faces Side, Oversized, Underground', 'Drive - Unpaved', '331 spaces', 'Parking Space Conveys, Off Site', 'Covered, Driveway, Garage Door Opener, Guest, Off Street, On Street, Open', 'Free, Public, On Street', 'Covered, Underground', 'Separate Strge Area, Side Vehicle Entry, RV Gate, Carport Spaces', 'Attached - FRONT, Alley Access', 'Paved Driveway, Paved Parking, Off Street, Alley', 'Driveway, Electric Vehicle Charging Station(s), Garage Door Opener', 'Boat, Golf Cart Parking, Guest, Oversized, Workshop in Garage', 'Attached Garage, Driveway, Garage - 2 Car, Garage Door Opener, Parking Space - 1', 'Assigned, Garage Door Opener, Tandem, Under Building', 'Boat, Garage Door Opener, Guest', 'Driveway, Garage Door Opener, Open, Parking Pad', 'Detached Garage, Garage - 2 Car, Parking Space - 4+', 'Alley Access, Garage Door Opener', 'Assigned, Detached Garage', 'Attached, Facing Side, Garage Door Opener, Guest Parking Avail, RV Attached, Uncov Prkng Spc (2+)', '2 Off Street, Common Area, Shared Driveway', 'Bath In Garage, Driveway, Garage Door Opener, Garage Faces Side, Golf Cart Parking, Guest, Oversized', 'Basement, Attached', 'Detached, Attached, AGGRE, CIRDW', 'Asphalt Driveway, Detached Garage, Off Street, Detached Carport', 'Gas Metered, Hot Tub Pool, Swim Pool-Inground', 'Circular Driveway, Parking Pad', 'Assigned, Private, Surface, Off Street', 'Controlled Entrance, Covered Parking, Gated, Shared Driveway', 'Driveway, Off Street, On Street, Oversized', 'Detached Garage, Driveway, Off Street, Parking Lot', 'ASPHT, Parking Lot, Unassigned', 'Association Insurance, Exterior Building, Garage/Parking, Landscaping, Recreation, Reserve Fund, Security System, Snow Removal, Trash Removal', 'Attached, Door Opener, Heated, Parking Garage, Parking Lot', 'Assigned, Off Street, Attached Garage', 'Detached Garage, Garage - 3 Car', 'Electric Door Opener, Separate Strge Area, RV Gate, RV Parking', 'Paved Driveway, Paved Parking, Private, Attached Garage, Parking Lot', 'CONCR, SHARD', 'Carport, None', 'Electric Door Opener, RV Parking, Carport Spaces', 'Driveway, Garage Door Opener, Guest, Open', 'ADTCH, CONCR, GRAVL', 'Attached-Detached, Detached, DRVWY', '75', 'Common, Curb Parking, Open', '2 Car Garage, 2 Off Street, Attached Garage, Heated, On Street, Opener', '2 Car Garage, Detached, Main Level, Off Street Parking, Rear Loading', 'Rented/Permit Required, On Street', 'None, Other', '\"Attchd Gar Cabinets, Electric Door Opener, Tandem Garage, Dir Entry frm Garage, Slab Parking Spaces\"', '252 spaces', 'Detached, DRVWY, PAVED', 'Fitness Center, Gated Community, Gated Parking, Maintains Landscape, Onsite Management, Pet Rules, Rec/Multipurpose Rm, Security, Storage Area', 'Boat, Driveway, Garage Door Opener, Off Street, On Street', '1 Car Attchd Garage', 'Attached-Detached, Attached, GRAVL', 'ASPHT, CONCR, DRVWY', 'Assigned Parking Space - 1, Attached Garage, Garage - 1 Car, Keypad Entry, On-Street Parking, Parking Space - 2', 'Possible', 'Assigned, Asphalt Driveway, Lighted Parking, Paved Parking, Off Street, Parking Lot', 'Brick Driveway, Parking Space Conveys, Fenced, Off Street', '\"Attchd Gar Cabinets, Electric Door Opener, Over Height Garage, RV Gate, RV Parking, Dir Entry frm Garage, Slab Parking Spaces\"', 'Attached Garage, Carport - 2 Car, Driveway', 'Detached Carport, Driveway, On Street', 'Detached, Rear Vehicle Entry, Side Vehicle Entry, RV Gate, RV Parking, Gated Parking, Carport Spaces', 'AGGRE, DRVWY, On Street', 'Concrete Driveway, Fenced, Free, Private, Surface, Attached Carport', '1 Car Garage, 2 Carport, 2 Off Street', 'Boat, Covered, Driveway, Off Street, Parking Pad', 'Attached, ASPHT, CONCR', '44 spaces', 'Basement, CONCR, DRVWY', 'Drive Through Parking, Off Street Parking', 'Carport - 2 Car, Detached Garage, Driveway', 'Assigned Parking Space - 1, Lot', 'Garage Door Opener, Tandem, Underground', '35 spaces', 'Driveway, Off Street, Workshop in Garage', '42 spaces', 'Circular Driveway, Covered, Driveway, Garage Door Opener, Garage Faces Side, Guest, Oversized', 'Extnded Lngth Garage, Separate Strge Area', 'Extnded Lngth Garage, RV Gate, RV Parking', 'Unassigned, Parking Lot, Off Street', 'On-site - Rent', 'Fenced, Off Street, On Street', '2 Car Space, Guest Parking', 'Front Loading, Off Street Parking', '25', 'Garage Faces Rear', 'Attached Garage, Driveway, Garage - 2 Car, Parking Space - 4+', 'Assigned, Driveway, Guest', 'Driveway, Guest, Under Building', 'Detached, Separate Strge Area, RV Gate, RV Parking, Carport Spaces', '\"Permit/Decal Reqd\"', '2 Car, CONCR, Parking Lot, Unassigned', 'RV Covered, RV Gated', 'Alley, Off Street, Parking Lot', 'Detached, Detached, AGGRE', 'Assigned, Attached Garage, Off Street, Parking Lot', '2 Off Street, 5 Car Garage +, Attached Garage, Detached Garage, Farm Bldg, Opener', 'Concrete Driveway, Electric Vehicle Charging Station(s), Attached Garage, Off Street, On Street', '2 Car Garage, 2 Off Street, Detached Garage, On Street', 'Assigned Parking Space - 2, Parking Deck, Parking Garage, Parking Space - 2', 'Covered, Open, Under Building', '2 Car Garage, Attached, Basement, Front Loading, Main Level, Off Street Parking, Utility Garage', 'Covered Parking, Pavers', 'Assigned Parking, Valet', 'Paved Driveway, Detached Garage, Off Street, On Street', '1 Car Carport, 2 Car Carport, Detached, Off Street Parking', 'Assigned, On-site - Sale, Rented/Permit Required, On-site - Rent, Off Street, Parking Lot, On Street', 'Golf Cart Garage, Golf Cart Parking, Open, Under Building, Underground', 'Driveway, Garage Faces Side, Off Street, Oversized, Tandem', 'Attached Garage, Garage - 3 Car, Garage Door Opener, Keypad Entry', 'Driveway, Guest, Oversized', 'Garage - 1 Car, Garage Door Opener, On-Street Parking, Parking Space - 2', 'Carport-Detached, Garage-Attached, Garage-Detached, O', '46', 'Opener Included, Private Garage', 'Side Vehicle Entry, RV Gate, Carport Spaces', '108 spaces', 'Driveway, Garage - 3 Car, On-Street Parking', 'Club House, Gated Community, Guest Parking', 'Assigned, Common', '1 Off Street, 2 Car Garage, 2 Off Street, Attached Garage, Opener', 'Direct Garage Access, Driveway, Driveway - Concrete', 'Attached Garage, Garage - 2 Car, Keypad Entry, Parking Space - 2', 'Association Insurance, Exterior Building, Garage/Parking, Landscaping, Property Management, Sewer, Snow Removal, Trash Removal, Water', 'Covered, Garage Door Opener, Golf Cart Parking, Off Street', 'Off Site, Parking Lot', 'Attached - FRONT, CONCR, PKPAD', 'Boat, Driveway, Parking Pad', 'Attached - SIDE, CONCR, DRVWY, On Street', 'Paved Driveway, Paved Parking', 'Driveway, Guest, Off Street', 'Secured', '228', 'Driveway, Level Driveway', 'Assigned Parking Space - 2, On-Street Parking', 'Unit Parking', 'Circular Driveway, Driveway, Garage Door Opener, Garage Faces Side', 'Alley Access, Curb Parking, Garage Door Opener, Garage Faces Rear, Guest, On Street', 'Guest, Off Street, Open', 'Attached Garage, Garage - 2 Car, Garage Door Opener, Keypad Entry, Parking Space - 2', '1 Assigned, Guest, Paved Parking', 'Asphalt Driveway, Parking Space Conveys, Off Street', 'On Street, Carport, Off Street, Attached Garage', 'Assigned, Garage Door Opener, Guest, Tandem, Under Building', 'Assigned, Garage Door Opener, Guest, Under Building', '252', '1 Assigned, Covered, Under Bldg Open', 'Boat, Circular Driveway, Driveway', 'Carport, Off Street, Uncovered', 'Covered, Driveway, Workshop in Garage', 'Circular Driveway, Garage Faces Side, Golf Cart Parking', '1 Assigned, Common, Guest', 'From Texas Medical Center, follow Main Street south, Right on Murworth, Southpoint is on Left. Property is only few miles from heart of Texas Medical Center. Property is between Main and Buffalo Speedway. 5 Minutes from Employee Parking Lot with Access to Houston Light Rail. Follow someone through gate.', 'Attached Garage, Carport - 2 Car, Garage - 1 Car', 'Private, Secure Parking, Paved Parking, Paved Driveway, Off Street, Attached Carport', 'Driveway, Garage Door Opener, Oversized, Tandem, Workshop in Garage', 'Driveway, Garage - 2 Car, Garage Door Opener, Keypad Entry, Side Load Garage', 'Assigned, Unassigned, Off Street', '2 Car Garage, 3 Car Carport or more, Detached, Off Street Parking, Utility Garage', 'Concrete, Garage-Ground Level, Garage-Under Bldg, Parking Garage', 'Assigned, Off Street, On Street, Parking Lot', 'Secure Parking, Attached Garage', 'Bath In Garage, Driveway, Garage Door Opener, Open, Portico', 'Attached - FRONT, AGGRE, CIRDW, CONCR', '2 Car Garage, Detached Garage, Farm Bldg', 'Carport - 2 Car, Detached Garage, Garage - 1 Car', '2 Assigned, Deeded, Driveway Paved, Paved Parking', 'Heated, Lighted Parking, Electric Vehicle Charging Station(s), Attached Garage, Driveway', 'Attached, Carport, Kitchen Level Entry, Off Street', '2 Car Garage, Attached Garage, Common Area, Detached Garage', 'Garage-Double Attached', 'Parking Space Conveys, Paved Parking, Private, Surface, Off Street, Parking Lot', '1 Off Street, 2 Off Street', 'Detached, Attached, ASPHT, DRVWY', 'Paved Parking', '11 - 20 Spaces', 'Attached Garage, Detached Garage, Garage - 2 Car', 'Converted Garage, Driveway, Garage Door Opener, Off Street', 'Driveway, Garage Door Opener, Garage Faces Side, Tandem', 'Golf Cart Garage, Golf Cart Parking, Off Street', '\"Attchd Gar Cabinets, Electric Door Opener, Extnded Lngth Garage, Side Vehicle Entry, RV Gate, RV Parking, Gated Parking, Temp Controlled, Carport Spaces\"', 'Unassigned, Attached Garage', 'Parking Lot, Unassigned', 'Assigned, Guest, Open, Valet', 'Attached Garage, Detached Garage, Garage - 4+ Car, Garage Door Opener, Side Load Garage', '2 Car Garage, Shared Driveway, Side Load', 'Off Street, Carport, Attached Garage, On Street, Detached Garage', 'Garage Door Opener, Garage Faces Side, Golf Cart Parking, Off Street, Oversized', 'Attached Garage, Parking Garage, Parking Space - 1', '\"Attchd Gar Cabinets, Electric Door Opener, Golf Cart Garage, Slab Parking Spaces\"', 'Deed Restrictions, No Truck/RV/Motorcycle Parking', 'Garage Faces Rear, On Street', 'Attached Garage, Garage - 3 Car, Parking Space - 4+, Side Load Garage', 'Attached Garage, Electric, Storage', 'Boat, Circular Driveway, Garage Door Opener, Oversized, Under Building, Workshop in Garage', 'Attached Garage, Off Street Parking, Side Yard Access', 'Driveway, Lot, Parking Space - 4+', '3 Car Garage, Opener', 'Basement, Carport - 2 Car, Driveway', 'Carport, None, Attached Garage', 'Electric Door Opener, Temp Controlled, Dir Entry frm Garage, Slab Parking Spaces', 'Attached Garage, Basement, Garage - 2 Car, On-Street Parking', 'Assigned, Circular Driveway, Curb Parking, Guest, Off Street', 'Concrete Driveway, Fenced, Paved Driveway, Paved Parking, Off Street', 'Detached Garage, On Street, Carport, Off Street', 'Golf Cart Garage, Oversized', 'Free, Paved Parking, Parking Lot', 'Covered, Driveway, Off Street', 'Carport - 2 Car, Parking Space - 3', 'Carport, Uncovered', 'Private, Secure Parking, Driveway, Off Street', 'Attached, PVT, On Street', 'Alley Entrance, Electric Door Opener, Parking Space', 'Carport - 1 Car, On-Street Parking', 'Detached Garage, Driveway, Garage - 2 Car, Garage Door Opener, Keypad Entry', '2+ Spaces, Covered, Driveway Paved, Paved Parking', '171 spaces', 'Auto Garage Door, Kitchen Level Entry, Paved, Paved Driveway, Side/Rear Entrace', 'Private, Gravel Driveway, Off Street', '2 Car Garage, Opener, Side Load', 'Attached Garage, Garage - 3 Car, Keypad Entry', 'Circular Driveway, Workshop in Garage', 'Concrete Driveway, Private', 'Attached, Attached, CONCR, PAVED, UPAVD', '2 Car, Parking Pad, Side/Rear Entrance', '2 Car Garage, Detached, Front Loading, Off Street Parking', 'Driveway, Garage Door Opener, Off Street, Oversized, Workshop in Garage', 'Controlled Entrance, Direct Garage Access, Garage Door Opener, Driveway Gate', 'Attached - REAR, CIRDW, PKPAD', 'Electric Door Opener, RV Gate, Gated Parking, Slab Parking Spaces', 'Attached - SIDE, AGGRE, Assigned, PKPAD', 'Attached Garage, Driveway, Garage - 2 Car, Parking Space - 4+, Side Load Garage', '2 Car, 3 Car Or More, Attached, Auto Garage Door, Garage, Kitchen Level Entry, Side/Rear Entrance, Storage, Guest Parking', 'Carport, Attached Garage, On Street', '1 Car Garage, Parking Under Building, Street/Driveway', 'ONSTR', 'Attached, Driveway, Garage, Garage Door Opener, Level Driveway', '\"Attchd Gar Cabinets, Dir Entry frm Garage\"', 'Covered Parking, Direct Garage Access', 'Electric Door Opener, RV Gate, RV Parking, Gated Parking, Temp Controlled, Carport Spaces', 'Parking Restrictions', '3 Car Garage or more, Attached, Main Level, Off Street Parking, Rear Loading', 'Parking Fee, Detached Garage, On Street', 'Asphalt Driveway, Circular Driveway, Detached Carport, Detached Garage', 'Exterior Building, Garage/Parking, Landscaping, Reserve Fund, Snow Removal, Trash Removal', 'Alley Access, Golf Cart Garage', 'Concrete Driveway, Paved Driveway, Attached Carport', '\"Attchd Gar Cabinets, Electric Door Opener, Extnded Lngth Garage, Golf Cart Garage\"', 'Attached, Off Street Parking', 'On-site - Sale, Parking Lot', '2 Car Garage, Attached, Detached, Off Street Parking', 'Carport - 1 Car, Garage - 1 Car', '\"Attchd Gar Cabinets, Electric Door Opener, Extnded Lngth Garage, Over Height Garage, Side Vehicle Entry, RV Gate, RV Parking, Dir Entry frm Garage, Slab Parking Spaces\"', '\"Attchd Gar Cabinets, Detached, Electric Door Opener, Extnded Lngth Garage, Over Height Garage, Separate Strge Area, Side Vehicle Entry, RV Gate, RV Parking, Gated Parking, RV Garage, Dir Entry frm Garage, Slab Parking Spaces\"', 'Driveway Unpaved, RV-Boat', '21 spaces', 'Attached, Detached, Garage, Kitchen Level Entry, Side/Rear Entrance', 'Take I-10E toward downtown, take exit 770A toward 59 S/Victoria. Use the middle lane to follow signs to Hamilton St., take St. Emanuel St. to Hutchins St. Parking will be on Hutchins or McKinney.', 'Carport, Driveway, Garage, Paved, Public On-Street Parking', '1 Car Garage, Single Carport', '41 spaces', 'Basement, Attached, AGGRE, DRVWY', 'Attached Garage, Garage - 2 Car, On-Street Parking, Parking Space - 2', 'Swim Pool-Inground', 'Covered Parking, Driveway - Concrete', 'Driveway, Garage - 2 Car, On-Street Parking', 'Additional for Sale, Underground', 'Carport - 1 Car, Detached Garage, Garage - 1 Car, Parking Space - 4+', 'Attached Garage, Detached Carport', 'Rear Vehicle Entry, Separate Strge Area, Side Vehicle Entry, RV Gate, RV Parking, Gated Parking, Carport Spaces', 'Architectural, Minimum Sq Ft, No Commercial, No Mobile Homes, No RV Parking, No Truck Parking', 'Detached, RV Parking, Carport Spaces', '5 Car Garage +', 'Driveway, Garage - 1 Car, On-Street Parking', 'Detached, Electric Door Opener, RV Gate, RV Parking', 'Boat, Circular Driveway, Covered, Driveway, Garage Door Opener, Guest, Oversized, Parking Pad', 'Attached - REAR, Alley Access, ASPHT, On Street', 'Barbecue, Fitness Center, Gated Parking, Maintains Landscape, Meeting Room, Outdoor Cooking Area, Sauna, Tennis Courts', 'Carport - 1 Car, Garage - 3 Car', 'Driveway, RV Gated', '2 Or More Spaces', 'Buyer Approval Required, Deed Restrictions, No Truck/RV/Motorcycle Parking, Pool, Tennis Courts, Water Access, Waterfront', '111', 'Assigned, Parking Space Conveys, Surface, Off Street', 'Attached - REAR, Attached, CONCR', 'Cable TV, Clubhouse, Common Area Grounds Maintenance, Community Pool, Covered Parking, Exterior Maintenance w/ Roof, Fitness Facility, Heat, Insurance, Sewer, Snow Removal, Trash Removal, Water', 'Electric Door Opener, Separate Strge Area, Dir Entry frm Garage, Slab Parking Spaces', '\"Attchd Gar Cabinets, Detached, Electric Door Opener, Extnded Lngth Garage, Over Height Garage, Separate Strge Area, Side Vehicle Entry, RV Gate, RV Parking, Gated Parking, RV Garage, Slab Parking Spaces\"', 'Driveway, Driveway Gate', '529 spaces', 'Boat, Driveway, Garage Door Opener, Golf Cart Garage, Guest, Off Street, Oversized', 'Asphalt Driveway, Attached Garage, Parking Lot', 'Brick Driveway, Lighted Parking, Attached Garage, Parking Lot', 'Circular Driveway, Paved Driveway, Private, Attached Garage', 'Assigned, Lighted Parking, Parking Space Conveys, Paved Parking, Off Site', 'Golf Cart Garage, Off Street, Workshop in Garage', 'Covered, Oversized, Workshop in Garage', 'Deed Restrictions, Gated Community, No Truck/RV/Motorcycle Parking', 'Covered, Golf Cart Garage, Golf Cart Parking, Under Building, Workshop in Garage', '23 spaces', 'Boat, Converted Garage, Driveway', 'ASPHT, DRVWY, PKPAD', 'Attached Garage, Basement, Driveway, Garage - 2 Car, Parking Space - 3', 'Driveway, RV Access/Parking', '2 Car Carport, Detached, Main Level, Off-Street Parking', 'Attached Garage, Basement, Driveway, Garage - 2 Car, Garage Door Opener, Side Load Garage', '1016', 'Guest, Open, Parking Pad', 'Free, Paved Parking, Unassigned, Parking Lot', 'Carport, On street, Attached Garage, Detached Garage', 'Circular Driveway, Garage Door Opener, Golf Cart Parking, Oversized', 'Electric Door Opener, Golf Cart Garage, Dir Entry frm Garage', 'Keypad Entry, Parking Space - 1', 'Electric Door Opener, Separate Strge Area, RV Parking, RV Garage, Carport Spaces', 'Electric Door Opener, Rear Vehicle Entry, Tandem Garage, RV Gate, Slab Parking Spaces', '1 Car, Parking Lot, PAVED, Unassigned', 'Attached Carport, On Street', '3 Car Or More, Parking Pad', '2 Car Carport, 2 Car Garage, Attached, Basement, Detached, Off Street Parking, Side Loading', 'Attached Garage, Basement, Driveway, Garage - 2 Car, Parking Space - 4+', 'Attached Garage, Detached Garage, Garage - 3 Car, Garage - 4+ Car, Garage Door Opener, Keypad Entry, Side Load Garage', 'Carport, Paved', 'Driveway, Parking Space - 1, Parking Space - 2, Parking Space - 3, Parking Space - 4+', 'ASPHT, PKPAD, PAVED', 'Shared Driveway', 'Driveway, Garage Door Opener, On Street, Under Building', 'Boat, Circular Driveway, Guest, Oversized, Parking Pad, RV Carport, Workshop in Garage', 'Covered, Driveway, Garage Door Opener, Garage Faces Rear, Guest, On Street, Oversized, Workshop in Garage', 'Gated Community, Gated Parking, Guest Parking, Rec/Multipurpose Rm', 'Attached Garage, Side Load Garage', 'Parking available on Kelving St. just off of N Braeswood.', 'Assigned, Attendant, Parking Fee, Paved Parking, Private, Secure Parking, Attached Garage', 'Detached, Electric, Parking Lot', 'Unassigned, General Common Elements, Circular Driveway', 'Carport, On street, Detached Garage', 'Electric Door Opener, Side Vehicle Entry, Dir Entry frm Garage', 'Driveway, Off Street, Attached Garage', '4 Car Garage, Attached Garage, Detached Garage, Side Load', 'Assigned, Concrete Driveway, Free, Private, Secure Parking, Attached Garage, Detached Garage, On Street', 'Secure Parking, Attached Garage, Off Street', 'Private, Parking Space Conveys, Parking Fee, Attached Garage, Off Street', 'Carport - 2 Car, Parking Space - 2', '1 Car Garage, 2 Car Garage, Attached, Basement, Off Street Parking', 'Asphalt, Attached, Garage Door Opener, Shared Driveway', 'Secure Parking, On-site - Sale, Off Street', 'Leasing Allowed, Outdoor Parking, Pets Allowed', 'Detached, GRAVL, On Street, SHARD', 'Parking Fee, Assigned, Attached Garage', 'Detached, AGGRE, DRVWY', '2 Car Garage, 2 Off Street, Attached Garage, Heated, Opener', 'Asphalt Driveway, Lighted Parking, Attached Garage, Off Street', 'Boat, Covered, Driveway, Parking Pad', 'Electric Door Opener, Side Vehicle Entry', 'Circular Driveway, Driveway, Garage Door Opener, Garage Faces Side, Guest, Oversized', 'Circular Driveway, Driveway, Garage Door Opener, Garage Faces Side, Off Street, Oversized, Workshop in Garage', 'Carport - 1 Car, Garage - 1 Car, On-Street Parking', 'Access from Unit, Attached, Door Opener, Parking Garage', 'Attached Garage, Driveway, Garage - 1 Car, Garage Door Opener, On-Street Parking', 'Assigned Parking Space - 1, Garage Door Opener, On-Street Parking, Parking Garage', 'Guest, Reserved, Under Building', 'Gravel Driveway', 'Attached - SIDE, DRVWY, On Street', 'Association Insurance, Exterior Building, Garage/Parking, Landscaping, Property Management, Reserve Fund', '1 Car Garage, On Street', 'Basement, Driveway, Garage - 2 Car', 'Carport , Off-Street Parking', 'Boat, Driveway, Oversized, RV Garage, Workshop in Garage', 'Assigned, Garage Detached, Parking Space', 'Attached Garage, Driveway, Garage Door Opener, On-Street Parking', 'Garage Door Opener, Tandem, Under Building', 'Electric Door Opener, Extnded Lngth Garage, Over Height Garage, Side Vehicle Entry, RV Parking', 'Electric Door Opener, Separate Strge Area, Side Vehicle Entry, RV Gate, RV Parking, Dir Entry frm Garage, Slab Parking Spaces', 'Exterior Building, Garage/Parking, Gas, Property Management, Sewer, Snow Removal, Trash Removal, Water', 'Assigned Parking, Detached, Carport Spaces', 'Assigned, Garage Door Opener, Open', 'Attached, ASPHT, PKPAD', 'Outdoor Parking', 'Assigned Parking, Electric Door Opener, Carport Spaces', 'CONCR, On Street, PKPAD', '222 spaces', 'Attached Garage, Garage Door Opener, Parking Space - 2', 'Drive - Paved, Parking Pad', 'From I-10, exit TC Jester. Go north on TC Jester, turn left (west) on Larkin. Turn left (south) on Arabelle St. Turn right on Cornish St; property will be on the right. Parking', '2+ Spaces, Covered', '1 Addl Parking Space, Attached Garage, Concrete, Driveway, Garage Door Opener, Garage-Ground Level', 'Garage - 2 Car, Garage Door Opener, Keypad Entry, Side Load Garage', 'Concrete Driveway, Off Street, On Street, Alley', 'Free, General Common Elements, Surface, Unassigned, Off Street, On Street', 'Common Area Grounds Maintenance, Concierge, Covered Parking, Exterior Maintenance w/ Roof, Heat, Insurance, Recycling, Sewer, Snow Removal, Trash Removal, Water', '1 Carport', '4 Car Garage, Attached Garage, Detached Garage, Opener', 'Extnded Lngth Garage, Rear Vehicle Entry, Separate Strge Area, Side Vehicle Entry, Carport Spaces', 'Circular Driveway, Driveway, Garage Door Opener, Off Street, Workshop in Garage', '\"Assigned Parking, Gated Parking, Valet, Addtnl Purchasable\"', 'Covered, Driveway Paved, Paved Parking', 'Attached, Door Opener, Drain, Electric, Parking Garage, Water Available', 'Gravel Driveway, Asphalt Driveway, Off Street, On Street', 'Auto Driveway Gate, Driveway Gate', 'Assigned, Common, Guest, Parking Pad', '\"Attchd Gar Cabinets, Electric Door Opener, RV Gate, RV Parking, Carport Spaces\"', 'Assigned, Garage, Parking for Guests - Onsite, Private, Side by Side, On street', '1 Carport, 2 Off Street, 4 Car Garage, Detached Garage, Opener', 'Boat, Circular Driveway, Driveway, Open, RV Garage', '3 Car Garage or more, Attached, Basement, Off Street Parking, Side Loading', 'Assigned, Boat, Converted Garage, Covered, Driveway, Garage Door Opener, Golf Cart Parking, Guest, Off Street, Open', 'Unassigned, Unassigned', 'Attached Garage, Carport - 1 Car, Driveway, Garage - 2 Car', 'Covered, Driveway Paved, Under Bldg Open', 'Covered, Driveway, Garage Door Opener, Oversized, Portico, Split Garage', 'Covered, Tandem', 'Parking Space Conveys, Alley, Off Street', 'Attached Garage, Garage - 2 Car, Parking Space - 3, Side Load Garage', 'Rented/Permit Required, Off Street, Parking Lot', '43 spaces', 'Curb Parking, On Street', 'Driveway, Garage Door Opener, Garage Faces Side, Golf Cart Parking, Oversized, Workshop in Garage', 'Attached, Door Opener, Parking Garage', 'Alley Access, DRVWY, GRAVL', 'Detached, CONCR, GRAVL, PKPAD', 'Assigned Parking Space - 1, Carport - 1 Car, Parking Space - 2', 'Paved Parking, Parking Space Conveys, Parking Lot', 'Unassigned, Free, Attached Garage, Off Street', 'Attached - FRONT, CIRDW', 'Golf Cart Parking, Off Street, Under Building', 'Alley Access, Covered, Garage Faces Rear', 'Attached Garage, Driveway, On Street Parking, RV / Boat Parking', 'On Street, Driveway, Off Street', '2 Off Street, Shared Driveway', 'Driveway Paved, Golf Cart, Paved Parking', 'Electric Door Opener, Separate Strge Area, Side Vehicle Entry, RV Gate, RV Parking, Gated Parking, Dir Entry frm Garage, Slab Parking Spaces', 'Boat, Driveway, Garage Door Opener, Garage Faces Side', '1 Car Garage, 1 Off Street, Detached Garage, On Street', '1 Car Garage, Parking Under Building', 'Detached, Off Street Parking, Private Parking', 'Parking Lot, Attached Garage', 'Electric Door Opener, Rear Vehicle Entry, Separate Strge Area, RV Gate, RV Parking, Slab Parking Spaces', '\"Attchd Gar Cabinets, Electric Door Opener, Unassigned Parking, RV Parking, Dir Entry frm Garage, Slab Parking Spaces\"', 'Community Boat Ramp, Deed Restrictions, Golf Carts OK, No Truck/RV/Motorcycle Parking, Water Access', 'ASPHT, DRVWY, PAVED', 'Lot, Parking Space - 3', '1 Car Carport, 1 Car Garage, Basement, Off Street Parking, Side Loading', 'Assigned, Driveway, Parking Lot, Off Street', 'Paved Parking, Private, Secure Parking, Attached Garage', 'Attached Garage, Driveway, Guest Parking', 'Rear Vehicle Entry, RV Gate, Slab Parking Spaces', 'Detached Garage, Driveway, Off Street', 'On-site - Sale, Secure Parking, Attached Garage', 'Assigned, Driveway', 'Off Street, Driveway, On Street', 'Carport - 4+ Car, Driveway, Garage - 1 Car, Parking Space - 3', 'Asphalt Driveway, Parking Space Conveys, Surface, Assigned, Off Street', 'Assigned Parking Space - 2, Keypad Entry', 'Attached Garage, Carport - 4+ Car, Parking Space - 4+', 'Air Conditioning, Association Insurance, Electric, Entrance Maint., Exterior Building, Garage/Parking, Gas, Heat, Landscaping, Property Management, Recreation, Reserve Fund, Security Staff, Security System, Sewer, Snow Removal, Trash Removal, Water', 'ASPHT, CIRDW', '\"Attchd Gar Cabinets, Electric Door Opener, Over Height Garage, Separate Strge Area\"', 'Association Insurance, Entrance Maint., Exterior Building, Garage/Parking, Landscaping, Property Management, Sewer, Snow Removal, Trash Removal, Water', '48', '230 spaces', 'Attached Garage, Driveway, Garage - 3 Car, Parking Space - 4+, Side Load Garage', 'Driveway, Garage Door Opener, Off Street, On Street', 'Fenced, Paved Driveway, Paved Parking, Secure Parking, Off Street', 'Attached Garage, Parking Garage', 'Attached Garage, Off Street, On Street, Detached Garage, Carport', '2+ Spaces, Driveway Paved, Golf Cart, RV-Boat, Special Rental', 'Off Street, Other', 'Assigned, Covered, Guest, Off Street, Under Building', 'Attached Garage, Garage - 2 Car, Garage Door Opener, Parking Space - 3, Side Load Garage', 'Detached Garage, None', 'Parking Lot, Pond', 'Attached Garage, Driveway, Garage Door Opener', 'Bath In Garage, Driveway, Garage Door Opener, Golf Cart Parking, Guest, Open, Oversized, Parking Pad, Under Building, Workshop in Garage', 'Buyer Approval Required, Deed Restrictions, No Truck/RV/Motorcycle Parking, Pool, Sidewalk, Special Community Restrictions, Waterfront', 'Circular Driveway, Attached Garage, Off Street', '2 Car, Carport, Detached, Garage, Storage', 'Driveway - Concrete, Garage Door Opener, Private Garage', '47 spaces', 'Assigned, Parking Pad, Reserved', 'Asphalt, Driveway, Off Street, On Street', 'Limited Common Elements, On-site - Sale, Private, Surface, Assigned, Off Street', 'Attached Garage, Garage - 2 Car, Garage Door Opener, Keypad Entry, On-Street Parking, Parking Space - 4+, Tandem Garage', 'Electric Door Opener, RV Gate, RV Parking, Gated Parking, Slab Parking Spaces', 'Assigned, Parking Space Conveys, Private, Secure Parking, Heated, Lighted Parking, Paved Driveway, Attached Garage, Parking Lot', 'Covered Parking, Garage Door Opener, Garage-Ground Level, Guest Parking, Oversize Gar/Storage', 'Attached - SIDE, Unassigned', 'Boat, Garage Door Opener', 'Boat, Circular Driveway, Driveway, Garage Door Opener, Golf Cart Parking, Oversized, Parking Pad, Tandem, Workshop in Garage', 'Basement, Attached, ASPHT', 'Unpaved, On Street, Off Street', 'Converted Garage, Parking Pad', 'Attached Garage, Off Street Parking', 'General Common Elements, Driveway, Off Street', '2 Car Garage, Attached Garage, Farm Bldg, Lift, Opener, Side Load', '2 Car Garage, 2 Off Street, Detached Garage, On Street, Opener', 'Unpaved Drive', '2 Car Garage, Basement, Off Street Parking, Side Loading', 'Clubhouse, Common Area Grounds Maintenance, Covered Parking, Exterior Maintenance w/ Roof, Road Maintenance, Sewer, Snow Removal, Trash Removal, Water', '2 Car Garage, Attached Garage, Farm Bldg', 'Free, Surface, Unassigned, General Common Elements, On Street', 'RV Parking, Gated Parking, Slab Parking Spaces', 'Paved Parking, Private, Secure Parking, Off Street', 'Other', '2 Car Garage, 4 Car Garage, Attached Garage, Detached Garage, Opener', 'Attached Garage, Back Load Garage, Garage - 1 Car, Garage Door Opener, Keypad Entry, On-Street Parking', 'Parking Garage, Parking Space - 1, Parking Space - 2', 'Bath In Garage, Circular Driveway', 'Attached Carport, Attached Garage', '1 Off Street, 2 Off Street, 4 Car Garage, Attached Garage, On Street, Opener, Side Load', 'Surface, Fenced, Off Street', 'Assigned Parking Space - 1, Attached Garage, Garage Door Opener, Lot, On-Street Parking, Parking Space - 1', 'Attached Garage, Garage - 2 Car, Parking Space - 2, Parking Space - 4+', '\"Attchd Gar Cabinets, Electric Door Opener, Extnded Lngth Garage, Over Height Garage, RV Gate, Slab Parking Spaces\"', '3 Car Or More, Drive Under/Basement, RV/Boat Parking', 'Parking Space - 1, Parking Space - 2, Parking Space - 3', 'Concrete Driveway, Detached Garage, Off Street', 'Detached, UPAVD', '1 Car Garage, 1 Carport, 2 Car Garage, Attached Garage, Detached Garage, Farm Bldg', 'Assigned, Assigned, PAVED', '2 Off Street, Detached Garage', '2+ Spaces, Covered, RV-Boat', '2 Car, Attached - REAR, Alley Access, On Street, Parking Lot', 'Garage Door Opener, Oversized, Parking Pad, Workshop in Garage', '2 Carport', 'Assigned Parking Space - 1, Parking Deck, Parking Space - 1', 'Opener Included, Surface, Underground', 'Split Garage, Workshop in Garage', 'Boat, Driveway, Garage Door Opener, Off Street, Open, Oversized', 'Circular Driveway, Garage Door Opener, Split Garage', 'Surface, Rented/Permit Required, Paved Parking, Off Street, Parking Lot', 'Boat, Curb Parking, Driveway, Garage Door Opener, Oversized, Workshop in Garage', 'On Site, Unpaved', 'Tandem, Under Building', 'RV/Boat Parking', 'Activities Available, BBQ Area, Clubhouse, Gas Metered, Hot Tub Pool, Swim Pool-Inground', 'Detached Garage, Guest Parking, Enclosed Garage', 'Boat, Covered, Driveway, Garage Door Opener, Guest, Open, Parking Pad, RV Carport', 'Attached Garage, Garage - 4+ Car, Parking Space - 4+, Side Load Garage', 'Attached, Garage, Garage Faces Front', 'Attached Garage, Detached Garage, Garage - 4+ Car', '-Carport', 'Garage Door Opener, Golf Cart Parking, Workshop in Garage', 'Gravel Driveway, On Street', 'Circular Driveway, Direct Garage Access', 'Common, Guest, Off Street, Open', 'Assigned, General Common Elements, Parking Space Conveys, Unassigned, Surface, Attached Garage, Parking Lot', 'Driveway - Concrete, Driveway Gate', 'On Street, Attached Garage, Detached Garage, Off Street', 'AGGRE, DRVWY, GRAVL', 'Assigned, Covered, Garage Door Opener, Guest, Under Building', 'Electric Door Opener, RV Parking', 'Concrete Driveway, Private, On Street, Off Street', 'Association Recreation - Owned, Buyer Approval Required, Deed Restrictions, No Truck/RV/Motorcycle Parking, Pool, Water Access', '2 Car Garage, Attached Garage, Detached Garage, Opener, Side Load', 'Driveway, Garage Door Opener, Oversized, RV Garage, Split Garage', 'Assigned, Limited Common Elements, Parking Fee, Electric Vehicle Charging Station(s), Attached Garage', '5 Car Garage +, Attached Garage, Detached Garage, Farm Bldg, Side Load', 'Driveway, Other Parking', 'Clubhouse, Game Room, Laundry Facility, Swim Pool-Inground', 'Detached Garage, Insulated Garage, Electric, Storage', 'On Street, Off Street, Alley', 'Covered, Guest, Under Building', 'Free, <1 Space Per Unit, Street Parking, >1 Space Per Unit', 'Circular Driveway, Fenced, Attached Garage', 'Assigned, Parking Lot, Off Street', 'Detached Garage, Insulated Garage', 'Separate Strge Area, RV Gate, RV Parking, Slab Parking Spaces', '4 Car Garage, Attached Garage, Opener, Side Load', 'On Street, Alley', 'Assigned, Parking Space Conveys, Paved Parking, Off Street, On Street', '1 Carport, 2 Car Garage, Detached Garage', '3 Car Garage or more, Attached, Front Loading, Off Street Parking', '\"Attchd Gar Cabinets, Electric Door Opener, Tandem Garage, RV Gate, Dir Entry frm Garage, Slab Parking Spaces\"', '2 Car Garage, 2 Off Street, 3 Car Garage, Attached Garage, Opener', '120', 'Detached, Electric Door Opener, Extnded Lngth Garage, Over Height Garage, Separate Strge Area, RV Gate, RV Parking, RV Garage, Slab Parking Spaces', 'Additional Parking Available', 'Covered, Driveway, Garage Door Opener, Guest, Oversized, Workshop in Garage', '\"Attchd Gar Cabinets, Electric Door Opener, Extnded Lngth Garage, Golf Cart Garage, Rear Vehicle Entry, Dir Entry frm Garage\"', 'None, Detached Garage', 'Attached Garage, Alley, Off Street', 'Deed Restrictions, Gated Community, No Truck/RV/Motorcycle Parking, Pool, Sidewalk', '1 Space Assigned, Surface, Underground', 'Exterior Building, Garage/Parking, Landscaping, Snow Removal', 'Attached Garage, Garage - 4+ Car, Parking Space - 2', 'Driveway, Golf Cart Parking', 'Attached Garage, Int Access From Garage, Side Yard Access', 'Electric Door Opener, Side Vehicle Entry, RV Gate, Slab Parking Spaces', 'Assigned, Paved Driveway, Attached Garage, Off Street', 'State Route 344 (Columbia St.) cross over railroad tracks home on Chestnut St. hill. Parking area off alleyway.', 'Assigned, Parking Fee, Off Street', 'Circular Driveway, Driveway, Garage Door Opener, Oversized, Parking Pad', 'Assigned Parking, Detached, Separate Strge Area, Unassigned Parking, Gated Parking, Carport Spaces', '1 Space Assigned, Heated', '2 Car Garage, 2 Off Street, Attached Garage, On Street, Opener, Side Load', 'Assigned, Attached Garage, Driveway', 'Assigned Parking Space - 2, Keypad Entry, Parking Garage, Parking Space - 2', 'Side Vehicle Entry, RV Parking', 'Surface, Secure Parking, Private, Fenced, Concrete Driveway, Off Street', '2 Car, Kitchen Level Entry, Off Street', '1 Car Garage, Attached Garage, Heated, Opener', 'DRVWY, PAVED', '2 Car Space, Covered Parking, Detached Garage, Driveway', 'Garage-Attached, Garage-Detached, Off Street', 'Attached Garage, Garage - 2 Car, Parking Space - 3', 'Covered, Garage Door Opener, Garage Faces Side, Golf Cart Parking, Guest', 'Private, Stone Driveway, Off Street', 'Attached Garage, Basement, Driveway, Garage - 2 Car', '2 Car Attchd Garage, RV/Boat Space (Pvt)', 'Asphalt Driveway, Paved Driveway, Surface, Off Street', 'Common, Garage Door Opener, Workshop in Garage', 'Driveway, Garage Faces Side, Parking Pad', 'Detached Garage, Parking Space - 4+', 'Dirt Driveway, Private, Off Street', '2 Carport, 3 Car Garage, Detached Garage, Heated', 'Detached, Detached, DRVWY, PAVED', 'Boat, Carport, Carport Detached, Parking for Guests, Parking Space, Private, RV Access, RV Paved, RV Possible', 'Stone Driveway, Detached Garage, Off Street', 'Fenced, Parking Space Conveys, Paved Parking, Private, Secure Parking, Attached Garage', '2 Car Garage, Attached Garage, On Street', 'Building & Grounds, Concierge, Limited Access, Recreational Facilities, Trash, Valet Parking', 'Parking Space Conveys, Secure Parking, Assigned, Attached Garage, Parking Lot', 'Attached Garage, Detached Garage, Garage - 2 Car, Garage Door Opener, Parking Space - 2, Side Load Garage', 'Carport - 1, Spaces - Assigned', 'Detached, Electric Door Opener, Tandem Garage, Slab Parking Spaces', 'Boat, Circular Driveway, Driveway, Garage Door Opener, Garage Faces Side, Golf Cart Parking, Guest, Oversized, Split Garage, Workshop in Garage', 'Assigned, Parking Space Conveys, Detached Garage', 'On Street, Carport, Detached Garage', 'Assigned, Garage Door Opener, Guest, Oversized, Tandem, Under Building', '2 Car Garage, Detached, Main Level, Off Street Parking', '1 Car Garage, Attached, Basement, Off Street Parking', '118 spaces', 'Separate Strge Area, RV Gate, Slab Parking Spaces', 'Carport - 1 Car, Detached Garage, Driveway, Garage - 1 Car, Garage Door Opener, Parking Space - 4+', 'Concrete Driveway, Electric Vehicle Charging Station(s), Lighted Parking, Under Home Parking, Attached Garage', 'Concrete Driveway, Fenced, Private, Alley', 'Carport - 2 Car, Detached Garage, Garage - 4+ Car', 'Carport, Side/Rear Entrance', '2 Attached Carport', 'Unassigned, CONCR', '3 Car Garage, Detached Garage, Heated', '2 Car Carport, Detached, Front Loading, Main Level, Off Street Parking', '3 Car Or More, Detached', 'Boat, Circular Driveway, Driveway, Garage Door Opener, Guest, Off Street', 'Driveway, Guest Parking, Street Parking', '1 Car Carport, Main Level, Off Street Parking', 'Detached, PAVED', 'Garage - 2 Car, Parking Deck', 'Detached Garage, Garage - 2 Car, Garage Door Opener, Keypad Entry, Parking Space - 2', '\"Attchd Gar Cabinets, Electric Door Opener, Extnded Lngth Garage, Over Height Garage, Separate Strge Area, Side Vehicle Entry, RV Gate, RV Parking, RV Garage, Slab Parking Spaces\"', 'Common, Curb Parking, Guest, Open', ', RV / Boat Parking', '2 Car Garage, Attached, Basement, Garage Door Opener, Main Level, Off-Street Parking, Side/Rear Entry', 'Electric Vehicle Charging Station(s), Assigned, Lighted Parking, Attached Garage', 'Asphalt Driveway, Attached Garage, Off Street', 'Assigned, Attendant, Secure Parking, Attached Garage, Driveway', '\"Attchd Gar Cabinets, Electric Door Opener, Extnded Lngth Garage, Separate Strge Area, RV Gate, Temp Controlled, Dir Entry frm Garage, Carport Spaces\"', 'Driveway, Shared Driveway', 'Concrete Driveway, Unassigned, Surface, Paved Parking, Off Street, On Street', 'Basement, Detached', 'Paved Driveway, Off Street, Detached Garage', 'Deed Restrictions, Fitness, Gated Community, Golf Carts OK, No Truck/RV/Motorcycle Parking, Pool, Special Community Restrictions']\n"
     ]
    }
   ],
   "source": [
    "# уберем лишние кавычки и изучим подробнее содержание\n",
    "df['Parking'] = df['Parking'].str.replace(\"'\",'', regex=True)\n",
    "print(list(df['Parking'].unique()))"
   ]
  },
  {
   "cell_type": "code",
   "execution_count": 282,
   "metadata": {},
   "outputs": [
    {
     "name": "stdout",
     "output_type": "stream",
     "text": [
      "Процент не заполненных строк в столбце Parking: 45.6 %\n"
     ]
    }
   ],
   "source": [
    "# Проверим процентное соотношение незаполненных данных в столбце\n",
    "Parking_nodata = round(((df[df['Parking']==''].shape[0]) / (df['Parking'].shape[0]) * 100), 1)\n",
    "print(f\"Процент не заполненных строк в столбце Parking: {Parking_nodata} %\")"
   ]
  },
  {
   "cell_type": "markdown",
   "metadata": {},
   "source": [
    "Процент пропущенных данных приближается к 50 %, а еще есть значительная часть данных с некорректными значениями...<br>\n",
    "Столбец следует удалить так как он не несет значительнйо смысловой нагрузки из-за отсутствия большого количества данных, а так же не соответствияе данных заявленному названию столбца."
   ]
  },
  {
   "cell_type": "code",
   "execution_count": null,
   "metadata": {},
   "outputs": [],
   "source": [
    "# Удаляем не нужные столбцы\n",
    "df.drop(['Parking'], axis=1, inplace=True)"
   ]
  },
  {
   "cell_type": "markdown",
   "metadata": {},
   "source": [
    "Столбец lotsize показывает площадь дома или участка, для нашей задачи информация не интересная, удаляем его.<br>\n",
    "Столбец Price/sqft создает утечку данных, удаляем его."
   ]
  },
  {
   "cell_type": "code",
   "execution_count": 283,
   "metadata": {},
   "outputs": [],
   "source": [
    "# удаляем лишние и отработанные столбцы\n",
    "df = df.drop(['homeFacts', 'Remodeled year', 'lotsize', 'Price/sqft', 'Heating'], axis=1)"
   ]
  },
  {
   "cell_type": "markdown",
   "metadata": {},
   "source": [
    "### Обработка целевого признака target"
   ]
  },
  {
   "cell_type": "code",
   "execution_count": 284,
   "metadata": {},
   "outputs": [
    {
     "data": {
      "text/plain": [
       "array(['$418,000', '$310,000', '$2,895,000', '$2,395,000', '$5,000',\n",
       "       '$209,000', '181,500', '68,000', '$244,900', '$311,995'],\n",
       "      dtype=object)"
      ]
     },
     "execution_count": 284,
     "metadata": {},
     "output_type": "execute_result"
    }
   ],
   "source": [
    "# Проверим содержание таргета\n",
    "df['target'].unique()[0:10]"
   ]
  },
  {
   "cell_type": "code",
   "execution_count": 286,
   "metadata": {},
   "outputs": [
    {
     "name": "stdout",
     "output_type": "stream",
     "text": [
      "0.66\n"
     ]
    }
   ],
   "source": [
    "# Проверим процентное соотношение пропусков в тарегете\n",
    "round((df['target'].isnull().mean()*100), 2)"
   ]
  },
  {
   "cell_type": "markdown",
   "metadata": {},
   "source": [
    "В столбце таргете имеются, в добавок строки, где нет таргета не информативны в модели регрессии, так как у нас нет возможности оценить качество модели. Поэтому эти строки удаляем."
   ]
  },
  {
   "cell_type": "code",
   "execution_count": 287,
   "metadata": {},
   "outputs": [],
   "source": [
    "# Удаляем строки, где нет таргета\n",
    "df = df.dropna(subset=['target'])"
   ]
  },
  {
   "cell_type": "code",
   "execution_count": 288,
   "metadata": {},
   "outputs": [],
   "source": [
    "# Уберем излишние символы\n",
    "df['target'] = df['target'].replace('\\$', '', regex=True)\n",
    "df['target'] = df['target'].replace(',', '', regex=True)\n",
    "df['target'] = df['target'].replace('\\+', '', regex=True)"
   ]
  },
  {
   "cell_type": "markdown",
   "metadata": {},
   "source": [
    "В данных имеется значение \"/mo\", предположим чот это цена за месяц. Проверим статус таких объектов. Цена указанная в таком формате для наших дальнейших целей не подойдет - удаляем строки с такими данными<br>"
   ]
  },
  {
   "cell_type": "code",
   "execution_count": 289,
   "metadata": {},
   "outputs": [],
   "source": [
    "# Статус объектов с ценой /mo\n",
    "df[df['target'].str.contains('/mo',regex=True)].head()\n",
    "\n",
    "# статус таких квартир For rent\n",
    "# удаляем эти строки\n",
    "df = df[~df['target'].str.contains('/mo', regex=True)]"
   ]
  },
  {
   "cell_type": "code",
   "execution_count": 57,
   "metadata": {},
   "outputs": [],
   "source": [
    "# Переведем столбец в числовое значение\n",
    "df['target'] = df['target'].astype(int)"
   ]
  },
  {
   "cell_type": "code",
   "execution_count": 58,
   "metadata": {},
   "outputs": [
    {
     "name": "stdout",
     "output_type": "stream",
     "text": [
      "<class 'pandas.core.frame.DataFrame'>\n",
      "Int64Index: 374249 entries, 0 to 377134\n",
      "Data columns (total 16 columns):\n",
      " #   Column                Non-Null Count   Dtype  \n",
      "---  ------                --------------   -----  \n",
      " 0   status                374249 non-null  object \n",
      " 1   propertyType          374249 non-null  object \n",
      " 2   street                374249 non-null  object \n",
      " 3   baths                 374249 non-null  float64\n",
      " 4   city                  374249 non-null  object \n",
      " 5   sqft                  374249 non-null  int32  \n",
      " 6   zipcode               374249 non-null  object \n",
      " 7   state                 374249 non-null  object \n",
      " 8   target                374249 non-null  int32  \n",
      " 9   private_pool_final    374249 non-null  bool   \n",
      " 10  beds_final            374249 non-null  float64\n",
      " 11  schools_rating        374249 non-null  float64\n",
      " 12  school_distance_min   374249 non-null  float64\n",
      " 13  Year built            374249 non-null  object \n",
      " 14  Remodeled year_final  374249 non-null  bool   \n",
      " 15  Heating_final         374249 non-null  bool   \n",
      "dtypes: bool(3), float64(4), int32(2), object(7)\n",
      "memory usage: 38.2+ MB\n"
     ]
    }
   ],
   "source": [
    "df.info()"
   ]
  },
  {
   "cell_type": "markdown",
   "metadata": {},
   "source": [
    "## *Выводы по первой части работы:*\n",
    "- Подробно изучили и проанализированли предоставленные данные,\n",
    "- Преобразовали и по возможности дополнили данные,\n",
    "- Сократили количество полезных столбцов, \n",
    "- Почистили данные от дубликатов,\n",
    "- Избавились от избыточных данных\n",
    "- Данные сохраняем в файл, чтоб далее было удобнее работать"
   ]
  },
  {
   "cell_type": "code",
   "execution_count": 292,
   "metadata": {},
   "outputs": [],
   "source": [
    "# сохраняем предобработанные данные в CSV-файл для упрощения дальнейшей работы\n",
    "df.to_csv(r\"D:\\Diplom\\cleaned_data.csv\", index=False)"
   ]
  }
 ],
 "metadata": {
  "kernelspec": {
   "display_name": "Python 3",
   "language": "python",
   "name": "python3"
  },
  "language_info": {
   "codemirror_mode": {
    "name": "ipython",
    "version": 3
   },
   "file_extension": ".py",
   "mimetype": "text/x-python",
   "name": "python",
   "nbconvert_exporter": "python",
   "pygments_lexer": "ipython3",
   "version": "3.11.5"
  },
  "orig_nbformat": 4
 },
 "nbformat": 4,
 "nbformat_minor": 2
}
